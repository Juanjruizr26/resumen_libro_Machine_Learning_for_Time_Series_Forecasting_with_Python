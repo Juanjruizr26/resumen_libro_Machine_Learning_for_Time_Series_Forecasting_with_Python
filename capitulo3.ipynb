{
 "cells": [
  {
   "cell_type": "markdown",
   "metadata": {},
   "source": [
    "# **PREPARACIÓN DE DATOS PARA SERIES DE TIEMPO**"
   ]
  },
  {
   "cell_type": "markdown",
   "metadata": {},
   "source": [
    "La preparación de datos es la práctica de transformar datos no procesados para que los científicos de datos puedan ejecutar algoritmos\n",
    "de aprendizaje automático para descubrir ideas y, en última instancia, realizar predicciones.\n",
    "\n",
    "Cada algoritmo de aprendizaje automático espera datos como entrada que\n",
    "deben formatearse de una manera muy específica, por lo que los conjuntos de datos de series de tiempo generalmente requieren algunos procesos de limpieza e ingeniería de características antes de que puedan generar ideas útiles. Los conjuntos de datos de series de tiempo pueden tener valores faltantes o contener valores atípicos, por lo tanto, la necesidad de la fase de preparación y limpieza de datos es esencial.\n",
    "\n",
    "Dado que los datos de series de tiempo tienen propiedades temporales, solo algunas de las metodologías estadísticas son apropiadas para estos\n",
    "datos.\n",
    "\n",
    "Una buena preparación de datos de series de tiempo produce datos limpios y bien curados, lo que conduce a predicciones más prácticas y precisas."
   ]
  },
  {
   "cell_type": "markdown",
   "metadata": {},
   "source": [
    "## **Python para Datos de Series de Tiempo**"
   ]
  },
  {
   "cell_type": "markdown",
   "metadata": {},
   "source": [
    "Python contiene excelente soporte en librerías. Varias de ellas se muestran en la Figura 3.1, para manejar datos de series de tiempo.\n",
    "\n",
    "![**Figura 3.1**: Descripción general de las bibliotecas de Python para\n",
    "datos de series temporales](figura3.1.png)\n",
    "\n",
    "**Figura 3.1:** Descripción general de las bibliotecas de Python para datos de series de tiempo\n",
    "\n",
    "Tal como se muestra en la Figura 3.1, SciPy es un ecosistema basado en\n",
    "Python de software de código abierto para matemáticas, ciencia e ingeniería. SciPy está diseñado para trabajar con matrices NumPy y proporciona\n",
    "muchas rutinas numéricas eficientes y amigables para el usuario, como\n",
    "rutinas para integración numérica y optimización. Son fáciles de usar,\n",
    "instalar y ejecutar en todos los sistemas operativos populares.\n",
    " Más información en los siguientes enlances:\n",
    "\n",
    "-   Sitio web: scipy.org/\n",
    "\n",
    "-   Documentación: docs.scipy.org/\n",
    "\n",
    "-   Código fuente: github.com/scipy/scipy\n",
    "\n",
    "-   Reportes de errores: github.com/scipy/scipy/issues\n",
    "\n",
    "-   Código de conducta: scipy.github.io/devdocs/dev/conduct/code_of_conduct.html\n",
    "\n",
    "NumPy es un paquete fundamental para computación científica con Python.\n",
    "Puede ser usada como contenedor multidimensional de datos genéricos.\n",
    "Para mayor información:\n",
    "\n",
    "-   Sitio web: numpy.org\n",
    "\n",
    "-   Documentación: docs.scipy.org/\n",
    "\n",
    "-   fuente: github.com/numpy/numpy\n",
    "\n",
    "-   Reportes de errores: github.com/numpy/numpy/issues\n",
    "\n",
    "-   Contribuciones: numpy.org/devdocs/dev/index.html\n",
    "\n",
    "Matplotlib permite la visualización de datos construida sobre matrices\n",
    "de NumPy y también trabajar con el conjunto de más amplio de SciPy. Es\n",
    "útil para graficar datos que permite a los científicos de datos crear\n",
    "visualizaciones dinámicas e interactivas. Para mayor información:\n",
    "\n",
    "-   Sitio web: matplotlib.org/\n",
    "\n",
    "-   Documentación: matplotlib.org/users/index.html\n",
    "\n",
    "-   Código fuente: github.com/matplotlib/matplotlib\n",
    "\n",
    "-   Reportes de errores: github.com/matplotlib/matplotlib/issues\n",
    "\n",
    "-   Contribuciones: matplotlib.org/devdocs/devel/contributing.html\n",
    "\n",
    "Pandas construida sobre el paquete NumPy, es una herramienta muy útil y popular entre los científicos de datos para importar y analizar datos. La estructura principal de datos en pandas es el **DataFrame**, que es una tabla de datos con filas y columnas nombradas. Pandas ofrece funcionalidades específicas para\n",
    "series de timepo, como la generación de rangos de fechas, la\n",
    "conversión de frecuencias, estadísticas de ventanas móviles, cambio\n",
    "de fechas y desfase. Se puede encontrar más información sobre pandas\n",
    "en los siguientes enlaces:\n",
    "\n",
    "-   Sitio web: pandas.pydata.org/\n",
    "\n",
    "-   Documentación: pandas.pydata.org/docs/user_guide/index.html\n",
    "\n",
    "-   Código fuente: github.com/pandas-dev/pandas\n",
    "\n",
    "-   Reportes de errores: github.com/pandas-dev/pandas/issues\n",
    "\n",
    "-   Contribuciones: pandas.pydata.org/docs/development/index.html\n",
    "\n",
    "statsmodels es un módulo de Python que soporta una amplia gama de funciones y clases estadísticas utilizando DataFrames de pandas. También es utilizado para realizar pruebas estadísticas y exploración de datos estadísticos. Puedes encontrar más información sobre statsmodels en los siguientes enlaces:\n",
    "\n",
    "-   Sitio web: statsmodels.org/\n",
    "\n",
    "-   Documentación: statsmodels.org/stable/user-guide.html\n",
    "\n",
    "-   Código fuente: github.com/statsmodels/statsmodels\n",
    "\n",
    "-   Reportes de errores: github.com/statsmodels/statsmodels/issues\n",
    "\n",
    "-   Contribuciones:\n",
    "    github.com/statsmodels/statsmodels/blob/master/CONTRIBUTING.rst\n",
    "\n",
    "scikit-learn es una biblioteca mayormente escrita en Python y\n",
    "construida sobre NumPy, SciPy y Matplotlib. Esta biblioteca ofrece\n",
    "muchas capacidades útiles para el aprendizaje automático y la\n",
    "modelización estadística, incluyendo máquinas de vectores de\n",
    "soporte, bosques aleatorios, k-vecinos, clasificación, regresión y\n",
    "clustering. Puedes encontrar más información sobre scikit-learn en\n",
    "los siguientes enlaces:\n",
    "\n",
    "-   Sitio web: scikit-learn.org/stable/\n",
    "\n",
    "-   Documentación: scikit-learn.org/stable/user_guide.html\n",
    "\n",
    "-   Código fuente: github.com/scikit-learn/scikit-learn\n",
    "\n",
    "-   Reportes de errores: github.com/scikit-learn/scikit-learn/issues\n",
    "\n",
    "-   Contribuciones: scikit-learn.org/stable/developers/contributing.html"
   ]
  },
  {
   "cell_type": "markdown",
   "metadata": {},
   "source": [
    "### **Operaciones comunes de preparación de datos para series de tiempo**"
   ]
  },
  {
   "cell_type": "markdown",
   "metadata": {},
   "source": [
    "pandas ofrece una variedad de capacidades para\n",
    "respaldar datos de series de tiempo. Los siguientes aspectos son\n",
    "importantes para el pronóstico de series de tiempo en pandas:\n",
    "\n",
    "-   Interpretación de información de series de tiempo desde diversas fuentes y formatos.\n",
    "\n",
    "-   Generación de secuencias de fechas y lapsos de tiempo de frecuencia fija.\n",
    "\n",
    "-   Manipulación y conversión de fechas y horas con información de zona horaria.\n",
    "\n",
    "-   Remuestreo o conversión de una serie temporal a una frecuencia específica.\n",
    "\n",
    "-   Realización de operaciones aritméticas con fechas y horas, ya sea\n",
    "con incrementos de tiempo absolutos o relativos.\n",
    "\n",
    "Pandas abarca cuatro conceptos generales relacionados con el tiempo:\n",
    "\n",
    "-   Fecha y hora.\n",
    "-   Deltas de tiempo.\n",
    "-   Intervalos de tiempo.\n",
    "-   Desplazamientos de fecha.\n",
    "\n",
    "**Tabla 3.1:** Cuatro conceptos generales relacionados con el tiempo\n",
    "admitidos en pandas\n",
    "\n",
    "![hola](tabla3.1.png)\n",
    "\n",
    "-   *Scalar*: valor numérico único que define un espacio vectorial. Una cantidad descrita por múltiples escalares, como tener una dirección y una magnitud, se llama vector.\n",
    "\n",
    "-   *Array*: es una clase de matriz que contiene un número fijo de valores del mismo tipo de dato.\n",
    "\n",
    "-   *Tipo de dato*: representa el tipo de valores de un conjunto de datos que se utiliza para comprender cómo almacenar y manipular datos.\n",
    "\n",
    "-   *Método de creación principal*: grupo de funciones y operaciones que se suelen escribir y utilizar para realizar un conjunto de acciones en datos.\n"
   ]
  },
  {
   "cell_type": "markdown",
   "metadata": {},
   "source": [
    "### **Marcas de tiempo vs Periodos**"
   ]
  },
  {
   "cell_type": "markdown",
   "metadata": {},
   "source": [
    "La librería pandas brinda un fuerte soporte para analizar datos de\n",
    "series de tiempo. Se aborda la previsión de la demanda energética como\n",
    "ejemplo. Esta práctica implica predecir la demanda futura basándose en\n",
    "datos históricos, lo que permite tomar decisiones empresariales\n",
    "informadas para la planificación de inventario, asignación de recursos y\n",
    "estimación de costos. La previsión de la demanda energética es un tipo\n",
    "de previsión de la demanda en la que el objetivo es predecir la carga\n",
    "futura (o demanda de energía) en una red energética. Por lo general, los\n",
    "operadores de redes pueden tomar decisiones a corto plazo para gestionar\n",
    "el suministro de energía y mantener el equilibrio de la carga. Este\n",
    "escenario detalla la construcción de una solución de previsión de\n",
    "demanda de energía mediante aprendizaje automático.\n",
    "\n",
    "El concepto de datos con marcas de tiempo implica asociar valores con\n",
    "momentos específicos en el tiempo. Esto es fundamental en las series de\n",
    "tiempo y permite aprovechar la información temporal de cada punto de\n",
    "datos en un conjunto. Esto se ilustra en el siguiente código de ejemplo."
   ]
  },
  {
   "cell_type": "code",
   "execution_count": 53,
   "metadata": {},
   "outputs": [
    {
     "data": {
      "text/plain": [
       "Timestamp('2014-06-01 00:00:00')"
      ]
     },
     "execution_count": 53,
     "metadata": {},
     "output_type": "execute_result"
    }
   ],
   "source": [
    "import pandas as pd\n",
    "import datetime as dt\n",
    "import numpy as np\n",
    "pd.Timestamp(dt.datetime(2014, 5, 1))\n",
    "# or we can use\n",
    "pd.Timestamp('2014-06-01')\n",
    "# or we can use\n",
    "pd.Timestamp(2014, 6, 1)"
   ]
  },
  {
   "cell_type": "markdown",
   "metadata": {},
   "source": [
    "En ciertos casos, resulta beneficioso vincular los datos de un conjunto\n",
    "a intervalos de tiempo en vez de momentos precisos. Estos intervalos de\n",
    "tiempo, representados por `Period`, pueden ser inferidos a partir del\n",
    "formato de cadena de fecha y hora como se muestra en el siguiente ejemplo, donde 'M' significa mes. "
   ]
  },
  {
   "cell_type": "code",
   "execution_count": 54,
   "metadata": {},
   "outputs": [
    {
     "data": {
      "text/plain": [
       "Period('2014-06', 'M')"
      ]
     },
     "execution_count": 54,
     "metadata": {},
     "output_type": "execute_result"
    }
   ],
   "source": [
    "pd.Period('2014-06')"
   ]
  },
  {
   "cell_type": "markdown",
   "metadata": {},
   "source": [
    "El intervalo de tiempo representado por `Period` también puede\n",
    "especificarse explícitamente en el siguiente códifo donde 'D' representa día. "
   ]
  },
  {
   "cell_type": "code",
   "execution_count": 55,
   "metadata": {},
   "outputs": [
    {
     "data": {
      "text/plain": [
       "Period('2014-06-01', 'D')"
      ]
     },
     "execution_count": 55,
     "metadata": {},
     "output_type": "execute_result"
    }
   ],
   "source": [
    "pd.Period('2014-06', freq='D')"
   ]
  },
  {
   "cell_type": "markdown",
   "metadata": {},
   "source": [
    "Los marca de tiempo `Timestamp` y `Period`\n",
    "también pueden usarse como índices: en este caso, las listas de `Timestamp` y `Period` se convierten automáticamente en índices de fecha y hora `DatetimeIndex` y `PeriodIndex` respectivamente."
   ]
  },
  {
   "cell_type": "code",
   "execution_count": 56,
   "metadata": {},
   "outputs": [
    {
     "data": {
      "text/plain": [
       "pandas.core.indexes.datetimes.DatetimeIndex"
      ]
     },
     "execution_count": 56,
     "metadata": {},
     "output_type": "execute_result"
    }
   ],
   "source": [
    "dates = [pd.Timestamp('2014-06-01'),\n",
    " pd.Timestamp('2014-06-02'),\n",
    " pd.Timestamp('2014-06-03')]\n",
    "ts_data = pd.Series(np.random.randn(3), dates)\n",
    "type(ts_data.index)"
   ]
  },
  {
   "cell_type": "markdown",
   "metadata": {},
   "source": [
    "Para ver el formato del índice:"
   ]
  },
  {
   "cell_type": "code",
   "execution_count": 57,
   "metadata": {},
   "outputs": [
    {
     "data": {
      "text/plain": [
       "DatetimeIndex(['2014-06-01', '2014-06-02', '2014-06-03'], dtype='datetime64[ns]', freq=None)"
      ]
     },
     "execution_count": 57,
     "metadata": {},
     "output_type": "execute_result"
    }
   ],
   "source": [
    "ts_data.index"
   ]
  },
  {
   "cell_type": "markdown",
   "metadata": {},
   "source": [
    "Resultado de la marca de tiempo:"
   ]
  },
  {
   "cell_type": "code",
   "execution_count": 58,
   "metadata": {},
   "outputs": [
    {
     "data": {
      "text/plain": [
       "2014-06-01   -0.35\n",
       "2014-06-02   -0.25\n",
       "2014-06-03   -0.38\n",
       "dtype: float64"
      ]
     },
     "execution_count": 58,
     "metadata": {},
     "output_type": "execute_result"
    }
   ],
   "source": [
    "ts_data"
   ]
  },
  {
   "cell_type": "markdown",
   "metadata": {},
   "source": [
    "El ejercicio anterior con `Period` se vería así:"
   ]
  },
  {
   "cell_type": "code",
   "execution_count": 59,
   "metadata": {},
   "outputs": [
    {
     "data": {
      "text/plain": [
       "2014-01    0.63\n",
       "2014-02    1.22\n",
       "2014-03   -0.84\n",
       "Freq: M, dtype: float64"
      ]
     },
     "execution_count": 59,
     "metadata": {},
     "output_type": "execute_result"
    }
   ],
   "source": [
    "periods = [pd.Period('2014-01'), pd.Period('2014-02'), pd.Period\n",
    "('2014-03')]\n",
    "ts_data = pd.Series(np.random.randn(3), periods)\n",
    "type(ts_data.index)\n",
    "\n",
    "#formato de indice\n",
    "ts_data.index\n",
    "\n",
    "#resultado de la marca de tiempo\n",
    "ts_data"
   ]
  },
  {
   "cell_type": "markdown",
   "metadata": {},
   "source": [
    "pandas permite capturar ambas representaciones y convertir entre ellas.\n",
    "pandas representa marcas de tiempo usando instancias de `Timestamp` y\n",
    "secuencias de marcas de tiempo usando instancias de Índice de fecha y\n",
    "hora de `DatetimeIndex`."
   ]
  },
  {
   "cell_type": "markdown",
   "metadata": {},
   "source": [
    "### **Conversión a marcas de Tiempo**"
   ]
  },
  {
   "cell_type": "markdown",
   "metadata": {},
   "source": [
    "Por lo general, los científicos de datos representan la componente\n",
    "temporal o las columnas con fechas en los conjuntos de datos como el\n",
    "índice de una Serie o DataFrame. Esto permite realizar manipulaciones de\n",
    "preprocesamiento y limpieza de datos teniendo en cuenta el elemento\n",
    "temporal. El siguiente ejemplo muestra que, al proporcionar una Serie,\n",
    "esto devuelve otra Serie (con el mismo índice)."
   ]
  },
  {
   "cell_type": "code",
   "execution_count": 60,
   "metadata": {},
   "outputs": [
    {
     "data": {
      "text/plain": [
       "0   2012-07-31\n",
       "1   2012-01-10\n",
       "2          NaT\n",
       "dtype: datetime64[ns]"
      ]
     },
     "execution_count": 60,
     "metadata": {},
     "output_type": "execute_result"
    }
   ],
   "source": [
    "pd.to_datetime(pd.Series(['Jul 31, 2012', '2012-01-10', None]))"
   ]
  },
  {
   "cell_type": "markdown",
   "metadata": {},
   "source": [
    "El siguiente ejemplo muestra cuando se pasa una estructura similar a una lista,\n",
    "esta se convierte en un `DatetimeIndex`."
   ]
  },
  {
   "cell_type": "code",
   "execution_count": 61,
   "metadata": {},
   "outputs": [
    {
     "data": {
      "text/plain": [
       "DatetimeIndex(['2012-11-23', '2012-12-31'], dtype='datetime64[ns]', freq=None)"
      ]
     },
     "execution_count": 61,
     "metadata": {},
     "output_type": "execute_result"
    }
   ],
   "source": [
    "pd.to_datetime(['2012/11/23', '2012.12.31'])"
   ]
  },
  {
   "cell_type": "markdown",
   "metadata": {},
   "source": [
    "Finalmente, si se utilizan fechas que comienzan con el día primero, se pueden\n",
    "pasar la bandera `dayfirst`:"
   ]
  },
  {
   "cell_type": "code",
   "execution_count": 62,
   "metadata": {},
   "outputs": [
    {
     "data": {
      "text/plain": [
       "DatetimeIndex(['2014-01-04 10:00:00'], dtype='datetime64[ns]', freq=None)"
      ]
     },
     "execution_count": 62,
     "metadata": {},
     "output_type": "execute_result"
    }
   ],
   "source": [
    "pd.to_datetime(['04-01-2014 10:00'], dayfirst=True)"
   ]
  },
  {
   "cell_type": "markdown",
   "metadata": {},
   "source": [
    "`dayfirst` también funciona con varias fechas, como se muestra en el\n",
    "siguiente ejemplo:"
   ]
  },
  {
   "cell_type": "code",
   "execution_count": 63,
   "metadata": {},
   "outputs": [
    {
     "data": {
      "text/plain": [
       "DatetimeIndex(['2014-01-14', '2012-01-14'], dtype='datetime64[ns]', freq=None)"
      ]
     },
     "execution_count": 63,
     "metadata": {},
     "output_type": "execute_result"
    }
   ],
   "source": [
    "pd.to_datetime(['14-01-2014', '01-14-2012'], dayfirst=True)"
   ]
  },
  {
   "cell_type": "markdown",
   "metadata": {},
   "source": [
    "### **Proporcionando un Argumento de Formato**"
   ]
  },
  {
   "cell_type": "markdown",
   "metadata": {},
   "source": [
    "Además de la cadena de fecha y hora necesaria, se puede pasar un\n",
    "argumento de `format` para garantizar un análisis específico y definir la\n",
    "estructura y el orden de la variable de tiempo, como se muestra en el\n",
    "siguiente ejemplo:"
   ]
  },
  {
   "cell_type": "code",
   "execution_count": 64,
   "metadata": {},
   "outputs": [
    {
     "data": {
      "text/plain": [
       "Timestamp('2018-11-12 00:00:00')"
      ]
     },
     "execution_count": 64,
     "metadata": {},
     "output_type": "execute_result"
    }
   ],
   "source": [
    "pd.to_datetime('2018/11/12', format='%Y/%m/%d')"
   ]
  },
  {
   "cell_type": "markdown",
   "metadata": {},
   "source": [
    "Para ver la hora y minutos"
   ]
  },
  {
   "cell_type": "code",
   "execution_count": 65,
   "metadata": {},
   "outputs": [
    {
     "data": {
      "text/plain": [
       "Timestamp('2018-11-11 00:00:00')"
      ]
     },
     "execution_count": 65,
     "metadata": {},
     "output_type": "execute_result"
    }
   ],
   "source": [
    "pd.to_datetime('11-11-2018 00:00', format='%d-%m-%Y %H:%M')"
   ]
  },
  {
   "cell_type": "markdown",
   "metadata": {},
   "source": [
    "Además, los objetos de `date`, `fecha` y `hora` admiten un método\n",
    "`strftime(format)` para crear una cadena que represente el tiempo bajo el\n",
    "control de un formato explícito. Por otro lado, el método de clase\n",
    "`datetime.strptime()` crea un objeto `datetime` a partir de una cadena que\n",
    "representa una fecha y hora y una cadena de formato correspondiente.\n",
    "\n",
    "La Tabla 3.2 proporciona una comparación de alto nivel entre los métodos\n",
    "`strftime()` y `strptime()`.\n",
    "\n",
    "**Tabla 3.2:** Comparación de las funciones de `strftime()` y `strptime()`\n",
    "![hola](tabla3.3.png)"
   ]
  },
  {
   "cell_type": "markdown",
   "metadata": {},
   "source": [
    "### **Indexing**"
   ]
  },
  {
   "cell_type": "markdown",
   "metadata": {},
   "source": [
    "El método `reindex()` de Pandas es una herramienta esencial para la\n",
    "configuración y alineación de datos. Su utilidad radica en la capacidad\n",
    "de ajustar puntos de datos existentes para que se correspondan con un\n",
    "conjunto específico de etiquetas a lo largo de un eje determinado. Esto\n",
    "resulta especialmente valioso para los científicos de datos que trabajan\n",
    "con conjuntos de datos que dependen de la funcionalidad de alineación\n",
    "basada en etiquetas para análisis y procesamiento.\n",
    "\n",
    "Además, Pandas ofrece el objeto `DatetimeIndex` que se utiliza como\n",
    "índice en estructuras de datos que representan series de tiempo.\n",
    "`DatetimeIndex` no solo proporciona las funcionalidades básicas de los\n",
    "índices estándar, sino que también ofrece métodos avanzados específicos\n",
    "para el procesamiento de series de tiempo. Esto incluye la selección y\n",
    "segmentación de datos basados en fechas y frecuencias temporales. Los\n",
    "ejemplos a continuación, que emplean nuestro conjunto de datos ts_data,\n",
    "ilustran cómo aprovechar estas capacidades para análisis y manipulación\n",
    "de series de tiempo. Antes de continuar, es necesario importar los\n",
    "paquetes de Python necesarios para descargar el conjunto de datos."
   ]
  },
  {
   "cell_type": "code",
   "execution_count": 66,
   "metadata": {},
   "outputs": [],
   "source": [
    "import zipfile\n",
    "import os\n",
    "import sys\n",
    "import pandas as pd\n",
    "\n",
    "# This function unzips the GEFCom2014 data zip file and extracts the 'extended'\n",
    "# load forecasting competition data. Data is saved in energy.csv\n",
    "def extract_data(data_dir):\n",
    "    GEFCom_dir = os.path.join(data_dir, 'GEFCom2014', 'GEFCom2014 Data')\n",
    "\n",
    "    GEFCom_zipfile = os.path.join(data_dir, 'GEFCom2014.zip')\n",
    "    if not os.path.exists(GEFCom_zipfile):\n",
    "        sys.exit(\"Download GEFCom2014.zip from https://www.dropbox.com/s/pqenrr2mcvl0hk9/GEFCom2014.zip?dl=0 and save it to the '{}' directory.\".format(data_dir))\n",
    "\n",
    "    # unzip root directory\n",
    "    zip_ref = zipfile.ZipFile(GEFCom_zipfile, 'r')\n",
    "    zip_ref.extractall(os.path.join(data_dir, 'GEFCom2014'))\n",
    "    zip_ref.close()\n",
    "\n",
    "    # extract the extended competition data\n",
    "    zip_ref = zipfile.ZipFile(os.path.join(GEFCom_dir, 'GEFCom2014-E_V2.zip'), 'r')\n",
    "    zip_ref.extractall(os.path.join(data_dir, 'GEFCom2014-E'))\n",
    "    zip_ref.close()\n",
    "\n",
    "    # load the data from Excel file\n",
    "    data = pd.read_excel(os.path.join(data_dir, 'GEFCom2014-E', 'GEFCom2014-E.xlsx'), parse_dates= True)\n",
    "    # data = pd.read_excel(os.path.join(data_dir, 'GEFCom2014-E', 'GEFCom2014-E.xlsx'), parse_date='Date')\n",
    "\n",
    "    # create timestamp variable from Date and Hour\n",
    "    data['timestamp'] = data['Date'].add(pd.to_timedelta(data.Hour - 1, unit='h'))\n",
    "    data = data[['timestamp', 'load', 'T']]\n",
    "    data = data.rename(columns={'T':'temp'})\n",
    "\n",
    "    # remove time period with no load data\n",
    "    data = data[data.timestamp >= '2012-01-01']\n",
    "\n",
    "    # save to csv\n",
    "    data.to_csv(os.path.join(data_dir, 'energy.csv'), index=False)\n"
   ]
  },
  {
   "cell_type": "code",
   "execution_count": 67,
   "metadata": {},
   "outputs": [],
   "source": [
    "import numpy as np\n",
    "import pandas as pd\n",
    "import os\n",
    "from collections import UserDict\n",
    "\n",
    "def load_data(data_dir):\n",
    "    \"\"\"Load the GEFCom 2014 energy load data\"\"\"\n",
    "\n",
    "    energy = pd.read_csv(os.path.join(data_dir, 'energy.csv'), parse_dates=['timestamp'])\n",
    "\n",
    "    # Reindex the dataframe such that the dataframe has a record for every time point\n",
    "    # between the minimum and maximum timestamp in the time series. This helps to \n",
    "    # identify missing time periods in the data (there are none in this dataset).\n",
    "\n",
    "    energy.index = energy['timestamp']\n",
    "    energy = energy.reindex(pd.date_range(min(energy['timestamp']),\n",
    "                                          max(energy['timestamp']),\n",
    "                                          freq='H'))\n",
    "    energy = energy.drop('timestamp', axis=1)\n",
    "\n",
    "    return energy\n",
    "\n",
    "\n",
    "def mape(predictions, actuals):\n",
    "    \"\"\"Mean absolute percentage error\"\"\"\n",
    "    return ((predictions - actuals).abs() / actuals).mean()\n",
    "\n",
    "\n",
    "def create_evaluation_df(predictions, test_inputs, H, scaler):\n",
    "    \"\"\"Create a data frame for easy evaluation\"\"\"\n",
    "    eval_df = pd.DataFrame(predictions, columns=['t+'+str(t) for t in range(1, H+1)])\n",
    "    eval_df['timestamp'] = test_inputs.dataframe.index\n",
    "    eval_df = pd.melt(eval_df, id_vars='timestamp', value_name='prediction', var_name='h')\n",
    "    eval_df['actual'] = np.transpose(test_inputs['target']).ravel()\n",
    "    eval_df[['prediction', 'actual']] = scaler.inverse_transform(eval_df[['prediction', 'actual']])\n",
    "    return eval_df\n",
    "\n",
    "\n",
    "class TimeSeriesTensor(UserDict):\n",
    "    \"\"\"A dictionary of tensors for input into the RNN model.\n",
    "    \n",
    "    Use this class to:\n",
    "      1. Shift the values of the time series to create a Pandas dataframe containing all the data\n",
    "         for a single training example\n",
    "      2. Discard any samples with missing values\n",
    "      3. Transform this Pandas dataframe into a numpy array of shape \n",
    "         (samples, time steps, features) for input into Keras\n",
    "\n",
    "    The class takes the following parameters:\n",
    "       - **dataset**: original time series\n",
    "       - **target** name of the target column\n",
    "       - **H**: the forecast horizon\n",
    "       - **tensor_structures**: a dictionary discribing the tensor structure of the form\n",
    "             { 'tensor_name' : (range(max_backward_shift, max_forward_shift), [feature, feature, ...] ) }\n",
    "             if features are non-sequential and should not be shifted, use the form\n",
    "             { 'tensor_name' : (None, [feature, feature, ...])}\n",
    "       - **freq**: time series frequency (default 'H' - hourly)\n",
    "       - **drop_incomplete**: (Boolean) whether to drop incomplete samples (default True)\n",
    "    \"\"\"\n",
    "    \n",
    "    def __init__(self, dataset, target, H, tensor_structure, freq='H', drop_incomplete=True):\n",
    "        self.dataset = dataset\n",
    "        self.target = target\n",
    "        self.tensor_structure = tensor_structure\n",
    "        self.tensor_names = list(tensor_structure.keys())\n",
    "        \n",
    "        self.dataframe = self._shift_data(H, freq, drop_incomplete)\n",
    "        self.data = self._df2tensors(self.dataframe)\n",
    "    \n",
    "    def _shift_data(self, H, freq, drop_incomplete):\n",
    "        \n",
    "        # Use the tensor_structures definitions to shift the features in the original dataset.\n",
    "        # The result is a Pandas dataframe with multi-index columns in the hierarchy\n",
    "        #     tensor - the name of the input tensor\n",
    "        #     feature - the input feature to be shifted\n",
    "        #     time step - the time step for the RNN in which the data is input. These labels\n",
    "        #         are centred on time t. the forecast creation time\n",
    "        df = self.dataset.copy()\n",
    "        \n",
    "        idx_tuples = []\n",
    "        for t in range(1, H+1):\n",
    "            df['t+'+str(t)] = df[self.target].shift(t*-1, freq=freq)\n",
    "            idx_tuples.append(('target', 'y', 't+'+str(t)))\n",
    "\n",
    "        for name, structure in self.tensor_structure.items():\n",
    "            rng = structure[0]\n",
    "            dataset_cols = structure[1]\n",
    "            \n",
    "            for col in dataset_cols:\n",
    "            \n",
    "            # do not shift non-sequential 'static' features\n",
    "                if rng is None:\n",
    "                    df['context_'+col] = df[col]\n",
    "                    idx_tuples.append((name, col, 'static'))\n",
    "\n",
    "                else:\n",
    "                    for t in rng:\n",
    "                        sign = '+' if t > 0 else ''\n",
    "                        shift = str(t) if t != 0 else ''\n",
    "                        period = 't'+sign+shift\n",
    "                        shifted_col = name+'_'+col+'_'+period\n",
    "                        df[shifted_col] = df[col].shift(t*-1, freq=freq)\n",
    "                        idx_tuples.append((name, col, period))\n",
    "                \n",
    "        df = df.drop(self.dataset.columns, axis=1)\n",
    "        idx = pd.MultiIndex.from_tuples(idx_tuples, names=['tensor', 'feature', 'time step'])\n",
    "        df.columns = idx\n",
    "\n",
    "        if drop_incomplete:\n",
    "            df = df.dropna(how='any')\n",
    "\n",
    "        return df\n",
    "    \n",
    "    def _df2tensors(self, dataframe):\n",
    "        \n",
    "        # Transform the shifted Pandas dataframe into the multidimensional numpy arrays. These\n",
    "        # arrays can be used to input into the keras model and can be accessed by tensor name.\n",
    "        # For example, for a TimeSeriesTensor object named \"model_inputs\" and a tensor named\n",
    "        # \"target\", the input tensor can be acccessed with model_inputs['target']\n",
    "    \n",
    "        inputs = {}\n",
    "        y = dataframe['target']\n",
    "        y = y.as_matrix()\n",
    "        inputs['target'] = y\n",
    "\n",
    "        for name, structure in self.tensor_structure.items():\n",
    "            rng = structure[0]\n",
    "            cols = structure[1]\n",
    "            tensor = dataframe[name][cols].as_matrix()\n",
    "            if rng is None:\n",
    "                tensor = tensor.reshape(tensor.shape[0], len(cols))\n",
    "            else:\n",
    "                tensor = tensor.reshape(tensor.shape[0], len(cols), len(rng))\n",
    "                tensor = np.transpose(tensor, axes=[0, 2, 1])\n",
    "            inputs[name] = tensor\n",
    "\n",
    "        return inputs\n",
    "       \n",
    "    def subset_data(self, new_dataframe):\n",
    "        \n",
    "        # Use this function to recreate the input tensors if the shifted dataframe\n",
    "        # has been filtered.\n",
    "        \n",
    "        self.dataframe = new_dataframe\n",
    "        self.data = self._df2tensors(self.dataframe)"
   ]
  },
  {
   "cell_type": "code",
   "execution_count": 68,
   "metadata": {},
   "outputs": [],
   "source": [
    "# import necessary Python packages to download the data set\n",
    "import os\n",
    "pd.options.display.float_format = '{:,.2f}'.format\n",
    "np.set_printoptions(precision=2)"
   ]
  },
  {
   "cell_type": "markdown",
   "metadata": {},
   "source": [
    "Ahora cargamos el ts_data_set:\n"
   ]
  },
  {
   "cell_type": "code",
   "execution_count": 69,
   "metadata": {},
   "outputs": [],
   "source": [
    "# download ts_data set\n",
    "# change the name of the directory with your folder name\n",
    "data_dir = './energy'\n",
    "if not os.path.exists(os.path.join(data_dir, 'energy.csv')):\n",
    " # download and move the zip file\n",
    " !wget https://mlftsfwp.blob.core.windows.net/mlftsfwp/GEFCom2014.zip\n",
    " !mv GEFCom2014.zip ./energy\n",
    " # if not done already, extract zipped data and save as csv\n",
    " extract_data(data_dir)"
   ]
  },
  {
   "cell_type": "markdown",
   "metadata": {},
   "source": [
    "Finalmente, necesitamos cargar los datos desde un archivo CSV en un DataFrame de Pandas. En el ejemplo específico a continuación, se selecciona y se utiliza solo la columna de carga del conjunto de datos ts_data y se nombra como ts_data_load."
   ]
  },
  {
   "cell_type": "code",
   "execution_count": 70,
   "metadata": {},
   "outputs": [
    {
     "data": {
      "text/html": [
       "<div>\n",
       "<style scoped>\n",
       "    .dataframe tbody tr th:only-of-type {\n",
       "        vertical-align: middle;\n",
       "    }\n",
       "\n",
       "    .dataframe tbody tr th {\n",
       "        vertical-align: top;\n",
       "    }\n",
       "\n",
       "    .dataframe thead th {\n",
       "        text-align: right;\n",
       "    }\n",
       "</style>\n",
       "<table border=\"1\" class=\"dataframe\">\n",
       "  <thead>\n",
       "    <tr style=\"text-align: right;\">\n",
       "      <th></th>\n",
       "      <th>load</th>\n",
       "    </tr>\n",
       "  </thead>\n",
       "  <tbody>\n",
       "    <tr>\n",
       "      <th>2012-01-01 00:00:00</th>\n",
       "      <td>2,698.00</td>\n",
       "    </tr>\n",
       "    <tr>\n",
       "      <th>2012-01-01 01:00:00</th>\n",
       "      <td>2,558.00</td>\n",
       "    </tr>\n",
       "    <tr>\n",
       "      <th>2012-01-01 02:00:00</th>\n",
       "      <td>2,444.00</td>\n",
       "    </tr>\n",
       "    <tr>\n",
       "      <th>2012-01-01 03:00:00</th>\n",
       "      <td>2,402.00</td>\n",
       "    </tr>\n",
       "    <tr>\n",
       "      <th>2012-01-01 04:00:00</th>\n",
       "      <td>2,403.00</td>\n",
       "    </tr>\n",
       "  </tbody>\n",
       "</table>\n",
       "</div>"
      ],
      "text/plain": [
       "                        load\n",
       "2012-01-01 00:00:00 2,698.00\n",
       "2012-01-01 01:00:00 2,558.00\n",
       "2012-01-01 02:00:00 2,444.00\n",
       "2012-01-01 03:00:00 2,402.00\n",
       "2012-01-01 04:00:00 2,403.00"
      ]
     },
     "execution_count": 70,
     "metadata": {},
     "output_type": "execute_result"
    }
   ],
   "source": [
    "# load the data from csv into a pandas dataframe\n",
    "ts_data_load = load_data(data_dir)[['load']]\n",
    "ts_data_load.head()"
   ]
  },
  {
   "cell_type": "markdown",
   "metadata": {},
   "source": [
    "`DatetimeIndex` puede utilizarse como índice para objetos de pandas\n",
    "que contienen estructuras de series de tiempo, como se ilustra en el\n",
    "ejemplo a continuación.\n"
   ]
  },
  {
   "cell_type": "code",
   "execution_count": 71,
   "metadata": {},
   "outputs": [
    {
     "data": {
      "text/plain": [
       "DatetimeIndex(['2012-01-01 00:00:00', '2012-01-01 01:00:00',\n",
       "               '2012-01-01 02:00:00', '2012-01-01 03:00:00',\n",
       "               '2012-01-01 04:00:00', '2012-01-01 05:00:00',\n",
       "               '2012-01-01 06:00:00', '2012-01-01 07:00:00',\n",
       "               '2012-01-01 08:00:00', '2012-01-01 09:00:00',\n",
       "               ...\n",
       "               '2014-12-31 14:00:00', '2014-12-31 15:00:00',\n",
       "               '2014-12-31 16:00:00', '2014-12-31 17:00:00',\n",
       "               '2014-12-31 18:00:00', '2014-12-31 19:00:00',\n",
       "               '2014-12-31 20:00:00', '2014-12-31 21:00:00',\n",
       "               '2014-12-31 22:00:00', '2014-12-31 23:00:00'],\n",
       "              dtype='datetime64[ns]', length=26304, freq='H')"
      ]
     },
     "execution_count": 71,
     "metadata": {},
     "output_type": "execute_result"
    }
   ],
   "source": [
    "ts_data_load.index"
   ]
  },
  {
   "cell_type": "markdown",
   "metadata": {},
   "source": [
    "Ahora, se va a segmentar el conjunto de datos ts_data para\n",
    "acceder solo a partes específicas de las secuencias temporales.\n"
   ]
  },
  {
   "cell_type": "code",
   "execution_count": 72,
   "metadata": {},
   "outputs": [
    {
     "data": {
      "text/plain": [
       "DatetimeIndex(['2012-01-01 00:00:00', '2012-01-01 02:00:00',\n",
       "               '2012-01-01 04:00:00', '2012-01-01 06:00:00',\n",
       "               '2012-01-01 08:00:00', '2012-01-01 10:00:00',\n",
       "               '2012-01-01 12:00:00', '2012-01-01 14:00:00',\n",
       "               '2012-01-01 16:00:00', '2012-01-01 18:00:00',\n",
       "               ...\n",
       "               '2014-12-31 04:00:00', '2014-12-31 06:00:00',\n",
       "               '2014-12-31 08:00:00', '2014-12-31 10:00:00',\n",
       "               '2014-12-31 12:00:00', '2014-12-31 14:00:00',\n",
       "               '2014-12-31 16:00:00', '2014-12-31 18:00:00',\n",
       "               '2014-12-31 20:00:00', '2014-12-31 22:00:00'],\n",
       "              dtype='datetime64[ns]', length=13152, freq='2H')"
      ]
     },
     "execution_count": 72,
     "metadata": {},
     "output_type": "execute_result"
    }
   ],
   "source": [
    "ts_data_load[:5].index\n",
    "ts_data_load[::2].index"
   ]
  },
  {
   "cell_type": "markdown",
   "metadata": {},
   "source": [
    "Para facilitar el acceso a series de tiempo más largas, también se puede\n",
    "proporcionar el año o el año y el mes como cadenas de texto."
   ]
  },
  {
   "cell_type": "code",
   "execution_count": 73,
   "metadata": {},
   "outputs": [
    {
     "data": {
      "text/html": [
       "<div>\n",
       "<style scoped>\n",
       "    .dataframe tbody tr th:only-of-type {\n",
       "        vertical-align: middle;\n",
       "    }\n",
       "\n",
       "    .dataframe tbody tr th {\n",
       "        vertical-align: top;\n",
       "    }\n",
       "\n",
       "    .dataframe thead th {\n",
       "        text-align: right;\n",
       "    }\n",
       "</style>\n",
       "<table border=\"1\" class=\"dataframe\">\n",
       "  <thead>\n",
       "    <tr style=\"text-align: right;\">\n",
       "      <th></th>\n",
       "      <th>load</th>\n",
       "    </tr>\n",
       "  </thead>\n",
       "  <tbody>\n",
       "    <tr>\n",
       "      <th>2012-06-01 00:00:00</th>\n",
       "      <td>2,474.00</td>\n",
       "    </tr>\n",
       "    <tr>\n",
       "      <th>2012-06-01 01:00:00</th>\n",
       "      <td>2,349.00</td>\n",
       "    </tr>\n",
       "    <tr>\n",
       "      <th>2012-06-01 02:00:00</th>\n",
       "      <td>2,291.00</td>\n",
       "    </tr>\n",
       "    <tr>\n",
       "      <th>2012-06-01 03:00:00</th>\n",
       "      <td>2,281.00</td>\n",
       "    </tr>\n",
       "    <tr>\n",
       "      <th>2012-06-01 04:00:00</th>\n",
       "      <td>2,343.00</td>\n",
       "    </tr>\n",
       "    <tr>\n",
       "      <th>2012-06-01 05:00:00</th>\n",
       "      <td>2,518.00</td>\n",
       "    </tr>\n",
       "    <tr>\n",
       "      <th>2012-06-01 06:00:00</th>\n",
       "      <td>2,934.00</td>\n",
       "    </tr>\n",
       "    <tr>\n",
       "      <th>2012-06-01 07:00:00</th>\n",
       "      <td>3,235.00</td>\n",
       "    </tr>\n",
       "    <tr>\n",
       "      <th>2012-06-01 08:00:00</th>\n",
       "      <td>3,348.00</td>\n",
       "    </tr>\n",
       "    <tr>\n",
       "      <th>2012-06-01 09:00:00</th>\n",
       "      <td>3,405.00</td>\n",
       "    </tr>\n",
       "    <tr>\n",
       "      <th>2012-06-01 10:00:00</th>\n",
       "      <td>3,459.00</td>\n",
       "    </tr>\n",
       "    <tr>\n",
       "      <th>2012-06-01 11:00:00</th>\n",
       "      <td>3,479.00</td>\n",
       "    </tr>\n",
       "    <tr>\n",
       "      <th>2012-06-01 12:00:00</th>\n",
       "      <td>3,478.00</td>\n",
       "    </tr>\n",
       "    <tr>\n",
       "      <th>2012-06-01 13:00:00</th>\n",
       "      <td>3,495.00</td>\n",
       "    </tr>\n",
       "    <tr>\n",
       "      <th>2012-06-01 14:00:00</th>\n",
       "      <td>3,473.00</td>\n",
       "    </tr>\n",
       "    <tr>\n",
       "      <th>2012-06-01 15:00:00</th>\n",
       "      <td>3,439.00</td>\n",
       "    </tr>\n",
       "    <tr>\n",
       "      <th>2012-06-01 16:00:00</th>\n",
       "      <td>3,404.00</td>\n",
       "    </tr>\n",
       "    <tr>\n",
       "      <th>2012-06-01 17:00:00</th>\n",
       "      <td>3,337.00</td>\n",
       "    </tr>\n",
       "    <tr>\n",
       "      <th>2012-06-01 18:00:00</th>\n",
       "      <td>3,291.00</td>\n",
       "    </tr>\n",
       "    <tr>\n",
       "      <th>2012-06-01 19:00:00</th>\n",
       "      <td>3,261.00</td>\n",
       "    </tr>\n",
       "    <tr>\n",
       "      <th>2012-06-01 20:00:00</th>\n",
       "      <td>3,309.00</td>\n",
       "    </tr>\n",
       "    <tr>\n",
       "      <th>2012-06-01 21:00:00</th>\n",
       "      <td>3,197.00</td>\n",
       "    </tr>\n",
       "    <tr>\n",
       "      <th>2012-06-01 22:00:00</th>\n",
       "      <td>2,916.00</td>\n",
       "    </tr>\n",
       "    <tr>\n",
       "      <th>2012-06-01 23:00:00</th>\n",
       "      <td>2,619.00</td>\n",
       "    </tr>\n",
       "  </tbody>\n",
       "</table>\n",
       "</div>"
      ],
      "text/plain": [
       "                        load\n",
       "2012-06-01 00:00:00 2,474.00\n",
       "2012-06-01 01:00:00 2,349.00\n",
       "2012-06-01 02:00:00 2,291.00\n",
       "2012-06-01 03:00:00 2,281.00\n",
       "2012-06-01 04:00:00 2,343.00\n",
       "2012-06-01 05:00:00 2,518.00\n",
       "2012-06-01 06:00:00 2,934.00\n",
       "2012-06-01 07:00:00 3,235.00\n",
       "2012-06-01 08:00:00 3,348.00\n",
       "2012-06-01 09:00:00 3,405.00\n",
       "2012-06-01 10:00:00 3,459.00\n",
       "2012-06-01 11:00:00 3,479.00\n",
       "2012-06-01 12:00:00 3,478.00\n",
       "2012-06-01 13:00:00 3,495.00\n",
       "2012-06-01 14:00:00 3,473.00\n",
       "2012-06-01 15:00:00 3,439.00\n",
       "2012-06-01 16:00:00 3,404.00\n",
       "2012-06-01 17:00:00 3,337.00\n",
       "2012-06-01 18:00:00 3,291.00\n",
       "2012-06-01 19:00:00 3,261.00\n",
       "2012-06-01 20:00:00 3,309.00\n",
       "2012-06-01 21:00:00 3,197.00\n",
       "2012-06-01 22:00:00 2,916.00\n",
       "2012-06-01 23:00:00 2,619.00"
      ]
     },
     "execution_count": 73,
     "metadata": {},
     "output_type": "execute_result"
    }
   ],
   "source": [
    "ts_data_load['2012-6-01']"
   ]
  },
  {
   "cell_type": "markdown",
   "metadata": {},
   "source": [
    "El ejemplo a continuación especifica un tiempo de parada que incluye\n",
    "todos los momentos del último día en el conjunto de datos\n",
    "ts_data_load:"
   ]
  },
  {
   "cell_type": "code",
   "execution_count": 74,
   "metadata": {},
   "outputs": [
    {
     "data": {
      "text/html": [
       "<div>\n",
       "<style scoped>\n",
       "    .dataframe tbody tr th:only-of-type {\n",
       "        vertical-align: middle;\n",
       "    }\n",
       "\n",
       "    .dataframe tbody tr th {\n",
       "        vertical-align: top;\n",
       "    }\n",
       "\n",
       "    .dataframe thead th {\n",
       "        text-align: right;\n",
       "    }\n",
       "</style>\n",
       "<table border=\"1\" class=\"dataframe\">\n",
       "  <thead>\n",
       "    <tr style=\"text-align: right;\">\n",
       "      <th></th>\n",
       "      <th>load</th>\n",
       "    </tr>\n",
       "  </thead>\n",
       "  <tbody>\n",
       "    <tr>\n",
       "      <th>2012-01-01 00:00:00</th>\n",
       "      <td>2,698.00</td>\n",
       "    </tr>\n",
       "    <tr>\n",
       "      <th>2012-01-01 01:00:00</th>\n",
       "      <td>2,558.00</td>\n",
       "    </tr>\n",
       "    <tr>\n",
       "      <th>2012-01-01 02:00:00</th>\n",
       "      <td>2,444.00</td>\n",
       "    </tr>\n",
       "    <tr>\n",
       "      <th>2012-01-01 03:00:00</th>\n",
       "      <td>2,402.00</td>\n",
       "    </tr>\n",
       "    <tr>\n",
       "      <th>2012-01-01 04:00:00</th>\n",
       "      <td>2,403.00</td>\n",
       "    </tr>\n",
       "    <tr>\n",
       "      <th>...</th>\n",
       "      <td>...</td>\n",
       "    </tr>\n",
       "    <tr>\n",
       "      <th>2012-02-28 19:00:00</th>\n",
       "      <td>3,858.00</td>\n",
       "    </tr>\n",
       "    <tr>\n",
       "      <th>2012-02-28 20:00:00</th>\n",
       "      <td>3,687.00</td>\n",
       "    </tr>\n",
       "    <tr>\n",
       "      <th>2012-02-28 21:00:00</th>\n",
       "      <td>3,420.00</td>\n",
       "    </tr>\n",
       "    <tr>\n",
       "      <th>2012-02-28 22:00:00</th>\n",
       "      <td>3,122.00</td>\n",
       "    </tr>\n",
       "    <tr>\n",
       "      <th>2012-02-28 23:00:00</th>\n",
       "      <td>2,875.00</td>\n",
       "    </tr>\n",
       "  </tbody>\n",
       "</table>\n",
       "<p>1416 rows × 1 columns</p>\n",
       "</div>"
      ],
      "text/plain": [
       "                        load\n",
       "2012-01-01 00:00:00 2,698.00\n",
       "2012-01-01 01:00:00 2,558.00\n",
       "2012-01-01 02:00:00 2,444.00\n",
       "2012-01-01 03:00:00 2,402.00\n",
       "2012-01-01 04:00:00 2,403.00\n",
       "...                      ...\n",
       "2012-02-28 19:00:00 3,858.00\n",
       "2012-02-28 20:00:00 3,687.00\n",
       "2012-02-28 21:00:00 3,420.00\n",
       "2012-02-28 22:00:00 3,122.00\n",
       "2012-02-28 23:00:00 2,875.00\n",
       "\n",
       "[1416 rows x 1 columns]"
      ]
     },
     "execution_count": 74,
     "metadata": {},
     "output_type": "execute_result"
    }
   ],
   "source": [
    "ts_data_load['2012-1':'2012-2-28']"
   ]
  },
  {
   "cell_type": "markdown",
   "metadata": {},
   "source": [
    "El siguiente ejemplo especifica un momento de parada exacto:"
   ]
  },
  {
   "cell_type": "code",
   "execution_count": 75,
   "metadata": {},
   "outputs": [
    {
     "data": {
      "text/html": [
       "<div>\n",
       "<style scoped>\n",
       "    .dataframe tbody tr th:only-of-type {\n",
       "        vertical-align: middle;\n",
       "    }\n",
       "\n",
       "    .dataframe tbody tr th {\n",
       "        vertical-align: top;\n",
       "    }\n",
       "\n",
       "    .dataframe thead th {\n",
       "        text-align: right;\n",
       "    }\n",
       "</style>\n",
       "<table border=\"1\" class=\"dataframe\">\n",
       "  <thead>\n",
       "    <tr style=\"text-align: right;\">\n",
       "      <th></th>\n",
       "      <th>load</th>\n",
       "    </tr>\n",
       "  </thead>\n",
       "  <tbody>\n",
       "    <tr>\n",
       "      <th>2012-01-01 00:00:00</th>\n",
       "      <td>2,698.00</td>\n",
       "    </tr>\n",
       "    <tr>\n",
       "      <th>2012-01-01 01:00:00</th>\n",
       "      <td>2,558.00</td>\n",
       "    </tr>\n",
       "    <tr>\n",
       "      <th>2012-01-01 02:00:00</th>\n",
       "      <td>2,444.00</td>\n",
       "    </tr>\n",
       "    <tr>\n",
       "      <th>2012-01-01 03:00:00</th>\n",
       "      <td>2,402.00</td>\n",
       "    </tr>\n",
       "    <tr>\n",
       "      <th>2012-01-01 04:00:00</th>\n",
       "      <td>2,403.00</td>\n",
       "    </tr>\n",
       "    <tr>\n",
       "      <th>2012-01-01 05:00:00</th>\n",
       "      <td>2,453.00</td>\n",
       "    </tr>\n",
       "    <tr>\n",
       "      <th>2012-01-01 06:00:00</th>\n",
       "      <td>2,560.00</td>\n",
       "    </tr>\n",
       "    <tr>\n",
       "      <th>2012-01-01 07:00:00</th>\n",
       "      <td>2,719.00</td>\n",
       "    </tr>\n",
       "    <tr>\n",
       "      <th>2012-01-01 08:00:00</th>\n",
       "      <td>2,916.00</td>\n",
       "    </tr>\n",
       "    <tr>\n",
       "      <th>2012-01-01 09:00:00</th>\n",
       "      <td>3,105.00</td>\n",
       "    </tr>\n",
       "    <tr>\n",
       "      <th>2012-01-01 10:00:00</th>\n",
       "      <td>3,174.00</td>\n",
       "    </tr>\n",
       "    <tr>\n",
       "      <th>2012-01-01 11:00:00</th>\n",
       "      <td>3,180.00</td>\n",
       "    </tr>\n",
       "    <tr>\n",
       "      <th>2012-01-01 12:00:00</th>\n",
       "      <td>3,184.00</td>\n",
       "    </tr>\n",
       "    <tr>\n",
       "      <th>2012-01-01 13:00:00</th>\n",
       "      <td>3,147.00</td>\n",
       "    </tr>\n",
       "    <tr>\n",
       "      <th>2012-01-01 14:00:00</th>\n",
       "      <td>3,122.00</td>\n",
       "    </tr>\n",
       "    <tr>\n",
       "      <th>2012-01-01 15:00:00</th>\n",
       "      <td>3,137.00</td>\n",
       "    </tr>\n",
       "    <tr>\n",
       "      <th>2012-01-01 16:00:00</th>\n",
       "      <td>3,486.00</td>\n",
       "    </tr>\n",
       "    <tr>\n",
       "      <th>2012-01-01 17:00:00</th>\n",
       "      <td>3,717.00</td>\n",
       "    </tr>\n",
       "    <tr>\n",
       "      <th>2012-01-01 18:00:00</th>\n",
       "      <td>3,659.00</td>\n",
       "    </tr>\n",
       "    <tr>\n",
       "      <th>2012-01-01 19:00:00</th>\n",
       "      <td>3,513.00</td>\n",
       "    </tr>\n",
       "    <tr>\n",
       "      <th>2012-01-01 20:00:00</th>\n",
       "      <td>3,344.00</td>\n",
       "    </tr>\n",
       "    <tr>\n",
       "      <th>2012-01-01 21:00:00</th>\n",
       "      <td>3,129.00</td>\n",
       "    </tr>\n",
       "    <tr>\n",
       "      <th>2012-01-01 22:00:00</th>\n",
       "      <td>2,873.00</td>\n",
       "    </tr>\n",
       "    <tr>\n",
       "      <th>2012-01-01 23:00:00</th>\n",
       "      <td>2,639.00</td>\n",
       "    </tr>\n",
       "    <tr>\n",
       "      <th>2012-01-02 00:00:00</th>\n",
       "      <td>2,458.00</td>\n",
       "    </tr>\n",
       "  </tbody>\n",
       "</table>\n",
       "</div>"
      ],
      "text/plain": [
       "                        load\n",
       "2012-01-01 00:00:00 2,698.00\n",
       "2012-01-01 01:00:00 2,558.00\n",
       "2012-01-01 02:00:00 2,444.00\n",
       "2012-01-01 03:00:00 2,402.00\n",
       "2012-01-01 04:00:00 2,403.00\n",
       "2012-01-01 05:00:00 2,453.00\n",
       "2012-01-01 06:00:00 2,560.00\n",
       "2012-01-01 07:00:00 2,719.00\n",
       "2012-01-01 08:00:00 2,916.00\n",
       "2012-01-01 09:00:00 3,105.00\n",
       "2012-01-01 10:00:00 3,174.00\n",
       "2012-01-01 11:00:00 3,180.00\n",
       "2012-01-01 12:00:00 3,184.00\n",
       "2012-01-01 13:00:00 3,147.00\n",
       "2012-01-01 14:00:00 3,122.00\n",
       "2012-01-01 15:00:00 3,137.00\n",
       "2012-01-01 16:00:00 3,486.00\n",
       "2012-01-01 17:00:00 3,717.00\n",
       "2012-01-01 18:00:00 3,659.00\n",
       "2012-01-01 19:00:00 3,513.00\n",
       "2012-01-01 20:00:00 3,344.00\n",
       "2012-01-01 21:00:00 3,129.00\n",
       "2012-01-01 22:00:00 2,873.00\n",
       "2012-01-01 23:00:00 2,639.00\n",
       "2012-01-02 00:00:00 2,458.00"
      ]
     },
     "execution_count": 75,
     "metadata": {},
     "output_type": "execute_result"
    }
   ],
   "source": [
    "ts_data_load['2012-1':'2012-1-2 00:00:00']"
   ]
  },
  {
   "cell_type": "markdown",
   "metadata": {},
   "source": [
    "También hay otra función que se puede utilizar con conjuntos de datos de\n",
    "series de tiempo y que es similar a cortar (slicing): `truncate()`. La\n",
    "función `truncate` asume un valor 0 para cualquier componente de fecha no\n",
    "especificado en un `DatetimeIndex`, a diferencia del slicing, que devuelve\n",
    "cualquier fecha parcialmente coincidente. Por ejemplo,"
   ]
  },
  {
   "cell_type": "code",
   "execution_count": 76,
   "metadata": {},
   "outputs": [
    {
     "data": {
      "text/html": [
       "<div>\n",
       "<style scoped>\n",
       "    .dataframe tbody tr th:only-of-type {\n",
       "        vertical-align: middle;\n",
       "    }\n",
       "\n",
       "    .dataframe tbody tr th {\n",
       "        vertical-align: top;\n",
       "    }\n",
       "\n",
       "    .dataframe thead th {\n",
       "        text-align: right;\n",
       "    }\n",
       "</style>\n",
       "<table border=\"1\" class=\"dataframe\">\n",
       "  <thead>\n",
       "    <tr style=\"text-align: right;\">\n",
       "      <th></th>\n",
       "      <th>load</th>\n",
       "    </tr>\n",
       "  </thead>\n",
       "  <tbody>\n",
       "    <tr>\n",
       "      <th>2013-11-01 00:00:00</th>\n",
       "      <td>2,506.00</td>\n",
       "    </tr>\n",
       "    <tr>\n",
       "      <th>2013-11-01 01:00:00</th>\n",
       "      <td>2,419.00</td>\n",
       "    </tr>\n",
       "    <tr>\n",
       "      <th>2013-11-01 02:00:00</th>\n",
       "      <td>2,369.00</td>\n",
       "    </tr>\n",
       "    <tr>\n",
       "      <th>2013-11-01 03:00:00</th>\n",
       "      <td>2,349.00</td>\n",
       "    </tr>\n",
       "    <tr>\n",
       "      <th>2013-11-01 04:00:00</th>\n",
       "      <td>2,425.00</td>\n",
       "    </tr>\n",
       "    <tr>\n",
       "      <th>2013-11-01 05:00:00</th>\n",
       "      <td>2,671.00</td>\n",
       "    </tr>\n",
       "    <tr>\n",
       "      <th>2013-11-01 06:00:00</th>\n",
       "      <td>3,143.00</td>\n",
       "    </tr>\n",
       "    <tr>\n",
       "      <th>2013-11-01 07:00:00</th>\n",
       "      <td>3,438.00</td>\n",
       "    </tr>\n",
       "    <tr>\n",
       "      <th>2013-11-01 08:00:00</th>\n",
       "      <td>3,486.00</td>\n",
       "    </tr>\n",
       "    <tr>\n",
       "      <th>2013-11-01 09:00:00</th>\n",
       "      <td>3,541.00</td>\n",
       "    </tr>\n",
       "    <tr>\n",
       "      <th>2013-11-01 10:00:00</th>\n",
       "      <td>3,591.00</td>\n",
       "    </tr>\n",
       "    <tr>\n",
       "      <th>2013-11-01 11:00:00</th>\n",
       "      <td>3,585.00</td>\n",
       "    </tr>\n",
       "    <tr>\n",
       "      <th>2013-11-01 12:00:00</th>\n",
       "      <td>3,532.00</td>\n",
       "    </tr>\n",
       "    <tr>\n",
       "      <th>2013-11-01 13:00:00</th>\n",
       "      <td>3,491.00</td>\n",
       "    </tr>\n",
       "    <tr>\n",
       "      <th>2013-11-01 14:00:00</th>\n",
       "      <td>3,430.00</td>\n",
       "    </tr>\n",
       "    <tr>\n",
       "      <th>2013-11-01 15:00:00</th>\n",
       "      <td>3,358.00</td>\n",
       "    </tr>\n",
       "    <tr>\n",
       "      <th>2013-11-01 16:00:00</th>\n",
       "      <td>3,347.00</td>\n",
       "    </tr>\n",
       "    <tr>\n",
       "      <th>2013-11-01 17:00:00</th>\n",
       "      <td>3,478.00</td>\n",
       "    </tr>\n",
       "    <tr>\n",
       "      <th>2013-11-01 18:00:00</th>\n",
       "      <td>3,636.00</td>\n",
       "    </tr>\n",
       "    <tr>\n",
       "      <th>2013-11-01 19:00:00</th>\n",
       "      <td>3,501.00</td>\n",
       "    </tr>\n",
       "    <tr>\n",
       "      <th>2013-11-01 20:00:00</th>\n",
       "      <td>3,345.00</td>\n",
       "    </tr>\n",
       "    <tr>\n",
       "      <th>2013-11-01 21:00:00</th>\n",
       "      <td>3,131.00</td>\n",
       "    </tr>\n",
       "    <tr>\n",
       "      <th>2013-11-01 22:00:00</th>\n",
       "      <td>2,883.00</td>\n",
       "    </tr>\n",
       "    <tr>\n",
       "      <th>2013-11-01 23:00:00</th>\n",
       "      <td>2,626.00</td>\n",
       "    </tr>\n",
       "    <tr>\n",
       "      <th>2013-11-02 00:00:00</th>\n",
       "      <td>2,447.00</td>\n",
       "    </tr>\n",
       "  </tbody>\n",
       "</table>\n",
       "</div>"
      ],
      "text/plain": [
       "                        load\n",
       "2013-11-01 00:00:00 2,506.00\n",
       "2013-11-01 01:00:00 2,419.00\n",
       "2013-11-01 02:00:00 2,369.00\n",
       "2013-11-01 03:00:00 2,349.00\n",
       "2013-11-01 04:00:00 2,425.00\n",
       "2013-11-01 05:00:00 2,671.00\n",
       "2013-11-01 06:00:00 3,143.00\n",
       "2013-11-01 07:00:00 3,438.00\n",
       "2013-11-01 08:00:00 3,486.00\n",
       "2013-11-01 09:00:00 3,541.00\n",
       "2013-11-01 10:00:00 3,591.00\n",
       "2013-11-01 11:00:00 3,585.00\n",
       "2013-11-01 12:00:00 3,532.00\n",
       "2013-11-01 13:00:00 3,491.00\n",
       "2013-11-01 14:00:00 3,430.00\n",
       "2013-11-01 15:00:00 3,358.00\n",
       "2013-11-01 16:00:00 3,347.00\n",
       "2013-11-01 17:00:00 3,478.00\n",
       "2013-11-01 18:00:00 3,636.00\n",
       "2013-11-01 19:00:00 3,501.00\n",
       "2013-11-01 20:00:00 3,345.00\n",
       "2013-11-01 21:00:00 3,131.00\n",
       "2013-11-01 22:00:00 2,883.00\n",
       "2013-11-01 23:00:00 2,626.00\n",
       "2013-11-02 00:00:00 2,447.00"
      ]
     },
     "execution_count": 76,
     "metadata": {},
     "output_type": "execute_result"
    }
   ],
   "source": [
    "ts_data_load.truncate(before='2013-11-01', after='2013-11-02') "
   ]
  },
  {
   "cell_type": "markdown",
   "metadata": {},
   "source": [
    "### **Componentes de hora/fecha**"
   ]
  },
  {
   "cell_type": "markdown",
   "metadata": {},
   "source": [
    "![Tabla 3.3 Propiedad de fecha y\n",
    "hora](tabla3.2.png){alt=\"Tabla 3.2: Propiedad de fecha y hora\"}\n",
    "\n",
    "**Tabla 3.3:** Datos y propiedades de tiempo de `Timestamp` y `DatatimeIndex`."
   ]
  },
  {
   "cell_type": "markdown",
   "metadata": {},
   "source": [
    "### **Conversión de frecuencia** "
   ]
  },
  {
   "cell_type": "markdown",
   "metadata": {},
   "source": [
    "En los siguientes ejemplos, se utilizan\n",
    "todas las variables en el conjunto de datos ts_data (tanto las\n",
    "variables de carga como las de temperatura) para comprender cómo se pueden aplicar una conversión de frecuencia a los\n",
    "datos de series de tiempo. Primero se el conjunto de datos\n",
    "ts_data y se visualizan las primeras 10 filas de ambas variables."
   ]
  },
  {
   "cell_type": "code",
   "execution_count": 77,
   "metadata": {},
   "outputs": [
    {
     "data": {
      "text/html": [
       "<div>\n",
       "<style scoped>\n",
       "    .dataframe tbody tr th:only-of-type {\n",
       "        vertical-align: middle;\n",
       "    }\n",
       "\n",
       "    .dataframe tbody tr th {\n",
       "        vertical-align: top;\n",
       "    }\n",
       "\n",
       "    .dataframe thead th {\n",
       "        text-align: right;\n",
       "    }\n",
       "</style>\n",
       "<table border=\"1\" class=\"dataframe\">\n",
       "  <thead>\n",
       "    <tr style=\"text-align: right;\">\n",
       "      <th></th>\n",
       "      <th>load</th>\n",
       "      <th>temp</th>\n",
       "    </tr>\n",
       "  </thead>\n",
       "  <tbody>\n",
       "    <tr>\n",
       "      <th>2012-01-01 00:00:00</th>\n",
       "      <td>2,698.00</td>\n",
       "      <td>32.00</td>\n",
       "    </tr>\n",
       "    <tr>\n",
       "      <th>2012-01-01 01:00:00</th>\n",
       "      <td>2,558.00</td>\n",
       "      <td>32.67</td>\n",
       "    </tr>\n",
       "    <tr>\n",
       "      <th>2012-01-01 02:00:00</th>\n",
       "      <td>2,444.00</td>\n",
       "      <td>30.00</td>\n",
       "    </tr>\n",
       "    <tr>\n",
       "      <th>2012-01-01 03:00:00</th>\n",
       "      <td>2,402.00</td>\n",
       "      <td>31.00</td>\n",
       "    </tr>\n",
       "    <tr>\n",
       "      <th>2012-01-01 04:00:00</th>\n",
       "      <td>2,403.00</td>\n",
       "      <td>32.00</td>\n",
       "    </tr>\n",
       "    <tr>\n",
       "      <th>2012-01-01 05:00:00</th>\n",
       "      <td>2,453.00</td>\n",
       "      <td>31.33</td>\n",
       "    </tr>\n",
       "    <tr>\n",
       "      <th>2012-01-01 06:00:00</th>\n",
       "      <td>2,560.00</td>\n",
       "      <td>30.00</td>\n",
       "    </tr>\n",
       "    <tr>\n",
       "      <th>2012-01-01 07:00:00</th>\n",
       "      <td>2,719.00</td>\n",
       "      <td>29.00</td>\n",
       "    </tr>\n",
       "    <tr>\n",
       "      <th>2012-01-01 08:00:00</th>\n",
       "      <td>2,916.00</td>\n",
       "      <td>29.00</td>\n",
       "    </tr>\n",
       "    <tr>\n",
       "      <th>2012-01-01 09:00:00</th>\n",
       "      <td>3,105.00</td>\n",
       "      <td>33.33</td>\n",
       "    </tr>\n",
       "  </tbody>\n",
       "</table>\n",
       "</div>"
      ],
      "text/plain": [
       "                        load  temp\n",
       "2012-01-01 00:00:00 2,698.00 32.00\n",
       "2012-01-01 01:00:00 2,558.00 32.67\n",
       "2012-01-01 02:00:00 2,444.00 30.00\n",
       "2012-01-01 03:00:00 2,402.00 31.00\n",
       "2012-01-01 04:00:00 2,403.00 32.00\n",
       "2012-01-01 05:00:00 2,453.00 31.33\n",
       "2012-01-01 06:00:00 2,560.00 30.00\n",
       "2012-01-01 07:00:00 2,719.00 29.00\n",
       "2012-01-01 08:00:00 2,916.00 29.00\n",
       "2012-01-01 09:00:00 3,105.00 33.33"
      ]
     },
     "execution_count": 77,
     "metadata": {},
     "output_type": "execute_result"
    }
   ],
   "source": [
    "ts_data = load_data(data_dir)\n",
    "ts_data.head(10)"
   ]
  },
  {
   "cell_type": "markdown",
   "metadata": {},
   "source": [
    "La función principal para cambiar frecuencias es el método `asfreq()`.\n",
    "Convierte una serie de tiempo a una frecuencia especificada y\n",
    "opcionalmente proporciona un método de relleno para completar o\n",
    "retroceder valores faltantes. Para un `DatetimeIndex`, esto es\n",
    "esencialmente un envoltorio delgado pero conveniente alrededor de\n",
    "`reindex()` que genera un rango de fechas y llama a `reindex` como se muestra en el siguiente ejemplo"
   ]
  },
  {
   "cell_type": "code",
   "execution_count": 78,
   "metadata": {},
   "outputs": [
    {
     "data": {
      "text/html": [
       "<div>\n",
       "<style scoped>\n",
       "    .dataframe tbody tr th:only-of-type {\n",
       "        vertical-align: middle;\n",
       "    }\n",
       "\n",
       "    .dataframe tbody tr th {\n",
       "        vertical-align: top;\n",
       "    }\n",
       "\n",
       "    .dataframe thead th {\n",
       "        text-align: right;\n",
       "    }\n",
       "</style>\n",
       "<table border=\"1\" class=\"dataframe\">\n",
       "  <thead>\n",
       "    <tr style=\"text-align: right;\">\n",
       "      <th></th>\n",
       "      <th>load</th>\n",
       "      <th>temp</th>\n",
       "    </tr>\n",
       "  </thead>\n",
       "  <tbody>\n",
       "    <tr>\n",
       "      <th>2012-01-02</th>\n",
       "      <td>2,458.00</td>\n",
       "      <td>43.67</td>\n",
       "    </tr>\n",
       "    <tr>\n",
       "      <th>2012-01-03</th>\n",
       "      <td>2,780.00</td>\n",
       "      <td>26.33</td>\n",
       "    </tr>\n",
       "    <tr>\n",
       "      <th>2012-01-04</th>\n",
       "      <td>3,184.00</td>\n",
       "      <td>6.00</td>\n",
       "    </tr>\n",
       "    <tr>\n",
       "      <th>2012-01-05</th>\n",
       "      <td>3,014.00</td>\n",
       "      <td>22.33</td>\n",
       "    </tr>\n",
       "    <tr>\n",
       "      <th>2012-01-06</th>\n",
       "      <td>2,992.00</td>\n",
       "      <td>17.00</td>\n",
       "    </tr>\n",
       "  </tbody>\n",
       "</table>\n",
       "</div>"
      ],
      "text/plain": [
       "               load  temp\n",
       "2012-01-02 2,458.00 43.67\n",
       "2012-01-03 2,780.00 26.33\n",
       "2012-01-04 3,184.00  6.00\n",
       "2012-01-05 3,014.00 22.33\n",
       "2012-01-06 2,992.00 17.00"
      ]
     },
     "execution_count": 78,
     "metadata": {},
     "output_type": "execute_result"
    }
   ],
   "source": [
    "daily_ts_data = ts_data.asfreq(pd.offsets.BDay())\n",
    "daily_ts_data.head(5)"
   ]
  },
  {
   "cell_type": "markdown",
   "metadata": {},
   "source": [
    "La función `asfreq` opcionalmente proporciona un método de relleno\n",
    "para completar valores faltantes. Devuelve los datos originales\n",
    "conformados a un nuevo índice con la frecuencia especificada, como se\n",
    "muestra a continuación, se muestran las primeras cinco filas de\n",
    "daily_ts_data transformadas."
   ]
  },
  {
   "cell_type": "code",
   "execution_count": 79,
   "metadata": {},
   "outputs": [
    {
     "data": {
      "text/html": [
       "<div>\n",
       "<style scoped>\n",
       "    .dataframe tbody tr th:only-of-type {\n",
       "        vertical-align: middle;\n",
       "    }\n",
       "\n",
       "    .dataframe tbody tr th {\n",
       "        vertical-align: top;\n",
       "    }\n",
       "\n",
       "    .dataframe thead th {\n",
       "        text-align: right;\n",
       "    }\n",
       "</style>\n",
       "<table border=\"1\" class=\"dataframe\">\n",
       "  <thead>\n",
       "    <tr style=\"text-align: right;\">\n",
       "      <th></th>\n",
       "      <th>load</th>\n",
       "      <th>temp</th>\n",
       "    </tr>\n",
       "  </thead>\n",
       "  <tbody>\n",
       "    <tr>\n",
       "      <th>2012-01-02</th>\n",
       "      <td>2,458.00</td>\n",
       "      <td>43.67</td>\n",
       "    </tr>\n",
       "    <tr>\n",
       "      <th>2012-01-03</th>\n",
       "      <td>2,780.00</td>\n",
       "      <td>26.33</td>\n",
       "    </tr>\n",
       "    <tr>\n",
       "      <th>2012-01-04</th>\n",
       "      <td>3,184.00</td>\n",
       "      <td>6.00</td>\n",
       "    </tr>\n",
       "    <tr>\n",
       "      <th>2012-01-05</th>\n",
       "      <td>3,014.00</td>\n",
       "      <td>22.33</td>\n",
       "    </tr>\n",
       "    <tr>\n",
       "      <th>2012-01-06</th>\n",
       "      <td>2,992.00</td>\n",
       "      <td>17.00</td>\n",
       "    </tr>\n",
       "  </tbody>\n",
       "</table>\n",
       "</div>"
      ],
      "text/plain": [
       "               load  temp\n",
       "2012-01-02 2,458.00 43.67\n",
       "2012-01-03 2,780.00 26.33\n",
       "2012-01-04 3,184.00  6.00\n",
       "2012-01-05 3,014.00 22.33\n",
       "2012-01-06 2,992.00 17.00"
      ]
     },
     "execution_count": 79,
     "metadata": {},
     "output_type": "execute_result"
    }
   ],
   "source": [
    "daily_ts_data.asfreq(pd.offsets.BDay(), method='pad')\n",
    "daily_ts_data.head(5)"
   ]
  },
  {
   "cell_type": "markdown",
   "metadata": {},
   "source": [
    "Para obtener más información sobre Pandas para series de tiempo, visita\n",
    "el siguiente sitio web: pandas.pydata.org/docs/user_guide/timeseries.html"
   ]
  },
  {
   "cell_type": "markdown",
   "metadata": {},
   "source": [
    "## **Exploración y Comprensión de Series de Tiempo**"
   ]
  },
  {
   "cell_type": "markdown",
   "metadata": {},
   "source": [
    "### **Como Empezar con el Análisis de Datos de Series de Tiempo**"
   ]
  },
  {
   "cell_type": "markdown",
   "metadata": {},
   "source": [
    "Pandas tiene algunas funciones incorporadas relacionadas con fechas y\n",
    "horas que facilitan el trabajo con datos de series de tiempo, ya que en\n",
    "este tipo de conjuntos de datos, el tiempo es la variable y dimensión\n",
    "más importante que los científicos de datos pueden aprovechar para\n",
    "obtener información útil.\n",
    "\n",
    "La función `head()` devuelve las primeras $n$ filas de un conjunto de\n",
    "datos de series de tiempo y para una rápida visión general del tipo de\n",
    "datos y su estructura."
   ]
  },
  {
   "cell_type": "code",
   "execution_count": 80,
   "metadata": {},
   "outputs": [
    {
     "data": {
      "text/html": [
       "<div>\n",
       "<style scoped>\n",
       "    .dataframe tbody tr th:only-of-type {\n",
       "        vertical-align: middle;\n",
       "    }\n",
       "\n",
       "    .dataframe tbody tr th {\n",
       "        vertical-align: top;\n",
       "    }\n",
       "\n",
       "    .dataframe thead th {\n",
       "        text-align: right;\n",
       "    }\n",
       "</style>\n",
       "<table border=\"1\" class=\"dataframe\">\n",
       "  <thead>\n",
       "    <tr style=\"text-align: right;\">\n",
       "      <th></th>\n",
       "      <th>load</th>\n",
       "      <th>temp</th>\n",
       "    </tr>\n",
       "  </thead>\n",
       "  <tbody>\n",
       "    <tr>\n",
       "      <th>2012-01-01 00:00:00</th>\n",
       "      <td>2,698.00</td>\n",
       "      <td>32.00</td>\n",
       "    </tr>\n",
       "    <tr>\n",
       "      <th>2012-01-01 01:00:00</th>\n",
       "      <td>2,558.00</td>\n",
       "      <td>32.67</td>\n",
       "    </tr>\n",
       "    <tr>\n",
       "      <th>2012-01-01 02:00:00</th>\n",
       "      <td>2,444.00</td>\n",
       "      <td>30.00</td>\n",
       "    </tr>\n",
       "    <tr>\n",
       "      <th>2012-01-01 03:00:00</th>\n",
       "      <td>2,402.00</td>\n",
       "      <td>31.00</td>\n",
       "    </tr>\n",
       "    <tr>\n",
       "      <th>2012-01-01 04:00:00</th>\n",
       "      <td>2,403.00</td>\n",
       "      <td>32.00</td>\n",
       "    </tr>\n",
       "    <tr>\n",
       "      <th>2012-01-01 05:00:00</th>\n",
       "      <td>2,453.00</td>\n",
       "      <td>31.33</td>\n",
       "    </tr>\n",
       "    <tr>\n",
       "      <th>2012-01-01 06:00:00</th>\n",
       "      <td>2,560.00</td>\n",
       "      <td>30.00</td>\n",
       "    </tr>\n",
       "    <tr>\n",
       "      <th>2012-01-01 07:00:00</th>\n",
       "      <td>2,719.00</td>\n",
       "      <td>29.00</td>\n",
       "    </tr>\n",
       "    <tr>\n",
       "      <th>2012-01-01 08:00:00</th>\n",
       "      <td>2,916.00</td>\n",
       "      <td>29.00</td>\n",
       "    </tr>\n",
       "    <tr>\n",
       "      <th>2012-01-01 09:00:00</th>\n",
       "      <td>3,105.00</td>\n",
       "      <td>33.33</td>\n",
       "    </tr>\n",
       "  </tbody>\n",
       "</table>\n",
       "</div>"
      ],
      "text/plain": [
       "                        load  temp\n",
       "2012-01-01 00:00:00 2,698.00 32.00\n",
       "2012-01-01 01:00:00 2,558.00 32.67\n",
       "2012-01-01 02:00:00 2,444.00 30.00\n",
       "2012-01-01 03:00:00 2,402.00 31.00\n",
       "2012-01-01 04:00:00 2,403.00 32.00\n",
       "2012-01-01 05:00:00 2,453.00 31.33\n",
       "2012-01-01 06:00:00 2,560.00 30.00\n",
       "2012-01-01 07:00:00 2,719.00 29.00\n",
       "2012-01-01 08:00:00 2,916.00 29.00\n",
       "2012-01-01 09:00:00 3,105.00 33.33"
      ]
     },
     "execution_count": 80,
     "metadata": {},
     "output_type": "execute_result"
    }
   ],
   "source": [
    "ts_data.head(10)"
   ]
  },
  {
   "cell_type": "markdown",
   "metadata": {},
   "source": [
    "El conjunto anterior se ha clasificado en tres columnas: el horario de\n",
    "marca de tiempo, la columna de carga y la columna de temperatura.\n",
    "\n",
    "Es importante obtener un resumen del conjunto de datos de series de\n",
    "tiempo en caso de que haya filas con valores vacíos. Para ello usamos la\n",
    "función `isna()` que toma objetos e induican si faltan valores."
   ]
  },
  {
   "cell_type": "code",
   "execution_count": 81,
   "metadata": {},
   "outputs": [
    {
     "data": {
      "text/plain": [
       "load    0\n",
       "temp    0\n",
       "dtype: int64"
      ]
     },
     "execution_count": 81,
     "metadata": {},
     "output_type": "execute_result"
    }
   ],
   "source": [
    "ts_data.isna().sum()"
   ]
  },
  {
   "cell_type": "markdown",
   "metadata": {},
   "source": [
    "Ya no se tiene valores vacíos, entonces podemos proceder a comprender el formato de las variables. pandas `.dtypes` lo hace posible, retorna el tipo de datos de cada columna."
   ]
  },
  {
   "cell_type": "code",
   "execution_count": 82,
   "metadata": {},
   "outputs": [
    {
     "data": {
      "text/plain": [
       "load    float64\n",
       "temp    float64\n",
       "dtype: object"
      ]
     },
     "execution_count": 82,
     "metadata": {},
     "output_type": "execute_result"
    }
   ],
   "source": [
    "ts_data.dtypes"
   ]
  },
  {
   "cell_type": "markdown",
   "metadata": {},
   "source": [
    "En el ejemplo anterior, se puede ver que los datos de la columna carga y\n",
    "de temperatura son `float64` que es un número real.\n",
    "\n",
    "Los próximos pasos incluyen calcular y revisar estadísticas resumidas\n",
    "para el conjunto de datos de series de tiempo. Estas estadísticas\n",
    "proporcionan un resumen de características clave, como promedio,\n",
    "distribución y posibles correlaciones o dependencias en los datos.\n",
    "Calcular estas estadísticas descriptivas nos ayuda a comprender la\n",
    "distribución y variabilidad de los valores en la serie de tiempo, lo que\n",
    "puede ser útil para la preparación de datos y el modelado posterior.\n",
    "\n",
    "En pandas, las estadísticas descriptivas son indicadores útiles que\n",
    "resumen la tendencia central, la dispersión y la forma de la\n",
    "distribución de un conjunto de datos, excluyendo los valores NaN. La\n",
    "función `describe()` crea un resumen de las series de tiempo cargadas,\n",
    "que incluye la media, la desviación estándar, la mediana, el mínimo y el\n",
    "máximo."
   ]
  },
  {
   "cell_type": "code",
   "execution_count": 83,
   "metadata": {},
   "outputs": [
    {
     "data": {
      "text/html": [
       "<div>\n",
       "<style scoped>\n",
       "    .dataframe tbody tr th:only-of-type {\n",
       "        vertical-align: middle;\n",
       "    }\n",
       "\n",
       "    .dataframe tbody tr th {\n",
       "        vertical-align: top;\n",
       "    }\n",
       "\n",
       "    .dataframe thead th {\n",
       "        text-align: right;\n",
       "    }\n",
       "</style>\n",
       "<table border=\"1\" class=\"dataframe\">\n",
       "  <thead>\n",
       "    <tr style=\"text-align: right;\">\n",
       "      <th></th>\n",
       "      <th>load</th>\n",
       "      <th>temp</th>\n",
       "    </tr>\n",
       "  </thead>\n",
       "  <tbody>\n",
       "    <tr>\n",
       "      <th>count</th>\n",
       "      <td>26,304.00</td>\n",
       "      <td>26,304.00</td>\n",
       "    </tr>\n",
       "    <tr>\n",
       "      <th>mean</th>\n",
       "      <td>3,303.77</td>\n",
       "      <td>47.77</td>\n",
       "    </tr>\n",
       "    <tr>\n",
       "      <th>std</th>\n",
       "      <td>564.58</td>\n",
       "      <td>19.34</td>\n",
       "    </tr>\n",
       "    <tr>\n",
       "      <th>min</th>\n",
       "      <td>1,979.00</td>\n",
       "      <td>-13.67</td>\n",
       "    </tr>\n",
       "    <tr>\n",
       "      <th>25%</th>\n",
       "      <td>2,867.00</td>\n",
       "      <td>32.67</td>\n",
       "    </tr>\n",
       "    <tr>\n",
       "      <th>50%</th>\n",
       "      <td>3,364.00</td>\n",
       "      <td>48.33</td>\n",
       "    </tr>\n",
       "    <tr>\n",
       "      <th>75%</th>\n",
       "      <td>3,690.00</td>\n",
       "      <td>63.67</td>\n",
       "    </tr>\n",
       "    <tr>\n",
       "      <th>max</th>\n",
       "      <td>5,224.00</td>\n",
       "      <td>95.00</td>\n",
       "    </tr>\n",
       "  </tbody>\n",
       "</table>\n",
       "</div>"
      ],
      "text/plain": [
       "           load      temp\n",
       "count 26,304.00 26,304.00\n",
       "mean   3,303.77     47.77\n",
       "std      564.58     19.34\n",
       "min    1,979.00    -13.67\n",
       "25%    2,867.00     32.67\n",
       "50%    3,364.00     48.33\n",
       "75%    3,690.00     63.67\n",
       "max    5,224.00     95.00"
      ]
     },
     "execution_count": 83,
     "metadata": {},
     "output_type": "execute_result"
    }
   ],
   "source": [
    "ts_data.describe()"
   ]
  },
  {
   "cell_type": "markdown",
   "metadata": {},
   "source": [
    "En resumen, cuando se analizan datos numéricos, se obtiene un conjunto de estadísticas que incluyen recuento, media, desviación estándar, mínimo, máximo, y percentiles (25, 50 y 75). El percentil 50 es igual a la mediana. En cambio, para datos de tipo objeto (como cadenas de texto o marcas de tiempo), se presentan estadísticas como recuento, valores únicos, valor más frecuente y frecuencia de ese valor. Es importante recordar que el valor \"top\" no representa necesariamente el valor más común; la frecuencia sí lo hace. También se incluyen marcas de tiempo como el primer y último elemento. Si hay varios valores de objeto con el recuento más alto, los resultados de recuento y valor más frecuente se eligen arbitrariamente entre ellos.\n",
    "\n",
    "Para datos mixtos en un DataFrame, de forma predeterminada, se evalúan solo las columnas numéricas. Si el DataFrame contiene solo datos de objeto y categóricos sin columnas numéricas, se mostrará una descripción general de ambas columnas. Si se utiliza la opción `include=all`, el resultado final contendrá una descripción general de todas las características de cada tipo.\n",
    "\n",
    "Las series de tiempo a menudo contienen información y características relacionadas con el tiempo, que incluyen:\n",
    "\n",
    "- **Tendencia:** Este rasgo describe un cambio visible en los valores de la serie temporal en relación con valores más altos o más bajos durante un período prolongado, que no es estacional ni cíclico.\n",
    "\n",
    "- **Estacionalidad:** Esta característica describe un patrón recurrente y persistente en una serie temporal dentro de un período de tiempo fijo.\n",
    "\n",
    "- **Cíclico:** Este rasgo describe patrones recurrentes y persistentes de cambios ascendentes y descendentes en los datos de la serie temporal, pero no muestra un patrón fijo.\n",
    "\n",
    "- **Ruido:** Esta característica describe valores irregulares en los datos de la serie temporal y se llama ruido, ya que no presenta un patrón recurrente y persistente.\n",
    "\n",
    "Para analizar y visualizar estos componentes en los datos de la serie de tiempo, se utiliza el módulo Python `statsmodels`, que incluye una función llamada `seasonal_decompose()` para extraer y comprender estos componentes. Además, el paquete `statsmodels.tsa` proporciona clases y capacidades de modelado útiles para el análisis de series detemporales, como modelos autorregresivos (AR), modelos autorregresivos vectoriales (VAR) y modelos autorregresivos de media móvil univariante (ARMA). También incluye estadísticas descriptivas para series temporales, como la autocorrelación, la función de autocorrelación parcial y el periodograma, así como técnicas para trabajar con lag-polynomials autorregresivos y de media móvil.\n",
    "\n",
    "Primero, se importan los paquetes necesarios:"
   ]
  },
  {
   "cell_type": "code",
   "execution_count": 84,
   "metadata": {},
   "outputs": [],
   "source": [
    "# import necessary Python packages\n",
    "import statsmodels.api as sm\n",
    "import warnings\n",
    "import matplotlib.pyplot as plt\n",
    "import matplotlib.dates as mdates\n",
    "warnings.filterwarnings(\"ignore\")"
   ]
  },
  {
   "cell_type": "markdown",
   "metadata": {},
   "source": [
    "Solo visualizamos un subconjunto de los datos cargados."
   ]
  },
  {
   "cell_type": "code",
   "execution_count": 85,
   "metadata": {},
   "outputs": [
    {
     "data": {
      "image/png": "[encoded data removed]",
      "text/plain": [
       "<Figure size 1000x600 with 4 Axes>"
      ]
     },
     "metadata": {},
     "output_type": "display_data"
    }
   ],
   "source": [
    "ts_data_load = ts_data['load']\n",
    "decomposition = sm.tsa.seasonal_decompose(ts_data_load['2012-07-01':'2012-12-31'], model='additive')\n",
    "fig = decomposition.plot()\n",
    "plt.rcParams['figure.figsize'] = [10.0, 6.0]"
   ]
  },
  {
   "cell_type": "markdown",
   "metadata": {},
   "source": [
    "A partir del gráfico anterior, se puede observar un gráfico que\n",
    "muestra que la estacionalidad sigue un patrón consistente y la tendencia\n",
    "sigue un patrón irregular. Para investigar un poco más la tendencia en\n",
    "nuestra serie de tiempo, se puede graficar junto a la serie de tiempo\n",
    "observada. Para hacerlo, se utiliza la función `YearLocator()` de\n",
    "Matplotlib, que crea marcas en un día dado de cada año que sea múltiplo\n",
    "de una base. En el gráfico, se configura cada año para comenzar en el\n",
    "mes de enero (mes = 1) y el mes como el localizador menor que muestra\n",
    "marcas cada tres meses (intervalos = 3). Luego, graficamos nuestro\n",
    "conjunto de datos utilizando el índice del DataFrame en el eje x y la\n",
    "variable de carga en el eje y. Realizamos los mismos pasos para las\n",
    "observaciones de la tendencia."
   ]
  },
  {
   "cell_type": "code",
   "execution_count": 86,
   "metadata": {},
   "outputs": [
    {
     "data": {
      "text/plain": [
       "[<matplotlib.lines.Line2D at 0x1fb8e7dcfd0>]"
      ]
     },
     "execution_count": 86,
     "metadata": {},
     "output_type": "execute_result"
    },
    {
     "data": {
      "image/png": "[encoded data removed]",
      "text/plain": [
       "<Figure size 1000x600 with 1 Axes>"
      ]
     },
     "metadata": {},
     "output_type": "display_data"
    }
   ],
   "source": [
    "load = ts_data_load\n",
    "\n",
    "decomposition = sm.tsa.seasonal_decompose(load, model = 'additive')\n",
    "fig, ax = plt.subplots()\n",
    "ax.grid(True)\n",
    "year = mdates.YearLocator(month=1)\n",
    "month = mdates.MonthLocator(interval=1)\n",
    "year_format = mdates.DateFormatter('%Y')\n",
    "month_format = mdates.DateFormatter('%m')\n",
    "ax.xaxis.set_minor_locator(month)\n",
    "ax.xaxis.grid(True, which = 'minor')\n",
    "ax.xaxis.set_major_locator(year)\n",
    "ax.xaxis.set_major_formatter(year_format)\n",
    "plt.plot(load.index, load, c='blue')\n",
    "plt.plot(decomposition.trend.index, decomposition.trend, c='white')"
   ]
  },
  {
   "cell_type": "markdown",
   "metadata": {},
   "source": [
    "### **Limpieza de datos de valores faltantes en la serie de tiempo**"
   ]
  },
  {
   "cell_type": "markdown",
   "metadata": {},
   "source": [
    "Los valores faltantes en las series de tiempo se representan mediante\n",
    "una brecha en la variable de marca de tiempo o en otros valores. Pueden\n",
    "aparecer valores faltantes por diversas razones, como fallos en la\n",
    "grabación o errores en la fuente de datos o en la canalización de datos.\n",
    "\n",
    "Para identificar estas brechas en las marcas de tiempo, primero se crea\n",
    "un índice de períodos de tiempo que esperaríamos en la serie de tiempo.\n",
    "Luego, para llenar los valores faltantes, se puede interpolar entre los\n",
    "dos valores más cercanos que no están faltantes utilizando la función\n",
    "`dataframe.interpolate()` . Esta función es efectiva para llenar los\n",
    "valores faltantes, y en el ejemplo se utiliza un método cuadrático con\n",
    "un límite de 8, lo que significa que si hay más de 8 valores faltantes\n",
    "consecutivos, no se realizará interpolación para evitar interpolaciones\n",
    "espurias entre períodos de tiempo muy distantes. También se configura la\n",
    "dirección del límite como 'both', lo que permite la interpolación hacia\n",
    "adelante y hacia atrás."
   ]
  },
  {
   "cell_type": "code",
   "execution_count": 87,
   "metadata": {},
   "outputs": [
    {
     "data": {
      "text/plain": [
       "2012-01-01 00:00:00   2,698.00\n",
       "2012-01-01 01:00:00   2,558.00\n",
       "2012-01-01 02:00:00   2,444.00\n",
       "2012-01-01 03:00:00   2,402.00\n",
       "2012-01-01 04:00:00   2,403.00\n",
       "                        ...   \n",
       "2014-12-31 19:00:00   4,012.00\n",
       "2014-12-31 20:00:00   3,856.00\n",
       "2014-12-31 21:00:00   3,671.00\n",
       "2014-12-31 22:00:00   3,499.00\n",
       "2014-12-31 23:00:00   3,345.00\n",
       "Freq: H, Name: load, Length: 26304, dtype: float64"
      ]
     },
     "execution_count": 87,
     "metadata": {},
     "output_type": "execute_result"
    }
   ],
   "source": [
    "ts_data_load.interpolate(limit = 8, method ='linear', limit_direction\n",
    "='both')"
   ]
  },
  {
   "cell_type": "markdown",
   "metadata": {},
   "source": [
    "En el siguiente ejemplo, se llenan los valores faltantes de temperatura\n",
    "con un valor común de 0 utilizando el paquete `scipy.stats`. Este paquete\n",
    "contiene funciones estadísticas útiles, y se puede encontrar más\n",
    "información y tutoriales en la documentación de scipy.stats en\n",
    "docs.scipy.org/doc/scipy/reference/tutorial/stats.html."
   ]
  },
  {
   "cell_type": "code",
   "execution_count": 88,
   "metadata": {},
   "outputs": [
    {
     "data": {
      "text/plain": [
       "load    0\n",
       "temp    0\n",
       "dtype: int64"
      ]
     },
     "execution_count": 88,
     "metadata": {},
     "output_type": "execute_result"
    }
   ],
   "source": [
    "from scipy import stats\n",
    "temp_mode = stats.mode(ts_data['temp']).mode.item()\n",
    "ts_data['temp'] = ts_data['temp'].fillna(temp_mode)\n",
    "ts_data.isnull().sum()"
   ]
  },
  {
   "cell_type": "markdown",
   "metadata": {},
   "source": [
    "Como se puede observar en los resultados, el número de valores faltantes\n",
    "se ha reducido, si no se ha eliminado por completo. Si aún tienes\n",
    "registros que contienen valores faltantes en tu conjunto de datos,\n",
    "puedes eliminarlos más adelante después de haber creado las\n",
    "características del modelo.\n"
   ]
  },
  {
   "cell_type": "markdown",
   "metadata": {},
   "source": [
    "### **Normalización y Estandarización de Datos de Series de Tiempo**"
   ]
  },
  {
   "cell_type": "markdown",
   "metadata": {},
   "source": [
    "La normalización es el proceso de reescalar los datos desde su escala\n",
    "original para que todos los valores estén dentro del rango de 0 a 1.\n",
    "Implica la estimación de los valores mínimos y máximos disponibles en el\n",
    "conjunto de datos. Puede ser útil e incluso necesario en algunos\n",
    "algoritmos de aprendizaje automático cuando los valores de entrada y\n",
    "características de tus series de tiempo tienen mediciones y dimensiones\n",
    "diferentes.\n",
    "\n",
    "Para algoritmos de aprendizaje automático como k-vecinos más cercanos,\n",
    "regresión lineal y redes neuronales, que procesan una calibración de\n",
    "pesos en los valores de entrada, la normalización es necesaria. Sin\n",
    "embargo, es importante tener en cuenta que si la serie temporal presenta\n",
    "una tendencia visible, la estimación de estos valores esperados puede\n",
    "ser difícil y la normalización puede no ser el mejor método.\n",
    "\n",
    "Se puede normalizar el conjunto de datos utilizando el objeto MinMaxScaler\n",
    "de `scikit-learn`. Esta transformación se realiza de forma individual en\n",
    "cada característica para que esté en el rango deseado, como el rango de\n",
    "0 a 1. Esta transformación también puede invertirse, lo que puede ser\n",
    "útil para convertir las predicciones de nuevo a su escala original para\n",
    "informes o gráficos.\n",
    "\n",
    "El ejemplo muestra cómo normalizar el conjunto de datos ts_data,\n",
    "donde se utiliza el escalador y se requiere que los datos se\n",
    "proporcionen como una matriz de filas y columnas. Los datos de carga se\n",
    "cargan como un DataFrame de Pandas y deben ser reformateados en una\n",
    "matriz de una sola columna."
   ]
  },
  {
   "cell_type": "code",
   "execution_count": 89,
   "metadata": {},
   "outputs": [
    {
     "name": "stdout",
     "output_type": "stream",
     "text": [
      "Min: 1979.000000, Max: 5224.000000\n"
     ]
    }
   ],
   "source": [
    "from pandas import Series\n",
    "from sklearn.preprocessing import MinMaxScaler\n",
    "# prepare data for normalization\n",
    "values = load.values\n",
    "values = values.reshape((len(values), 1))\n",
    "# train the normalization\n",
    "scaler = MinMaxScaler(feature_range=(0, 1))\n",
    "scaler = scaler.fit(values)\n",
    "print('Min: %f, Max: %f' % (scaler.data_min_, scaler.data_max_))"
   ]
  },
  {
   "cell_type": "markdown",
   "metadata": {},
   "source": [
    "El conjunto de datos reformateado se utiliza para ajustar el escalador,\n",
    "luego se normaliza el conjunto de datos y, finalmente, se invierte la\n",
    "transformación de normalización para mostrar nuevamente los valores\n",
    "originales."
   ]
  },
  {
   "cell_type": "code",
   "execution_count": 90,
   "metadata": {},
   "outputs": [
    {
     "name": "stdout",
     "output_type": "stream",
     "text": [
      "[0.22]\n",
      "[0.18]\n",
      "[0.14]\n",
      "[0.13]\n",
      "[0.13]\n",
      "[2698.]\n",
      "[2558.]\n",
      "[2444.]\n",
      "[2402.]\n",
      "[2403.]\n"
     ]
    }
   ],
   "source": [
    "# normalize the data set and print the first 5 rows\n",
    "normalized = scaler.transform(values)\n",
    "for i in range(5):\n",
    " print(normalized[i])\n",
    "# inverse transform and print the first 5 rows\n",
    "inversed = scaler.inverse_transform(normalized)\n",
    "for i in range(5):\n",
    " print(inversed[i])"
   ]
  },
  {
   "cell_type": "markdown",
   "metadata": {},
   "source": [
    "Ejecutando el ejemplo, se imprimen las primeras cinco filas del conjunto\n",
    "de datos cargado, se muestran los mismos cinco valores en su forma\n",
    "normalizada y luego se presentan los valores en su escala original\n",
    "utilizando la capacidad de inversión de la transformación. Existe otro\n",
    "tipo de reescalado que es más robusto cuando los nuevos valores están\n",
    "fuera del rango de valores esperados: la estandarización.\n",
    "\n",
    "La estandarización de un conjunto de datos implica reescalar la\n",
    "distribución de valores de manera que la media de los valores observados\n",
    "sea 0 y la desviación estándar sea 1. Este proceso implica restar el\n",
    "valor medio o centrar los datos. Al igual que la normalización, la\n",
    "estandarización puede ser útil e incluso necesaria en algunos algoritmos\n",
    "de aprendizaje automático cuando tus datos de series de tiempo tienen\n",
    "valores de entrada con dimensiones diferentes.\n",
    "\n",
    "Para aplicar un proceso de estandarización a un conjunto de datos, se deben estimar con precisión la media y la\n",
    "desviación estándar de los valores en sus datos. Se puede estandarizar\n",
    "el conjunto de datos utilizando el objeto `StandardScaler` de\n",
    "scikit-learn. Esta capacidad estandariza las características eliminando\n",
    "la media y escalando a la varianza unitaria. La centralización y el\n",
    "escalado ocurren de forma independiente en cada característica\n",
    "calculando las estadísticas relevantes en las muestras del conjunto de\n",
    "entrenamiento. La media y la desviación estándar se almacenan para\n",
    "usarlas en datos posteriores mediante la función de transformación.\n",
    "\n",
    "El ejemplo muestra cómo estandarizar el conjunto de datos de carga."
   ]
  },
  {
   "cell_type": "code",
   "execution_count": 91,
   "metadata": {},
   "outputs": [
    {
     "name": "stdout",
     "output_type": "stream",
     "text": [
      "Mean: 3303.769199, StandardDeviation: 564.568521\n"
     ]
    }
   ],
   "source": [
    "# Standardize time series data\n",
    "from sklearn.preprocessing import StandardScaler\n",
    "from math import sqrt\n",
    "# prepare data for standardization\n",
    "values = load.values\n",
    "values = values.reshape((len(values), 1))\n",
    "# train the standardization\n",
    "scaler = StandardScaler()\n",
    "scaler = scaler.fit(values)\n",
    "print('Mean: %f, StandardDeviation: %f' % (scaler.mean_, sqrt(scaler.\n",
    "var_))) "
   ]
  },
  {
   "cell_type": "code",
   "execution_count": 92,
   "metadata": {},
   "outputs": [
    {
     "name": "stdout",
     "output_type": "stream",
     "text": [
      "[-1.07]\n",
      "[-1.32]\n",
      "[-1.52]\n",
      "[-1.6]\n",
      "[-1.6]\n",
      "[2698.]\n",
      "[2558.]\n",
      "[2444.]\n",
      "[2402.]\n",
      "[2403.]\n"
     ]
    }
   ],
   "source": [
    "# standardization the data set and print the first 5 rows\n",
    "normalized = scaler.transform(values)\n",
    "for i in range(5):\n",
    " print(normalized[i])\n",
    "\n",
    "# inverse transform and print the first 5 rows\n",
    "inversed = scaler.inverse_transform(normalized)\n",
    "for i in range(5):\n",
    " print(inversed[i])"
   ]
  },
  {
   "cell_type": "markdown",
   "metadata": {},
   "source": [
    "## **Funciones de Series de Tiempo en Ingeniería**"
   ]
  },
  {
   "cell_type": "markdown",
   "metadata": {},
   "source": [
    "En el campo de la inteligencia artificial y el aprendizaje automático,\n",
    "el aprendizaje supervisado se define como un tipo de método en el que\n",
    "los científicos de datos deben proporcionar tanto los datos de entrada\n",
    "como los de salida a sus algoritmos de aprendizaje automático. El\n",
    "algoritmo de aprendizaje supervisado examina el conjunto de datos de\n",
    "entrenamiento y produce una función matemática que puede utilizarse para\n",
    "inferir nuevos ejemplos y hacer predicciones.\n",
    "\n",
    "En el caso de las series de tiempo, los científicos de datos deben\n",
    "construir la salida de su modelo identificando la variable que desean\n",
    "predecir en una fecha futura y luego aprovechar los datos históricos y\n",
    "la ingeniería de características para crear variables de entrada que se\n",
    "utilizarán para hacer predicciones para esa fecha futura.\n",
    "\n",
    "Los esfuerzos de ingeniería de características tienen principalmente dos\n",
    "objetivos: crear el conjunto de datos de entrada correcto para alimentar\n",
    "el algoritmo de aprendizaje automático yaumentar el rendimiento de los\n",
    "modelos de aprendizaje automático.\n"
   ]
  },
  {
   "cell_type": "markdown",
   "metadata": {},
   "source": [
    "### **Características de fecha y hora**"
   ]
  },
  {
   "cell_type": "markdown",
   "metadata": {},
   "source": [
    "Son características creadas a partir del valor de la marca de tiempo de\n",
    "cada observación. Algunos ejemplos de estas características son la hora\n",
    "entera, el mes y el día de la semana para cada observación. Los\n",
    "científicos de datos pueden realizar estas transformaciones de\n",
    "características de fecha y hora utilizando pandas y agregando nuevas\n",
    "columnas (columnas de hora, mes y día de la semana) a su conjunto de\n",
    "datos original, donde se extrae la información de hora, mes y día de la\n",
    "semana del valor de la marca de tiempo para cada observación. A\n",
    "continuación, se muestra un código Python de ejemplo para hacer esto el conjunto de datos ts_data y se muestra su resultado."
   ]
  },
  {
   "cell_type": "code",
   "execution_count": 93,
   "metadata": {},
   "outputs": [
    {
     "name": "stdout",
     "output_type": "stream",
     "text": [
      "                        load  temp  hour  month  dayofweek\n",
      "2012-01-01 00:00:00 2,698.00 32.00     0      1          1\n",
      "2012-01-01 01:00:00 2,558.00 32.67     1      1          1\n",
      "2012-01-01 02:00:00 2,444.00 30.00     2      1          1\n",
      "2012-01-01 03:00:00 2,402.00 31.00     3      1          1\n",
      "2012-01-01 04:00:00 2,403.00 32.00     4      1          1\n"
     ]
    }
   ],
   "source": [
    "ts_data['hour'] = [ts_data.index[i].hour for i in range(len(ts_data))]\n",
    "ts_data['month'] = [ts_data.index[i].month for i in range(len(ts_data))]\n",
    "ts_data['dayofweek'] = [ts_data.index[i].day for i in range(len(ts_data))]\n",
    "print(ts_data.head(5))"
   ]
  },
  {
   "cell_type": "markdown",
   "metadata": {},
   "source": [
    "Se puede obtener información\n",
    "adicional sobre los datos y sobre la relación entre las características\n",
    "de entrada y la característica de salida, lo que les permite construir\n",
    "eventualmente un mejor modelo para sus soluciones de pronóstico de\n",
    "series de tiempo. Algunos ejemplos adicionales de características que se\n",
    "pueden crear y que generan información adicional e importante: fin de\n",
    "semana o no, minutos en un día, horario de verano o no, día festivo o\n",
    "no, trimestre del año, hora del día, antes o después del horario\n",
    "comercial, estación del año.\n",
    "\n",
    "Las características de fecha y hora no se limitan solo a valores\n",
    "enteros. También se pueden crear características binarias, como una\n",
    "característica en la que, si la información de la marca de tiempo está\n",
    "antes del horario comercial, su valor es igual a 1; si la información de\n",
    "la marca de tiempo está después del horario comercial, su valor es igual\n",
    "a 0. Finalmente, al tratar con datos de series de tiempo, es importante\n",
    "recordar todas las propiedades de fecha y hora a las que se puede\n",
    "acceder desde `Timestamp` o `DatetimeIndex`."
   ]
  },
  {
   "cell_type": "markdown",
   "metadata": {},
   "source": [
    "### **Funciones de Retraso y Funciones de Ventana**"
   ]
  },
  {
   "cell_type": "markdown",
   "metadata": {},
   "source": [
    "Son valores en pasos de tiempo anteriores que se consideran útiles\n",
    "porque se crean bajo la suposición de que lo que ocurrió en el pasado\n",
    "puede influir o contener una especie de información intrínseca sobre el\n",
    "futuro.\n",
    "\n",
    "Una categoría interesante de características de rezago se llama\n",
    "\"características de rezago anidadas\". Para crear características de\n",
    "rezago anidadas, se debe identificar un período de tiempo fijo en el\n",
    "pasado y agrupar los valores de las características por ese período de\n",
    "tiempo.\n",
    "\n",
    "La biblioteca pandas proporciona la función `shift()` para ayudar a\n",
    "crear estas características de rezago o desplazamiento a partir de un\n",
    "conjunto de datos de series temporales. Esta función desplaza un índice\n",
    "por el número deseado de períodos con una frecuencia de tiempo opcional.\n",
    "El método `shift()` acepta un argumento `freq` que puede aceptar una\n",
    "clase `DateOffset` o un objeto similar a `timedelta` o también un alias\n",
    "de offset. El alias de offset es un concepto importante que los\n",
    "científicos de datos pueden aprovechar al tratar con datos de series\n",
    "temporales, ya que representa el número de alias de cadena que se\n",
    "asignan a frecuencias de series de tiempo comunes útiles, como se resume\n",
    "en la Tabla 3.4.\n",
    "\n",
    "![**Tabla 3.4** Alias de compensación compatibles con\n",
    "Python](tabla3.4.png){alt=\"Tabla 3.4: Alias de compensación compatibles con Python\"}\n",
    "\n",
    "**Tabla 3.4:** Alias de compensación compatibles con Python\n",
    "\n",
    "A continuación se muestra un ejemplo de cómo utilizar alias de\n",
    "compensación en el conjunto ts_data y su dalida:"
   ]
  },
  {
   "cell_type": "code",
   "execution_count": 94,
   "metadata": {},
   "outputs": [
    {
     "data": {
      "text/html": [
       "<div>\n",
       "<style scoped>\n",
       "    .dataframe tbody tr th:only-of-type {\n",
       "        vertical-align: middle;\n",
       "    }\n",
       "\n",
       "    .dataframe tbody tr th {\n",
       "        vertical-align: top;\n",
       "    }\n",
       "\n",
       "    .dataframe thead th {\n",
       "        text-align: right;\n",
       "    }\n",
       "</style>\n",
       "<table border=\"1\" class=\"dataframe\">\n",
       "  <thead>\n",
       "    <tr style=\"text-align: right;\">\n",
       "      <th></th>\n",
       "      <th>load</th>\n",
       "      <th>temp</th>\n",
       "      <th>hour</th>\n",
       "      <th>month</th>\n",
       "      <th>dayofweek</th>\n",
       "    </tr>\n",
       "  </thead>\n",
       "  <tbody>\n",
       "    <tr>\n",
       "      <th>2012-01-05 00:00:00</th>\n",
       "      <td>2,698.00</td>\n",
       "      <td>32.00</td>\n",
       "      <td>0</td>\n",
       "      <td>1</td>\n",
       "      <td>1</td>\n",
       "    </tr>\n",
       "    <tr>\n",
       "      <th>2012-01-05 01:00:00</th>\n",
       "      <td>2,558.00</td>\n",
       "      <td>32.67</td>\n",
       "      <td>1</td>\n",
       "      <td>1</td>\n",
       "      <td>1</td>\n",
       "    </tr>\n",
       "    <tr>\n",
       "      <th>2012-01-05 02:00:00</th>\n",
       "      <td>2,444.00</td>\n",
       "      <td>30.00</td>\n",
       "      <td>2</td>\n",
       "      <td>1</td>\n",
       "      <td>1</td>\n",
       "    </tr>\n",
       "    <tr>\n",
       "      <th>2012-01-05 03:00:00</th>\n",
       "      <td>2,402.00</td>\n",
       "      <td>31.00</td>\n",
       "      <td>3</td>\n",
       "      <td>1</td>\n",
       "      <td>1</td>\n",
       "    </tr>\n",
       "    <tr>\n",
       "      <th>2012-01-05 04:00:00</th>\n",
       "      <td>2,403.00</td>\n",
       "      <td>32.00</td>\n",
       "      <td>4</td>\n",
       "      <td>1</td>\n",
       "      <td>1</td>\n",
       "    </tr>\n",
       "  </tbody>\n",
       "</table>\n",
       "</div>"
      ],
      "text/plain": [
       "                        load  temp  hour  month  dayofweek\n",
       "2012-01-05 00:00:00 2,698.00 32.00     0      1          1\n",
       "2012-01-05 01:00:00 2,558.00 32.67     1      1          1\n",
       "2012-01-05 02:00:00 2,444.00 30.00     2      1          1\n",
       "2012-01-05 03:00:00 2,402.00 31.00     3      1          1\n",
       "2012-01-05 04:00:00 2,403.00 32.00     4      1          1"
      ]
     },
     "execution_count": 94,
     "metadata": {},
     "output_type": "execute_result"
    }
   ],
   "source": [
    "ts_data_shift = ts_data.shift(4, freq=pd.offsets.BDay())\n",
    "ts_data_shift.head(5)"
   ]
  },
  {
   "cell_type": "markdown",
   "metadata": {},
   "source": [
    "En lugar de cambiar la alineación de los datos y el índice, los objetos\n",
    "DataFrame y Series también tienen un método conveniente llamado\n",
    "`tshift()` que cambia todas las fechas en el índice por un número\n",
    "especificado de desplazamientos, utilizando la frecuencia del índice si\n",
    "está disponible, como se muestra en el siguiente ejemplo:"
   ]
  },
  {
   "cell_type": "code",
   "execution_count": 95,
   "metadata": {},
   "outputs": [
    {
     "data": {
      "text/html": [
       "<div>\n",
       "<style scoped>\n",
       "    .dataframe tbody tr th:only-of-type {\n",
       "        vertical-align: middle;\n",
       "    }\n",
       "\n",
       "    .dataframe tbody tr th {\n",
       "        vertical-align: top;\n",
       "    }\n",
       "\n",
       "    .dataframe thead th {\n",
       "        text-align: right;\n",
       "    }\n",
       "</style>\n",
       "<table border=\"1\" class=\"dataframe\">\n",
       "  <thead>\n",
       "    <tr style=\"text-align: right;\">\n",
       "      <th></th>\n",
       "      <th>load</th>\n",
       "      <th>temp</th>\n",
       "      <th>hour</th>\n",
       "      <th>month</th>\n",
       "      <th>dayofweek</th>\n",
       "    </tr>\n",
       "  </thead>\n",
       "  <tbody>\n",
       "    <tr>\n",
       "      <th>2012-01-07 00:00:00</th>\n",
       "      <td>2,698.00</td>\n",
       "      <td>32.00</td>\n",
       "      <td>0</td>\n",
       "      <td>1</td>\n",
       "      <td>1</td>\n",
       "    </tr>\n",
       "    <tr>\n",
       "      <th>2012-01-07 01:00:00</th>\n",
       "      <td>2,558.00</td>\n",
       "      <td>32.67</td>\n",
       "      <td>1</td>\n",
       "      <td>1</td>\n",
       "      <td>1</td>\n",
       "    </tr>\n",
       "    <tr>\n",
       "      <th>2012-01-07 02:00:00</th>\n",
       "      <td>2,444.00</td>\n",
       "      <td>30.00</td>\n",
       "      <td>2</td>\n",
       "      <td>1</td>\n",
       "      <td>1</td>\n",
       "    </tr>\n",
       "    <tr>\n",
       "      <th>2012-01-07 03:00:00</th>\n",
       "      <td>2,402.00</td>\n",
       "      <td>31.00</td>\n",
       "      <td>3</td>\n",
       "      <td>1</td>\n",
       "      <td>1</td>\n",
       "    </tr>\n",
       "    <tr>\n",
       "      <th>2012-01-07 04:00:00</th>\n",
       "      <td>2,403.00</td>\n",
       "      <td>32.00</td>\n",
       "      <td>4</td>\n",
       "      <td>1</td>\n",
       "      <td>1</td>\n",
       "    </tr>\n",
       "  </tbody>\n",
       "</table>\n",
       "</div>"
      ],
      "text/plain": [
       "                        load  temp  hour  month  dayofweek\n",
       "2012-01-07 00:00:00 2,698.00 32.00     0      1          1\n",
       "2012-01-07 01:00:00 2,558.00 32.67     1      1          1\n",
       "2012-01-07 02:00:00 2,444.00 30.00     2      1          1\n",
       "2012-01-07 03:00:00 2,402.00 31.00     3      1          1\n",
       "2012-01-07 04:00:00 2,403.00 32.00     4      1          1"
      ]
     },
     "execution_count": 95,
     "metadata": {},
     "output_type": "execute_result"
    }
   ],
   "source": [
    "ts_data_shift_2 = ts_data.tshift(6, freq='D')\n",
    "ts_data_shift_2.head(5)"
   ]
  },
  {
   "cell_type": "markdown",
   "metadata": {},
   "source": [
    "Con `tshift`, la primera entrada es un valor NaN porque los datos no se\n",
    "están realineando. Cuando no se proporciona un valor para la frecuencia,\n",
    "simplemente desplaza el índice sin realinear los datos. Si se pasa un\n",
    "valor de frecuencia (en este caso, el índice debe ser de fecha o fecha y\n",
    "hora, de lo contrario, se generará un error `NotImplementedError`), el\n",
    "índice se incrementará utilizando los períodos y el valor de frecuencia.\n",
    "\n",
    "El desplazamiento del conjunto de datos en 1 crea una nueva columna \"t\"\n",
    "y agrega un valor NaN (desconocido) para la primera fila. El conjunto de\n",
    "datos de series temporales sin un desplazamiento representa \"t+1\".\n",
    "Veamos un ejemplo concreto. Podemos utilizar el conjunto de datos\n",
    "ts_data para calcular características de carga rezagadas de la\n",
    "siguiente manera:"
   ]
  },
  {
   "cell_type": "code",
   "execution_count": 96,
   "metadata": {},
   "outputs": [
    {
     "name": "stdout",
     "output_type": "stream",
     "text": [
      "                        load  temp  hour  month  dayofweek  load_lag1  \\\n",
      "2012-01-01 00:00:00 2,698.00 32.00     0      1          1        NaN   \n",
      "2012-01-01 01:00:00 2,558.00 32.67     1      1          1   2,698.00   \n",
      "2012-01-01 02:00:00 2,444.00 30.00     2      1          1   2,558.00   \n",
      "2012-01-01 03:00:00 2,402.00 31.00     3      1          1   2,444.00   \n",
      "2012-01-01 04:00:00 2,403.00 32.00     4      1          1   2,402.00   \n",
      "\n",
      "                     load_lag2  load_lag3  load_lag4  load_lag5  ...  \\\n",
      "2012-01-01 00:00:00        NaN        NaN        NaN        NaN  ...   \n",
      "2012-01-01 01:00:00        NaN        NaN        NaN        NaN  ...   \n",
      "2012-01-01 02:00:00   2,698.00        NaN        NaN        NaN  ...   \n",
      "2012-01-01 03:00:00   2,558.00   2,698.00        NaN        NaN  ...   \n",
      "2012-01-01 04:00:00   2,444.00   2,558.00   2,698.00        NaN  ...   \n",
      "\n",
      "                     load_lag7  load_lag8  temp_lag1  temp_lag2  temp_lag3  \\\n",
      "2012-01-01 00:00:00        NaN        NaN        NaN        NaN        NaN   \n",
      "2012-01-01 01:00:00        NaN        NaN      32.00        NaN        NaN   \n",
      "2012-01-01 02:00:00        NaN        NaN      32.67      32.00        NaN   \n",
      "2012-01-01 03:00:00        NaN        NaN      30.00      32.67      32.00   \n",
      "2012-01-01 04:00:00        NaN        NaN      31.00      30.00      32.67   \n",
      "\n",
      "                     temp_lag4  temp_lag5  temp_lag6  temp_lag7  temp_lag8  \n",
      "2012-01-01 00:00:00        NaN        NaN        NaN        NaN        NaN  \n",
      "2012-01-01 01:00:00        NaN        NaN        NaN        NaN        NaN  \n",
      "2012-01-01 02:00:00        NaN        NaN        NaN        NaN        NaN  \n",
      "2012-01-01 03:00:00        NaN        NaN        NaN        NaN        NaN  \n",
      "2012-01-01 04:00:00      32.00        NaN        NaN        NaN        NaN  \n",
      "\n",
      "[5 rows x 21 columns]\n"
     ]
    }
   ],
   "source": [
    "def generated_lagged_features(ts_data, var, max_lag):\n",
    "     for t in range(1, max_lag+1):\n",
    "            ts_data[var+'_lag'+str(t)] = ts_data[var].shift(t, freq='1H')\n",
    " \n",
    "generated_lagged_features(ts_data, 'load', 8)\n",
    "generated_lagged_features(ts_data, 'temp', 8)\n",
    "print(ts_data.head(5))"
   ]
  },
  {
   "cell_type": "markdown",
   "metadata": {},
   "source": [
    "En el código anterior, primero se crea una función llamada\n",
    "\"generated_lagged_features\" y luego se generan ocho características de\n",
    "rezago adicionales con una frecuencia de una hora.\n",
    "\n",
    "La operación de agregar características de rezago se llama método de\n",
    "ventana deslizante o \"Window Features\". Las \"Window Features\" son un\n",
    "resumen de valores durante una ventana fija de pasos de tiempo\n",
    "anteriores. Dependiendo del escenario de series se tiempo, se puede\n",
    "ampliar el ancho de la ventana e incluir más características rezagadas.\n",
    "Una pregunta común que se hace antes de realizar la operación de agregar\n",
    "características de rezago es cuán grande debe ser la ventana. Un enfoque\n",
    "recomendado sería construir una serie de diferentes anchos de ventana y\n",
    "agregarlos o quitarlos alternativamente del conjunto de datos para ver\n",
    "cuál tiene un efecto positivo más evidente en el rendimiento del modelo.\n",
    "\n",
    "Comprender el método de ventana deslizante es muy útil para construir un\n",
    "método de características adicionales llamado \"Estadísticas de Ventana\n",
    "Deslizante\"."
   ]
  },
  {
   "cell_type": "markdown",
   "metadata": {},
   "source": [
    "### **Estadísticas de Ventana Móvil**"
   ]
  },
  {
   "cell_type": "markdown",
   "metadata": {},
   "source": [
    "El propósito principal de las \"Estadísticas de Ventana Deslizante\" en\n",
    "series de tiempo es calcular estadísticas sobre un conjunto de datos\n",
    "tomando ventanas móviles de observaciones y aplicando cálculos, como el\n",
    "promedio móvil. Esto se logra utilizando la función `rolling()` en\n",
    "pandas, que crea una nueva estructura de datos con ventanas de valores\n",
    "en cada paso temporal. Luego, se pueden realizar cálculos estadísticos\n",
    "en estas ventanas. El siguiente ejemplo muestra como hacer esto con una\n",
    "ventana de tamaño 6 y su salida:"
   ]
  },
  {
   "cell_type": "code",
   "execution_count": 97,
   "metadata": {},
   "outputs": [
    {
     "name": "stdout",
     "output_type": "stream",
     "text": [
      "                     load_rol_mean     load\n",
      "2012-01-01 00:00:00            NaN 2,698.00\n",
      "2012-01-01 01:00:00            NaN 2,558.00\n",
      "2012-01-01 02:00:00            NaN 2,444.00\n",
      "2012-01-01 03:00:00            NaN 2,402.00\n",
      "2012-01-01 04:00:00            NaN 2,403.00\n",
      "2012-01-01 05:00:00            NaN 2,453.00\n",
      "2012-01-01 06:00:00       2,493.00 2,560.00\n",
      "2012-01-01 07:00:00       2,470.00 2,719.00\n",
      "2012-01-01 08:00:00       2,496.83 2,916.00\n",
      "2012-01-01 09:00:00       2,575.50 3,105.00\n"
     ]
    }
   ],
   "source": [
    "# create a rolling mean feature\n",
    "from pandas import concat\n",
    "load_val = ts_data[['load']]\n",
    "shifted = load_val.shift(1)\n",
    "window = shifted.rolling(window=6)\n",
    "means = window.mean()\n",
    "new_dataframe = concat([means, load_val], axis=1)\n",
    "new_dataframe.columns = ['load_rol_mean', 'load']\n",
    "print(new_dataframe.head(10))"
   ]
  },
  {
   "cell_type": "markdown",
   "metadata": {},
   "source": [
    "Para crear una ventana de ancho 4, usamos la función `Rolling()` y se crea\n",
    "un conjunto de datos que contenga más estadísticas resumidas.\n"
   ]
  },
  {
   "cell_type": "code",
   "execution_count": 98,
   "metadata": {},
   "outputs": [
    {
     "name": "stdout",
     "output_type": "stream",
     "text": [
      "                         min     mean      max     load\n",
      "2012-01-01 00:00:00      NaN      NaN      NaN 2,698.00\n",
      "2012-01-01 01:00:00      NaN      NaN      NaN 2,558.00\n",
      "2012-01-01 02:00:00      NaN      NaN      NaN 2,444.00\n",
      "2012-01-01 03:00:00      NaN      NaN      NaN 2,402.00\n",
      "2012-01-01 04:00:00      NaN      NaN      NaN 2,403.00\n",
      "2012-01-01 05:00:00      NaN      NaN      NaN 2,453.00\n",
      "2012-01-01 06:00:00 2,402.00 2,525.50 2,698.00 2,560.00\n",
      "2012-01-01 07:00:00 2,402.00 2,451.75 2,558.00 2,719.00\n",
      "2012-01-01 08:00:00 2,402.00 2,425.50 2,453.00 2,916.00\n",
      "2012-01-01 09:00:00 2,402.00 2,454.50 2,560.00 3,105.00\n"
     ]
    }
   ],
   "source": [
    "# create rolling statistics features\n",
    "from pandas import concat\n",
    "load_val = ts_data[['load']]\n",
    "width = 4\n",
    "shifted = load_val.shift(width - 1)\n",
    "window = shifted.rolling(window=width)\n",
    "new_dataframe = pd.concat([window.min(),\n",
    "window.mean(), window.max(), load_val], axis=1)\n",
    "new_dataframe.columns = ['min', 'mean', 'max', 'load']\n",
    "print(new_dataframe.head(10))"
   ]
  },
  {
   "cell_type": "markdown",
   "metadata": {},
   "source": [
    "### **Estadísticas de ventana expandida**"
   ]
  },
  {
   "cell_type": "markdown",
   "metadata": {},
   "source": [
    "Las \"Expanding Window\" son características que incluyen todos los datos\n",
    "previos. pandas ofrece una función llamada `expanding()` que proporciona\n",
    "transformaciones expansivas y ensambla conjuntos de todos los valores\n",
    "anteriores para cada paso temporal. Python ofrece la misma interfaz y\n",
    "capacidades para las funciones `rolling()` y `expanding()`.\n",
    "\n",
    "A continuación, se muestra un ejemplo de cómo calcular los valores\n",
    "mínimos, medios y máximos de la ventana expansiva en el conjunto de\n",
    "datos `ts_data`:\n"
   ]
  },
  {
   "cell_type": "code",
   "execution_count": 99,
   "metadata": {},
   "outputs": [
    {
     "name": "stdout",
     "output_type": "stream",
     "text": [
      "                         min     mean      max   load+1\n",
      "2012-01-01 00:00:00 2,698.00 2,698.00 2,698.00 2,558.00\n",
      "2012-01-01 01:00:00 2,558.00 2,628.00 2,698.00 2,444.00\n",
      "2012-01-01 02:00:00 2,444.00 2,566.67 2,698.00 2,402.00\n",
      "2012-01-01 03:00:00 2,402.00 2,525.50 2,698.00 2,403.00\n",
      "2012-01-01 04:00:00 2,402.00 2,501.00 2,698.00 2,453.00\n",
      "2012-01-01 05:00:00 2,402.00 2,493.00 2,698.00 2,560.00\n",
      "2012-01-01 06:00:00 2,402.00 2,502.57 2,698.00 2,719.00\n",
      "2012-01-01 07:00:00 2,402.00 2,529.62 2,719.00 2,916.00\n",
      "2012-01-01 08:00:00 2,402.00 2,572.56 2,916.00 3,105.00\n",
      "2012-01-01 09:00:00 2,402.00 2,625.80 3,105.00 3,174.00\n"
     ]
    }
   ],
   "source": [
    "# create expanding window features\n",
    "from pandas import concat\n",
    "load_val = ts_data[['load']]\n",
    "window = load_val.expanding()\n",
    "new_dataframe = concat([window.min(),\n",
    "window.mean(), window.max(), load_val. shift(-1)], axis=1)\n",
    "new_dataframe.columns = ['min', 'mean', 'max', 'load+1']\n",
    "print(new_dataframe.head(10))"
   ]
  },
  {
   "cell_type": "markdown",
   "metadata": {},
   "source": [
    "## **Referencia**"
   ]
  },
  {
   "cell_type": "markdown",
   "metadata": {},
   "source": [
    "Lazzeri, F. (2020). Machine Learning for Time Series Forecasting with Python. Wiley"
   ]
  }
 ],
 "metadata": {
  "kernelspec": {
   "display_name": "Python 3",
   "language": "python",
   "name": "python3"
  },
  "language_info": {
   "codemirror_mode": {
    "name": "ipython",
    "version": 3
   },
   "file_extension": ".py",
   "mimetype": "text/x-python",
   "name": "python",
   "nbconvert_exporter": "python",
   "pygments_lexer": "ipython3",
   "version": "3.10.10"
  },
  "orig_nbformat": 4
 },
 "nbformat": 4,
 "nbformat_minor": 2
}
