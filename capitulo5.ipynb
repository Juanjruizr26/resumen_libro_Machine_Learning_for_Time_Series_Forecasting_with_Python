{
 "cells": [
  {
   "cell_type": "markdown",
   "metadata": {},
   "source": [
    "# **Introducción a las Redes Neuronales para el Pronóstico de Series de Tiempo**"
   ]
  },
  {
   "cell_type": "markdown",
   "metadata": {},
   "source": [
    "Los métodos de aprendizaje profundo, similares a los utilizados en visión por computadora y traducción automática, tienen el potencial de revolucionar la predicción de series de tiemp.\n",
    "\n",
    "Debido a su aplicabilidad a problemas de la vida real, como detección de fraude, filtrado de correo no deseado, finanzas y diagnóstico médico, y su capacidad para generar resultados accionables, las redes neuronales de aprendizaje profundo han ganado mucha atención en los últimos años. Sin embargo, generalmente se han desarrollado y aplicado métodos de aprendizaje profundo en escenarios de pronóstico de series de tiempo univariadas, donde la serie de tiempo consta de observaciones individuales registradas secuencialmente en incrementos de tiempo iguales.\n",
    "\n",
    "Esto ha llevado a la percepción errónea de que los modelos de aprendizaje profundo son menos eficientes en escenarios de predicción de series de tiempo en comparación con métodos de pronóstico ingenuos y clásicos, como el modelo ARIMA."
   ]
  },
  {
   "cell_type": "markdown",
   "metadata": {},
   "source": [
    "## **Razones para agregar aprendizaje profundo a las series de tiempo**"
   ]
  },
  {
   "cell_type": "markdown",
   "metadata": {},
   "source": [
    "El objetivo del aprendizaje automático es encontrar características para entrenar un modelo que transforme datos de entrada (como imágenes, series temporales o audio) en una salida dada (como subtítulos, valores de precios o transcripciones). El aprendizaje profundo es un subconjunto de algoritmos de aprendizaje automático que aprenden a extraer estas características representando los datos de entrada como vectores y transformándolos con una serie de operaciones de álgebra lineal en una salida dada.\n",
    "\n",
    "- El aprendizaje automático es la práctica de utilizar un algoritmo para descomponer datos, aprender de ellos y luego usar estos datos para hacer predicciones sobre un cierto fenómeno. El proceso de aprendizaje generalmente se basa en los siguientes pasos:\n",
    "\n",
    "    1. Alimentar el algoritmo con datos.\n",
    "    2. Luego usar estos datos para enseñar al modelo cómo aprender a partir de observaciones previas.\n",
    "    3. Realizar una prueba para verificar si el modelo ha aprendido lo suficiente a partir de observaciones anteriores y evaluar su rendimiento.\n",
    "    4. Si el modelo funciona bien (según las expectativas y requisitos), se implementa y lo pone en producción, haciéndolo disponible para otros interesados en la organización o fuera de la empresa.\n",
    "    5. Finalmente, consumir el modelo implementado para realizar una cierta tarea predictiva automatizada.\n",
    "\n",
    "- El aprendizaje profundo es un subconjunto del aprendizaje automático. Los algoritmos de aprendizaje profundo son tipos específicos de algoritmos de aprendizaje automático que se basan en redes neuronales artificiales. En este caso, el proceso de aprendizaje se basa en los mismos pasos que los del aprendizaje automático, pero se llama \"profundo\" porque la estructura del algoritmo se basa en redes neuronales artificiales que constan de múltiples capas de entrada, salida y capas ocultas, que contienen unidades que transforman los datos de entrada en información que la siguiente capa puede usar para realizar una cierta tarea predictiva automatizada una vez que se implementa el modelo de aprendizaje profundo.\n",
    "\n",
    "Las diferencias clave entre el aprendizaje automático y el aprendizaje profundo se resumen en la Tabla 5.1.\n",
    "\n",
    "\n",
    "**Tabla 5.1:** Diferencias clave entre el aprendizaje automático y el aprendizaje profundo\n",
    "![Alt text](untitled:Untitled-1.ipynb/image.png?jupyter-notebook)\n",
    "![Alt text](untitled:Untitled-1.ipynb/image.png?jupyter-notebook)\n",
    "\n",
    "Las redes neuronales de aprendizaje profundo tienen tres capacidades intrínsecas principales:\n",
    "\n",
    "- Las redes neuronales de aprendizaje profundo son capaces de aprender automáticamente y extraer características de datos crudos e imperfectos.\n",
    "- El aprendizaje profundo admite múltiples entradas y salidas.\n",
    "- Las redes neuronales recurrentes, en particular, las redes de memoria a corto y largo plazo (LSTM) y las unidades recurrentes con compuertas (GRUs), son eficaces para extraer patrones en los datos de entrada que abarcan secuencias relativamente largas."
   ]
  },
  {
   "cell_type": "markdown",
   "metadata": {},
   "source": [
    "### **Las redes neuronales de aprendizaje profundo son capaces de aprender automáticamente y extraer características de datos crudos e imperfectos**"
   ]
  },
  {
   "cell_type": "markdown",
   "metadata": {},
   "source": [
    "Las series de tiempo son un tipo de datos que mide cómo las cosas cambian con el tiempo. En las ellas, el tiempo no es simplemente una métrica, sino un eje principal. Esta dimensión adicional representa tanto una oportunidad como una limitación para los datos de series de tiempo, ya que proporciona una fuente de información adicional pero hace que los problemas de series temporales sean más desafiantes, ya que se requiere un manejo especializado de los datos.\n",
    "\n",
    "Además, esta estructura de tiempo puede llevar información adicional, como tendencias y estacionalidad, que se necesitan abordar para facilitar la modelización de series de tiempo con cualquier tipo de métodos de pronóstico clásicos. Las redes neuronales pueden ser útiles para problemas de predicción de series de tiempo al eliminar la necesidad inmediata de procesos masivos de ingeniería de características, procedimientos de escala de datos y hacer que los datos sean estacionarios mediante diferenciación.\n",
    "\n",
    "En escenarios de series de tiempo del mundo real, y escenarios de predicción basados en dispositivos IoT en tiempo real, presentan limitaciones para los métodos de pronóstico clásicos. Estas técnicas suelen depender de conjuntos de datos limpios y completos para funcionar bien; los valores faltantes, los valores atípicos y otras características imperfectas suelen no ser compatibles. Hablando de conjuntos de datos más artificiales y perfectos, los métodos de pronóstico clásicos se basan en la suposición de que existe una relación lineal y una dependencia temporal fija entre las variables de un conjunto de datos, y esta suposición excluye por defecto la posibilidad de explorar relaciones más complejas y probablemente más interesantes entre las variables.\n",
    "\n",
    "Se deben tomar decisiones subjetivas al preparar los datos para un análisis clásico, como el período de retraso utilizado para eliminar las tendencias, lo que consume tiempo y introduce sesgos humanos en el proceso. Por el contrario, las redes neuronales son robustas al ruido en los datos de entrada y en la función de mapeo, e incluso pueden admitir el aprendizaje y la predicción en presencia de valores faltantes.\n",
    "\n",
    "Las redes neuronales convolucionales (CNN) son una categoría de redes neuronales que han demostrado ser muy efectivas en áreas como el reconocimiento y la clasificación de imágenes. El propósito principal de la convolución en el caso de las CNN es extraer características de la imagen de entrada. La convolución preserva la relación espacial entre píxeles mediante la identificación de características de la imagen utilizando pequeños cuadrados de datos de entrada. En otras palabras, el modelo aprende a extraer automáticamente las características de los datos crudos que son directamente útiles para el problema que se está abordando. Esto se llama aprendizaje de representación, y las CNN lo logran de tal manera que las características se extraen independientemente de cómo ocurran en los datos, lo que se denomina invarianza a la transformación o distorsión. La capacidad de las CNN para aprender y extraer automáticamente características de datos de entrada crudos se puede aplicar a problemas de predicción de series temporales. Una secuencia de observaciones puede tratarse como una imagen unidimensional que un modelo de CNN puede leer y refinar en los elementos más relevantes. Esta capacidad de las CNN se ha demostrado con gran efecto en tareas de clasificación de series temporales, como la predicción de movimientos en interiores, utilizando datos de la fuerza del sensor inalámbrico para predecir la ubicación y el movimiento de sujetos dentro de un edificio."
   ]
  },
  {
   "cell_type": "markdown",
   "metadata": {},
   "source": [
    "### **El aprendizaje profundo admite múltiples entradas y salidas**"
   ]
  },
  {
   "cell_type": "markdown",
   "metadata": {},
   "source": [
    "La predicción de series de tiempo del mundo real presenta varios desafíos, como tener múltiples variables de entrada, la necesidad de predecir múltiples pasos en el tiempo y la necesidad de realizar el mismo tipo de predicción para múltiples ubicaciones físicas. Los algoritmos de aprendizaje profundo pueden aplicarse a problemas de predicción de series de tiempo y ofrecen beneficios, como la capacidad de manejar múltiples variables de entrada con dependencias complejas y ruidosas.\n",
    "\n",
    "Específicamente, las redes neuronales pueden configurarse para admitir un número arbitrario pero fijo de entradas y salidas en la función de mapeo. En una serie de tiempo univariada, que como su nombre indica, es una serie con una sola variable dependiente del tiempo. Por ejemplo, si se desea predecir el consumo de energía en un lugar específico, en un escenario de serie de tiempo univariada, el conjunto de datos se basará en dos variables, los valores de tiempo y las observaciones históricas de consumo de energía.\n",
    "\n",
    "Una serie de tiempo multivariada tiene más de una variable dependiente del tiempo. Cada variable no solo depende de sus valores pasados, sino que también tiene alguna dependencia de otras variables. Esta dependencia se utiliza para predecir los valores futuros. \n",
    "\n",
    "Con las redes neuronales, se puede especificar un número arbitrario de valores de salida, lo que brinda soporte directo para escenarios de series de tiempo más complejos que requieren predicciones multivariadas e incluso métodos de pronóstico a múltiples pasos. Hay dos enfoques principales que los métodos de aprendizaje profundo pueden utilizar para hacer pronósticos a múltiples pasos:\n",
    "\n",
    "- Enfoque directo, donde se desarrolla un modelo separado para pronosticar cada horizonte de pronóstico.\n",
    "- Enfoque recursivo, donde se desarrolla un solo modelo para hacer pronósticos de un paso y se utiliza de manera recursiva, donde los pronósticos anteriores se utilizan como entrada para pronosticar el siguiente horizonte.\n",
    "\n",
    "El enfoque recursivo puede tener sentido al pronosticar un bloque contiguo corto de horizontes de pronóstico, mientras que el enfoque directo puede ser más apropiado cuando se necesite pronosticar horizontes de pronóstico discontiguos.\n",
    "\n",
    "La clave para el uso de algoritmos de aprendizaje profundo en la predicción de series de tiempo es la elección de múltiples datos de entrada. Se puede pensar en tres fuentes principales de datos que se pueden utilizar como entrada y mapearse a cada horizonte de pronóstico para una variable objetivo:\n",
    "\n",
    "- Datos univariados, como observaciones rezagadas de la variable objetivo que se está pronosticando.\n",
    "- Datos multivariados, como observaciones rezagadas de otras variables.\n",
    "- Metadatos, como datos sobre la fecha o la hora que se está pronosticando. Este tipo de datos puede proporcionar información adicional sobre patrones históricos, lo que ayuda a crear conjuntos de datos más ricos y pronósticos más precisos."
   ]
  },
  {
   "cell_type": "markdown",
   "metadata": {},
   "source": [
    "### **Las redes neuronales recurrentes son buenas para extraer patrones de datos de entrada**"
   ]
  },
  {
   "cell_type": "markdown",
   "metadata": {},
   "source": [
    "Las redes neuronales recurrentes (RNN) representan un hito significativo en el campo del aprendizaje automático, especialmente cuando se trata de la predicción de series temporales. A pesar de haber sido concebidas en la década de 1980, su verdadera popularidad ha emergido recientemente gracias al crecimiento exponencial de la potencia computacional, impulsado en gran medida por las unidades de procesamiento gráfico (GPU).\n",
    "\n",
    "La principal ventaja de las RNN radica en su capacidad para manejar datos secuenciales. Cada unidad en una red RNN es capaz de conservar información sobre las entradas previas mediante su memoria interna. Esto es fundamental en situaciones en las que las dependencias temporales son cruciales, como en la predicción de series temporales.\n",
    "\n",
    "Sin embargo, las RNN convencionales presentan una limitación importante: su incapacidad para capturar dependencias a largo plazo en una secuencia. Esta debilidad condujo a un periodo en el que las RNN cayeron en desuso en muchas aplicaciones prácticas. No obstante, esta situación cambió con la introducción de las unidades LSTM (Memoria a Corto y Largo Plazo).\n",
    "\n",
    "Las LSTM son un tipo específico de RNN que aborda esta limitación de manera efectiva. Incorporan celdas de memoria a corto y largo plazo que permiten a la red mantener información de contexto desde el inicio de una secuencia. Esta característica resulta fundamental para la captura de dependencias temporales a largo plazo, lo que las convierte en una herramienta poderosa en campos tan diversos como el procesamiento de video y la predicción financiera.\n",
    "\n",
    "Es importante destacar que, si bien las redes neuronales, incluyendo las LSTM, ofrecen una capacidad impresionante, también presentan desafíos. Requieren grandes volúmenes de datos para su entrenamiento, ajustes precisos de hiperparámetros y múltiples iteraciones de optimización. No obstante, su habilidad para automatizar la extracción de características y aprender dependencias temporales las convierte en una herramienta esencial en la resolución de problemas de series temporales complejos."
   ]
  },
  {
   "cell_type": "markdown",
   "metadata": {},
   "source": [
    "## **Redes neuronales recurrentes para pronóstico de series de tiempo**"
   ]
  },
  {
   "cell_type": "markdown",
   "metadata": {},
   "source": [
    "Las Redes Neuronales Recurrentes (RNN), también conocidas como redes autoasociativas o de retroalimentación, pertenecen a una clase de redes neuronales artificiales donde las conexiones entre unidades forman un ciclo dirigido. Esto crea un estado interno en la red, lo que le permite exhibir un comportamiento temporal dinámico. Las RNN pueden aprovechar su memoria interna para manejar secuencias de entradas y, en lugar de simplemente mapear entradas a salidas, son capaces de utilizar una función de mapeo para las entradas a lo largo del tiempo hacia una salida.\n",
    "\n",
    "Las RNN han demostrado obtener resultados de vanguardia en muchas aplicaciones con datos temporales o secuenciales, como la traducción automática y el reconocimiento de voz. En particular, las LSTM (Memorias a Corto y Largo Plazo) son un tipo de arquitectura de RNN que se desempeña especialmente bien en diferentes tareas de procesamiento temporal. Las redes LSTM pueden abordar con éxito el problema de los largos desfases temporales en los datos de entrada y tienen propiedades como un rendimiento de predicción sólido y la capacidad de capturar dependencias temporales a largo plazo y observaciones de longitud variable."
   ]
  },
  {
   "cell_type": "markdown",
   "metadata": {},
   "source": [
    "### **Redes neuronales recurrentes**"
   ]
  },
  {
   "cell_type": "markdown",
   "metadata": {},
   "source": [
    "Las Redes Neuronales Recurrentes (RNN) son redes neuronales que utilizan estados ocultos y bucles para mantener información a lo largo del tiempo. En lugar de mapear simplemente entradas a salidas, las RNN pueden recordar lo que han visto anteriormente y combinar esta información para realizar predicciones. Cada unidad RNN procesa tanto la entrada actual como la información almacenada en su memoria.\n",
    "\n",
    "Estas unidades RNN se llaman \"recurrentes\" porque dependen de eventos anteriores de manera recurrente. Una arquitectura RNN consta de una entrada X, una salida Y y un estado oculto H. El estado oculto permite que la información se transmita de un nodo al siguiente, lo que es especialmente útil para datos secuenciales como series temporales.\n",
    "\n",
    "Los pesos de una RNN se aplican a diferentes elementos de la serie de entrada, y estos pesos se ajustan durante el entrenamiento mediante un proceso llamado descenso de gradiente. Sin embargo, las RNN tienen limitaciones, ya que a veces tienen dificultades para manejar secuencias largas debido al problema del \"gradiente desvaneciente\", donde la información se pierde a medida que se retropropaga en el tiempo."
   ]
  },
  {
   "cell_type": "markdown",
   "metadata": {},
   "source": [
    "### **Memoria a largo plazo**"
   ]
  },
  {
   "cell_type": "markdown",
   "metadata": {},
   "source": [
    "Las redes LSTM (Memorias a Corto y Largo Plazo) son capaces de aprender dependencias a largo plazo, lo que es fundamental para modelar datos de series temporales. Estas redes utilizan mecanismos internos llamados puertas y estado de celda para regular el flujo de información y evitar la pérdida de datos importantes.\n",
    "\n",
    "El estado de celda en una LSTM toma decisiones sobre qué información almacenar, liberar o eliminar. A través de procesos iterativos de suposiciones, retropropagación de errores y ajuste de pesos mediante el descenso de gradientes, la red aprende cuándo permitir que la información entre, salga o se elimine.\n",
    "\n",
    "Es importante destacar que las LSTM utilizan tanto sumas como multiplicaciones en la transformación de entradas y transferencia de información. Esto permite preservar errores de manera constante durante la retropropagación en profundidad. Las puertas de entrada y olvido deciden qué información se debe recordar y qué información se debe olvidar, mientras que la puerta de salida determina el siguiente estado oculto."
   ]
  },
  {
   "cell_type": "markdown",
   "metadata": {},
   "source": [
    "### **Unidades recurrentes con puerta**"
   ]
  },
  {
   "cell_type": "markdown",
   "metadata": {},
   "source": [
    "Las Unidades Recurrentes con Puertas (GRU) pueden considerarse como una variación de las LSTM, las redes GRU contienen solo tres puertas y no mantienen un estado de celda interno. La información que se almacena en el estado de celda interno de una unidad recurrente LSTM se incorpora al estado oculto de la GRU. Esta información combinada se agrega y se transfiere a la siguiente GRU.\n",
    "\n",
    "Las dos primeras puertas, la puerta de reinicio y la puerta de actualización, ayudan a resolver el problema del gradiente desvaneciente en una RNN estándar. Estas puertas son dos vectores que deciden qué información se debe pasar a la salida. La característica única de estas puertas es que pueden entrenarse para retener información de mucho tiempo atrás, sin eliminarla con el tiempo, o eliminar información que sea irrelevante para la predicción.\n",
    "\n",
    "- *Puerta de actualización:* ayuda al modelo a determinar cuánta información del pasado (de pasos de tiempo anteriores) debe transmitirse hacia el futuro.\n",
    "\n",
    "- *Puerta de reinicio:* decide cuánta información del pasado debe olvidarse.\n",
    "\n",
    "- *Puerta de memoria actual:* esta puerta se incorpora a la puerta de reinicio y se utiliza para introducir cierta no linealidad en la entrada y desarrollar la entrada con media cero. Otra motivación para incorporarla en la puerta de reinicio es disminuir el impacto que la información anterior tiene en la información actual que se está transmitiendo hacia el futuro.\n",
    "Una GRU es un mecanismo muy útil para resolver el problema del gradiente desvaneciente en redes neuronales recurrentes. El dilema del gradiente desvaneciente ocurre en el aprendizaje automático cuando el gradiente se vuelve pequeño, lo que impide que el peso ajuste su valor."
   ]
  },
  {
   "cell_type": "markdown",
   "metadata": {},
   "source": [
    "### **Cómo preparar datos de series de tiempo para LSTM y GRU**"
   ]
  },
  {
   "cell_type": "markdown",
   "metadata": {},
   "source": [
    "1. Indexar los datos según la marca de tiempo para el filtrado basado en el tiempo.\n",
    "2. Visualizar los datos en tablas con columnas con nombre.\n",
    "3. Identificar períodos y valores faltantes.\n",
    "4. Crear variables principales, retrasadas y adicionales.\n",
    "\n",
    "Además, tus datos de series de tiempo deben transformarse en dos tensores, como se ilustra en la Figura 5.2.\n",
    "\n",
    "![Alt text](image-3.png)\n",
    "\n",
    "**Figura 5.2**: Transformación datos de series de tiempo en dos tensores\n",
    "\n",
    "Los tensores representan la cantidad de muestras, pasos de tiempo y características requeridas para hacer una predicción (X), mientras que la muestra y el horizonte representan qué predicción se realiza (y). Si se toma el ejemplo de un problema de series temporales univariadas (por ejemplo, predecir la cantidad de energía en la siguiente hora), donde se está interesado en predicciones de un paso (por ejemplo, la próxima hora), las observaciones en pasos de tiempo anteriores (por ejemplo, los valores de carga de energía de las cuatro horas anteriores), llamadas observaciones rezagadas, se utilizan como entrada, y la salida es la observación en el siguiente paso de tiempo (horizonte).\n",
    "\n",
    "En primer lugar, se debem separar el conjunto de datos en conjuntos de entrenamiento, validación y prueba. Esto permite realizar los siguientes pasos importantes:\n",
    "\n",
    "1. Entrenar el modelo en el conjunto de entrenamiento.\n",
    "2. Luego, el conjunto de validación se utiliza para evaluar el modelo después de cada época de entrenamiento y garantizar que el modelo no esté sobreajustando los datos de entrenamiento.\n",
    "3. Después de que el modelo haya terminado de entrenar, se evalua el modelo en el conjunto de pruebas.\n",
    "4. Al manejar datos de series de tiempo, es importante asegurarse de que tanto el conjunto de validación como el conjunto de pruebas abarquen un período posterior en el tiempo en comparación con el conjunto de entrenamiento, para que el modelo no se beneficie de información de marcas de tiempo futuras.\n",
    "\n",
    "Primero, importemos las librerías necesarias.\n",
    "\n",
    "\n",
    "\n"
   ]
  },
  {
   "cell_type": "code",
   "execution_count": 266,
   "metadata": {},
   "outputs": [],
   "source": [
    "import zipfile\n",
    "import os\n",
    "import sys\n",
    "import pandas as pd\n",
    "\n",
    "# This function unzips the GEFCom2014 data zip file and extracts the 'extended'\n",
    "# load forecasting competition data. Data is saved in energy.csv\n",
    "def extract_data(data_dir):\n",
    "    GEFCom_dir = os.path.join(data_dir, 'GEFCom2014', 'GEFCom2014 Data')\n",
    "\n",
    "    GEFCom_zipfile = os.path.join(data_dir, 'GEFCom2014.zip')\n",
    "    if not os.path.exists(GEFCom_zipfile):\n",
    "        sys.exit(\"Download GEFCom2014.zip from https://www.dropbox.com/s/pqenrr2mcvl0hk9/GEFCom2014.zip?dl=0 and save it to the '{}' directory.\".format(data_dir))\n",
    "\n",
    "    # unzip root directory\n",
    "    zip_ref = zipfile.ZipFile(GEFCom_zipfile, 'r')\n",
    "    zip_ref.extractall(os.path.join(data_dir, 'GEFCom2014'))\n",
    "    zip_ref.close()\n",
    "\n",
    "    # extract the extended competition data\n",
    "    zip_ref = zipfile.ZipFile(os.path.join(GEFCom_dir, 'GEFCom2014-E_V2.zip'), 'r')\n",
    "    zip_ref.extractall(os.path.join(data_dir, 'GEFCom2014-E'))\n",
    "    zip_ref.close()\n",
    "\n",
    "    # load the data from Excel file\n",
    "    data = pd.read_excel(os.path.join(data_dir, 'GEFCom2014-E', 'GEFCom2014-E.xlsx'), parse_dates= True)\n",
    "    # data = pd.read_excel(os.path.join(data_dir, 'GEFCom2014-E', 'GEFCom2014-E.xlsx'), parse_date='Date')\n",
    "\n",
    "    # create timestamp variable from Date and Hour\n",
    "    data['timestamp'] = data['Date'].add(pd.to_timedelta(data.Hour - 1, unit='h'))\n",
    "    data = data[['timestamp', 'load', 'T']]\n",
    "    data = data.rename(columns={'T':'temp'})\n",
    "\n",
    "    # remove time period with no load data\n",
    "    data = data[data.timestamp >= '2012-01-01']\n",
    "\n",
    "    # save to csv\n",
    "    data.to_csv(os.path.join(data_dir, 'energy.csv'), index=False)\n",
    "\n",
    "import numpy as np\n",
    "import pandas as pd\n",
    "import os\n",
    "from collections import UserDict\n",
    "\n",
    "def load_data(data_dir):\n",
    "    \"\"\"Load the GEFCom 2014 energy load data\"\"\"\n",
    "\n",
    "    energy = pd.read_csv(os.path.join(data_dir, 'energy.csv'), parse_dates=['timestamp'])\n",
    "\n",
    "    # Reindex the dataframe such that the dataframe has a record for every time point\n",
    "    # between the minimum and maximum timestamp in the time series. This helps to \n",
    "    # identify missing time periods in the data (there are none in this dataset).\n",
    "\n",
    "    energy.index = energy['timestamp']\n",
    "    energy = energy.reindex(pd.date_range(min(energy['timestamp']),\n",
    "                                          max(energy['timestamp']),\n",
    "                                          freq='H'))\n",
    "    energy = energy.drop('timestamp', axis=1)\n",
    "\n",
    "    return energy\n",
    "\n",
    "\n",
    "def mape(predictions, actuals):\n",
    "    \"\"\"Mean absolute percentage error\"\"\"\n",
    "    return ((predictions - actuals).abs() / actuals).mean()\n",
    "\n",
    "\n",
    "def create_evaluation_df(predictions, test_inputs, H, scaler):\n",
    "    \"\"\"Create a data frame for easy evaluation\"\"\"\n",
    "    eval_df = pd.DataFrame(predictions, columns=['t+'+str(t) for t in range(1, H+1)])\n",
    "    eval_df['timestamp'] = test_inputs.dataframe.index\n",
    "    eval_df = pd.melt(eval_df, id_vars='timestamp', value_name='prediction', var_name='h')\n",
    "    eval_df['actual'] = np.transpose(test_inputs['target']).ravel()\n",
    "    eval_df[['prediction', 'actual']] = scaler.inverse_transform(eval_df[['prediction', 'actual']])\n",
    "    return eval_df\n",
    "\n",
    "\n",
    "class TimeSeriesTensor(UserDict):\n",
    "    \"\"\"A dictionary of tensors for input into the RNN model.\n",
    "    \n",
    "    Use this class to:\n",
    "      1. Shift the values of the time series to create a Pandas dataframe containing all the data\n",
    "         for a single training example\n",
    "      2. Discard any samples with missing values\n",
    "      3. Transform this Pandas dataframe into a numpy array of shape \n",
    "         (samples, time steps, features) for input into Keras\n",
    "\n",
    "    The class takes the following parameters:\n",
    "       - **dataset**: original time series\n",
    "       - **target** name of the target column\n",
    "       - **H**: the forecast horizon\n",
    "       - **tensor_structures**: a dictionary discribing the tensor structure of the form\n",
    "             { 'tensor_name' : (range(max_backward_shift, max_forward_shift), [feature, feature, ...] ) }\n",
    "             if features are non-sequential and should not be shifted, use the form\n",
    "             { 'tensor_name' : (None, [feature, feature, ...])}\n",
    "       - **freq**: time series frequency (default 'H' - hourly)\n",
    "       - **drop_incomplete**: (Boolean) whether to drop incomplete samples (default True)\n",
    "    \"\"\"\n",
    "    \n",
    "    def __init__(self, dataset, target, H, tensor_structure, freq='H', drop_incomplete=True):\n",
    "        self.dataset = dataset\n",
    "        self.target = target\n",
    "        self.tensor_structure = tensor_structure\n",
    "        self.tensor_names = list(tensor_structure.keys())\n",
    "        \n",
    "        self.dataframe = self._shift_data(H, freq, drop_incomplete)\n",
    "        self.data = self._df2tensors(self.dataframe)\n",
    "    \n",
    "    def _shift_data(self, H, freq, drop_incomplete):\n",
    "        \n",
    "        # Use the tensor_structures definitions to shift the features in the original dataset.\n",
    "        # The result is a Pandas dataframe with multi-index columns in the hierarchy\n",
    "        #     tensor - the name of the input tensor\n",
    "        #     feature - the input feature to be shifted\n",
    "        #     time step - the time step for the RNN in which the data is input. These labels\n",
    "        #         are centred on time t. the forecast creation time\n",
    "        df = self.dataset.copy()\n",
    "        \n",
    "        idx_tuples = []\n",
    "        for t in range(1, H+1):\n",
    "            df['t+'+str(t)] = df[self.target].shift(t*-1, freq=freq)\n",
    "            idx_tuples.append(('target', 'y', 't+'+str(t)))\n",
    "\n",
    "        for name, structure in self.tensor_structure.items():\n",
    "            rng = structure[0]\n",
    "            dataset_cols = structure[1]\n",
    "            \n",
    "            for col in dataset_cols:\n",
    "            \n",
    "            # do not shift non-sequential 'static' features\n",
    "                if rng is None:\n",
    "                    df['context_'+col] = df[col]\n",
    "                    idx_tuples.append((name, col, 'static'))\n",
    "\n",
    "                else:\n",
    "                    for t in rng:\n",
    "                        sign = '+' if t > 0 else ''\n",
    "                        shift = str(t) if t != 0 else ''\n",
    "                        period = 't'+sign+shift\n",
    "                        shifted_col = name+'_'+col+'_'+period\n",
    "                        df[shifted_col] = df[col].shift(t*-1, freq=freq)\n",
    "                        idx_tuples.append((name, col, period))\n",
    "                \n",
    "        df = df.drop(self.dataset.columns, axis=1)\n",
    "        idx = pd.MultiIndex.from_tuples(idx_tuples, names=['tensor', 'feature', 'time step'])\n",
    "        df.columns = idx\n",
    "\n",
    "        if drop_incomplete:\n",
    "            df = df.dropna(how='any')\n",
    "\n",
    "        return df\n",
    "    \n",
    "    def _df2tensors(self, dataframe):\n",
    "        \n",
    "        # Transform the shifted Pandas dataframe into the multidimensional numpy arrays. These\n",
    "        # arrays can be used to input into the keras model and can be accessed by tensor name.\n",
    "        # For example, for a TimeSeriesTensor object named \"model_inputs\" and a tensor named\n",
    "        # \"target\", the input tensor can be acccessed with model_inputs['target']\n",
    "    \n",
    "        inputs = {}\n",
    "        y = dataframe['target']\n",
    "        y = y.as_matrix()\n",
    "        inputs['target'] = y\n",
    "\n",
    "        for name, structure in self.tensor_structure.items():\n",
    "            rng = structure[0]\n",
    "            cols = structure[1]\n",
    "            tensor = dataframe[name][cols].as_matrix()\n",
    "            if rng is None:\n",
    "                tensor = tensor.reshape(tensor.shape[0], len(cols))\n",
    "            else:\n",
    "                tensor = tensor.reshape(tensor.shape[0], len(cols), len(rng))\n",
    "                tensor = np.transpose(tensor, axes=[0, 2, 1])\n",
    "            inputs[name] = tensor\n",
    "\n",
    "        return inputs\n",
    "       \n",
    "    def subset_data(self, new_dataframe):\n",
    "        \n",
    "        # Use this function to recreate the input tensors if the shifted dataframe\n",
    "        # has been filtered.\n",
    "        \n",
    "        self.dataframe = new_dataframe\n",
    "        self.data = self._df2tensors(self.dataframe)"
   ]
  },
  {
   "cell_type": "code",
   "execution_count": 267,
   "metadata": {},
   "outputs": [],
   "source": [
    "# download ts_data set\n",
    "# change the name of the directory with your folder name\n",
    "data_dir = './energy'\n",
    "if not os.path.exists(os.path.join(data_dir, 'energy.csv')):\n",
    " # download and move the zip file\n",
    " !wget https://mlftsfwp.blob.core.windows.net/mlftsfwp/GEFCom2014.zip\n",
    " !mv GEFCom2014.zip ./energy\n",
    " # if not done already, extract zipped data and save as csv\n",
    " extract_data(data_dir)"
   ]
  },
  {
   "cell_type": "code",
   "execution_count": 268,
   "metadata": {},
   "outputs": [],
   "source": [
    "# Import necessary libraries\n",
    "import datetime as dt\n",
    "import os\n",
    "import warnings\n",
    "from collections import UserDict\n",
    "from glob import glob\n",
    "import matplotlib.pyplot as plt\n",
    "import numpy as np\n",
    "import pandas as pd\n",
    "from IPython.display import Image\n",
    "%matplotlib inline\n",
    "pd.options.display.float_format = \"{:,.2f}\".format\n",
    "np.set_printoptions(precision=2)\n",
    "warnings.filterwarnings(\"ignore\")\n",
    "# Load the data from csv into a pandas dataframe\n",
    "ts_data_load = load_data(data_dir)[['load']]"
   ]
  },
  {
   "cell_type": "markdown",
   "metadata": {},
   "source": [
    "Para el ejemplo de pronóstico de energía, se asigna el período del 1 de noviembre de 2014 al 31 de diciembre de 2014 al conjunto de pruebas. El período del 1 de septiembre de 2014 al 31 de octubre se asigna a un conjunto de validación. Todos los demás períodos de tiempo están disponibles para el conjunto de entrenamiento."
   ]
  },
  {
   "cell_type": "code",
   "execution_count": 269,
   "metadata": {},
   "outputs": [
    {
     "data": {
      "image/png": "[encoded data removed]",
      "text/plain": [
       "<Figure size 1500x800 with 1 Axes>"
      ]
     },
     "metadata": {},
     "output_type": "display_data"
    }
   ],
   "source": [
    "valid_st_data_load = '2014-09-01 00:00:00'\n",
    "test_st_data_load = '2014-11-01 00:00:00'\n",
    "ts_data_load[ts_data_load.index < valid_st_data_load][['load']].rename(columns={'load':'train'}) \\\n",
    " .join(ts_data_load[(ts_data_load.index >=valid_st_data_load)\n",
    "& (ts_data_load.index < test_st_data_load)][['load']] \\\n",
    " .rename(columns={'load':'validation'}), how='outer') \\\n",
    " .join(ts_data_load[test_st_data_load:][['load']]\n",
    ".rename(columns={'load':'test'}), how='outer') \\\n",
    " .plot(y=['train', 'validation', 'test'], figsize=(15, 8),\n",
    "fontsize=12)\n",
    "plt.xlabel('timestamp', fontsize=12)\n",
    "plt.ylabel('load', fontsize=12)\n",
    "plt.show()"
   ]
  },
  {
   "cell_type": "markdown",
   "metadata": {},
   "source": [
    "Como se muestra en el código de ejemplo a continuación, se está configurando T (el número de variables rezagadas) en 6. Esto significa que la entrada para cada muestra es un vector de los valores de carga de las 6 horas anteriores. La elección de T = 6 fue arbitraria.\n",
    "\n",
    "También se está configurando el horizonte en 1, ya que se está interesado en predecir la próxima hora (t + 1) de el conjunto de datos ts_data_load."
   ]
  },
  {
   "cell_type": "code",
   "execution_count": 270,
   "metadata": {},
   "outputs": [],
   "source": [
    "T = 6\n",
    "HORIZON = 1"
   ]
  },
  {
   "cell_type": "markdown",
   "metadata": {},
   "source": [
    "![Alt text](image-4.png)\n",
    "\n",
    "**Figura 5.3:** Pasos para el conjunto de datos de entrenamiento.\n",
    "\n",
    "\n",
    "La preparación de datos para el conjunto de entrenamiento implicará los siguientes pasos (Figura 5.3).\n",
    "\n",
    "En el código de ejemplo a continuación, se explica cómo realizar los primeros cuatro pasos de este proceso de preparación de datos:"
   ]
  },
  {
   "cell_type": "code",
   "execution_count": 271,
   "metadata": {},
   "outputs": [
    {
     "data": {
      "text/html": [
       "<div>\n",
       "<style scoped>\n",
       "    .dataframe tbody tr th:only-of-type {\n",
       "        vertical-align: middle;\n",
       "    }\n",
       "\n",
       "    .dataframe tbody tr th {\n",
       "        vertical-align: top;\n",
       "    }\n",
       "\n",
       "    .dataframe thead th {\n",
       "        text-align: right;\n",
       "    }\n",
       "</style>\n",
       "<table border=\"1\" class=\"dataframe\">\n",
       "  <thead>\n",
       "    <tr style=\"text-align: right;\">\n",
       "      <th></th>\n",
       "      <th>load_original</th>\n",
       "      <th>y_t+1</th>\n",
       "      <th>load_t-5</th>\n",
       "      <th>load_t-4</th>\n",
       "      <th>load_t-3</th>\n",
       "      <th>load_t-2</th>\n",
       "      <th>load_t-1</th>\n",
       "      <th>load_t</th>\n",
       "    </tr>\n",
       "  </thead>\n",
       "  <tbody>\n",
       "    <tr>\n",
       "      <th>2012-01-01 05:00:00</th>\n",
       "      <td>0.15</td>\n",
       "      <td>0.18</td>\n",
       "      <td>0.22</td>\n",
       "      <td>0.18</td>\n",
       "      <td>0.14</td>\n",
       "      <td>0.13</td>\n",
       "      <td>0.13</td>\n",
       "      <td>0.15</td>\n",
       "    </tr>\n",
       "    <tr>\n",
       "      <th>2012-01-01 06:00:00</th>\n",
       "      <td>0.18</td>\n",
       "      <td>0.23</td>\n",
       "      <td>0.18</td>\n",
       "      <td>0.14</td>\n",
       "      <td>0.13</td>\n",
       "      <td>0.13</td>\n",
       "      <td>0.15</td>\n",
       "      <td>0.18</td>\n",
       "    </tr>\n",
       "    <tr>\n",
       "      <th>2012-01-01 07:00:00</th>\n",
       "      <td>0.23</td>\n",
       "      <td>0.29</td>\n",
       "      <td>0.14</td>\n",
       "      <td>0.13</td>\n",
       "      <td>0.13</td>\n",
       "      <td>0.15</td>\n",
       "      <td>0.18</td>\n",
       "      <td>0.23</td>\n",
       "    </tr>\n",
       "    <tr>\n",
       "      <th>2012-01-01 08:00:00</th>\n",
       "      <td>0.29</td>\n",
       "      <td>0.35</td>\n",
       "      <td>0.13</td>\n",
       "      <td>0.13</td>\n",
       "      <td>0.15</td>\n",
       "      <td>0.18</td>\n",
       "      <td>0.23</td>\n",
       "      <td>0.29</td>\n",
       "    </tr>\n",
       "    <tr>\n",
       "      <th>2012-01-01 09:00:00</th>\n",
       "      <td>0.35</td>\n",
       "      <td>0.37</td>\n",
       "      <td>0.13</td>\n",
       "      <td>0.15</td>\n",
       "      <td>0.18</td>\n",
       "      <td>0.23</td>\n",
       "      <td>0.29</td>\n",
       "      <td>0.35</td>\n",
       "    </tr>\n",
       "  </tbody>\n",
       "</table>\n",
       "</div>"
      ],
      "text/plain": [
       "                     load_original  y_t+1  load_t-5  load_t-4  load_t-3  \\\n",
       "2012-01-01 05:00:00           0.15   0.18      0.22      0.18      0.14   \n",
       "2012-01-01 06:00:00           0.18   0.23      0.18      0.14      0.13   \n",
       "2012-01-01 07:00:00           0.23   0.29      0.14      0.13      0.13   \n",
       "2012-01-01 08:00:00           0.29   0.35      0.13      0.13      0.15   \n",
       "2012-01-01 09:00:00           0.35   0.37      0.13      0.15      0.18   \n",
       "\n",
       "                     load_t-2  load_t-1  load_t  \n",
       "2012-01-01 05:00:00      0.13      0.13    0.15  \n",
       "2012-01-01 06:00:00      0.13      0.15    0.18  \n",
       "2012-01-01 07:00:00      0.15      0.18    0.23  \n",
       "2012-01-01 08:00:00      0.18      0.23    0.29  \n",
       "2012-01-01 09:00:00      0.23      0.29    0.35  "
      ]
     },
     "execution_count": 271,
     "metadata": {},
     "output_type": "execute_result"
    }
   ],
   "source": [
    "from sklearn.preprocessing import MinMaxScaler\n",
    "\n",
    "# Step 1: get the train data from the correct data range\n",
    "train = ts_data_load.copy()[ts_data_load.index < valid_st_data_load]\n",
    "[['load']]\n",
    "\n",
    "# Step 2: scale data to be in range (0, 1).\n",
    "scaler = MinMaxScaler()\n",
    "train['load'] = scaler.fit_transform(train)\n",
    "\n",
    "# Step 3: shift the dataframe to create the input samples\n",
    "train_shifted = train.copy()\n",
    "train_shifted['y_t+1'] = train_shifted['load'].shift(-1, freq='H')\n",
    "for t in range(1, T+1):\n",
    "     train_shifted[str(T-t)] = train_shifted['load'].shift(T-t, freq='H')\n",
    "y_col = 'y_t+1'\n",
    "X_cols = ['load_t-5',\n",
    " 'load_t-4',\n",
    " 'load_t-3',\n",
    " 'load_t-2',\n",
    " 'load_t-1',\n",
    " 'load_t']\n",
    "train_shifted.columns = ['load_original']+[y_col]+X_cols\n",
    "\n",
    "# Step 4: discard missing values\n",
    "train_shifted = train_shifted.dropna(how='any')\n",
    "train_shifted.head(5)"
   ]
  },
  {
   "cell_type": "markdown",
   "metadata": {},
   "source": [
    "Ahora se necesita realizar el último paso en el proceso de preparación de datos y convertir las características objetivo y de entrada en matrices NumPy. X debe estar en la forma (muestras, pasos de tiempo, características). En el conjunto de datos ts_data_load, tenemos 23370 muestras, 6 pasos de tiempo y 1 característica (carga):"
   ]
  },
  {
   "cell_type": "code",
   "execution_count": 272,
   "metadata": {},
   "outputs": [],
   "source": [
    "# Step 5: transform this pandas dataframe into a numpy array\n",
    "y_train = train_shifted[y_col].values\n",
    "X_train = train_shifted[X_cols].values"
   ]
  },
  {
   "cell_type": "markdown",
   "metadata": {},
   "source": [
    "En este punto, se está listo para remodelar la entrada X en una matriz tridimensional"
   ]
  },
  {
   "cell_type": "code",
   "execution_count": 273,
   "metadata": {},
   "outputs": [],
   "source": [
    "X_train = X_train.reshape(X_train.shape[0], T, 1)"
   ]
  },
  {
   "cell_type": "markdown",
   "metadata": {},
   "source": [
    "Ahora se tiene un vector para la variable objetivo con la forma:"
   ]
  },
  {
   "cell_type": "code",
   "execution_count": 274,
   "metadata": {},
   "outputs": [
    {
     "data": {
      "text/plain": [
       "(23370,)"
      ]
     },
     "execution_count": 274,
     "metadata": {},
     "output_type": "execute_result"
    }
   ],
   "source": [
    "y_train.shape"
   ]
  },
  {
   "cell_type": "markdown",
   "metadata": {},
   "source": [
    "El tensor para las características de entrada ahora tiene la forma:"
   ]
  },
  {
   "cell_type": "code",
   "execution_count": 275,
   "metadata": {},
   "outputs": [
    {
     "data": {
      "text/plain": [
       "(23370, 6, 1)"
      ]
     },
     "execution_count": 275,
     "metadata": {},
     "output_type": "execute_result"
    }
   ],
   "source": [
    "X_train.shape"
   ]
  },
  {
   "cell_type": "markdown",
   "metadata": {},
   "source": [
    "Se aprendió cómo transformar un conjunto de datos de series de tiempo en un formato de aprendizaje supervisado bidimensional y cómo transformar un conjunto de datos de series temporales bidimensional en una estructura tridimensional adecuada para LSTMs y GRUs. "
   ]
  },
  {
   "cell_type": "markdown",
   "metadata": {},
   "source": [
    "### **Cómo desarrollar GRU y LSTM para el pronóstico de series de tiempo**"
   ]
  },
  {
   "cell_type": "markdown",
   "metadata": {},
   "source": [
    "#### **Keras**"
   ]
  },
  {
   "cell_type": "markdown",
   "metadata": {},
   "source": [
    "Keras es una biblioteca de Python capaz de funcionar en diferentes herramientas de aprendizaje profundo, como TensorFlow. Keras es una API que admite redes convolucionales y redes recurrentes, y se ejecuta sin problemas en unidades de procesamiento central (CPUs) y unidades de procesamiento gráfico (GPUs). Además, Keras se desarrolla siguiendo cuatro filosofías fundamentales: amigable para el usuario y minimalismo; modularidad; facilidad de extensión; trabajar con Python.\n",
    "\n",
    "El primer paso en el proceso de desarrollo de modelos de aprendizaje profundo con Keras es la definición de un modelo. El tipo principal de modelo es una secuencia de capas llamado \"Sequential\", que es un conjunto lineal de capas. Una vez que se define el modelo, el segundo paso es compilar el modelo, lo que aprovecha el marco subyacente para optimizar los cálculos que realizará su modelo. Una vez compilado, el modelo debe ajustarse a los datos (tercer paso en el proceso de desarrollo de modelos de aprendizaje profundo con Keras). Finalmente, una vez que está entrenado, se puede usar el modelo para hacer predicciones sobre nuevos datos."
   ]
  },
  {
   "cell_type": "markdown",
   "metadata": {},
   "source": [
    "#### **TensorFlow**"
   ]
  },
  {
   "cell_type": "markdown",
   "metadata": {},
   "source": [
    "Es una biblioteca de código abierto para cálculos numéricos que utiliza gráficos de flujo de datos. Una de las capacidades más beneficiosas de TensorFlow es que los científicos de datos pueden construir y entrenar sus modelos con TensorFlow utilizando la API de alto nivel Keras, lo que facilita el inicio con TensorFlow y el aprendizaje automático `(tensorflow.org)`.\n",
    "\n",
    "En el grafo, los nodos representan operaciones matemáticas, mientras que los bordes del grafo representan los arreglos de datos multidimensionales (tensores) que se comunican entre ellos. La arquitectura distribuida de TensorFlow contiene servicios maestros y trabajadores distribuidos con implementaciones de núcleo (Nguyen et al. 2019).\n",
    "\n",
    "Además, TensorFlow le brinda flexibilidad y control con características como la API funcional de Keras para prototipado fácil y depuración rápida, y admite un ecosistema de bibliotecas y modelos complementarios potentes para experimentar."
   ]
  },
  {
   "cell_type": "markdown",
   "metadata": {},
   "source": [
    "#### **Modelos univariados**"
   ]
  },
  {
   "cell_type": "markdown",
   "metadata": {},
   "source": [
    "Las redes LSTM y GRU se pueden utilizar para modelar problemas de pronóstico de series de tiempo univariadas. Estos son problemas que contienen una única serie de observaciones, y se requiere que un modelo aprenda de la serie de observaciones pasadas para predecir el próximo valor en la secuencia.\n",
    "\n",
    "Ahora se importan todos los paquetes de Keras necesarios para definir el modelo."
   ]
  },
  {
   "cell_type": "code",
   "execution_count": 276,
   "metadata": {},
   "outputs": [],
   "source": [
    "# Import necessary packages\n",
    "import tensorflow as tf\n",
    "from tensorflow.keras.models import Model, Sequential\n",
    "from tensorflow.keras.layers import GRU, Dense\n",
    "from tensorflow.keras.callbacks import EarlyStopping"
   ]
  },
  {
   "cell_type": "markdown",
   "metadata": {},
   "source": [
    "En este punto, hay algunos aspectos que deben definirse:\n",
    "\n",
    "- La dimensión latente (LATENT_DIM): este es el número de unidades en la capa RNN.\n",
    "- El tamaño del lote (BATCH_SIZE): este es el número de muestras por mini-lote.\n",
    "- Las épocas (EPOCHS): este es el número máximo de veces que el algoritmo de entrenamiento recorrerá todas las muestras."
   ]
  },
  {
   "cell_type": "code",
   "execution_count": 277,
   "metadata": {},
   "outputs": [],
   "source": [
    "LATENT_DIM = 5\n",
    "BATCH_SIZE = 32\n",
    "EPOCHS = 10"
   ]
  },
  {
   "cell_type": "markdown",
   "metadata": {},
   "source": [
    "Ahora podemos definir el modelo y crear un modelo secuencial."
   ]
  },
  {
   "cell_type": "code",
   "execution_count": 278,
   "metadata": {},
   "outputs": [],
   "source": [
    "model = Sequential()\n",
    "model.add(GRU(LATENT_DIM, input_shape=(T, 1)))\n",
    "model.add(Dense(HORIZON))"
   ]
  },
  {
   "cell_type": "markdown",
   "metadata": {},
   "source": [
    "Como próximo paso, se compila el modelo. Se especific la función de pérdida y los optimizadores y se llama la función `compile()` en el modelo. Para este ejemplo específico, se usa el error cuadrático medio como función de pérdida. La documentación de Keras recomienda el optimizador RMSprop para RNNs:"
   ]
  },
  {
   "cell_type": "code",
   "execution_count": 279,
   "metadata": {},
   "outputs": [
    {
     "name": "stdout",
     "output_type": "stream",
     "text": [
      "Model: \"sequential_10\"\n",
      "_________________________________________________________________\n",
      " Layer (type)                Output Shape              Param #   \n",
      "=================================================================\n",
      " gru_10 (GRU)                (None, 5)                 120       \n",
      "                                                                 \n",
      " dense_10 (Dense)            (None, 1)                 6         \n",
      "                                                                 \n",
      "=================================================================\n",
      "Total params: 126 (504.00 Byte)\n",
      "Trainable params: 126 (504.00 Byte)\n",
      "Non-trainable params: 0 (0.00 Byte)\n",
      "_________________________________________________________________\n"
     ]
    }
   ],
   "source": [
    "model.compile(optimizer='RMSprop', loss='mse')\n",
    "model.summary()"
   ]
  },
  {
   "cell_type": "markdown",
   "metadata": {},
   "source": [
    "Ahora se especifican los criterios de parada temprana (early stopping). El early stopping es un método de regularización utilizado para evitar el sobreajuste al entrenar un modelo de aprendizaje automático con un método iterativo, como el descenso de gradiente. En el ejemplo, se utiliza el early stopping como una forma de validación para detectar cuándo comienza el sobreajuste durante el entrenamiento supervisado de una red neuronal; se detiene el entrenamiento antes de la convergencia para evitar el sobreajuste (\"early stopping\").\n",
    "\n",
    "En el caso, se supervisa la pérdida de validación (en este caso, el error cuadrático medio) en el conjunto de validación después de cada época de entrenamiento. Si la pérdida de validación no ha mejorado en al menos `min_delta` después de patience épocas, se detiene el entrenamiento."
   ]
  },
  {
   "cell_type": "code",
   "execution_count": 280,
   "metadata": {},
   "outputs": [],
   "source": [
    "valid_start_date = '2014-09-01 00:00:00'\n",
    "test_start_date = '2014-11-01 00:00:00'\n",
    "\n",
    "valid_data = ts_data_load[(ts_data_load.index >= valid_start_date) & (ts_data_load.index < test_start_date)][['load']]\n",
    "test_data = ts_data_load[test_start_date:][['load']]\n",
    "\n",
    "\n",
    "valid_data['load'] = scaler.transform(valid_data)\n",
    "test_data['load'] = scaler.transform(test_data)\n",
    "\n",
    "def create_sequences(data, T):\n",
    "    X, y = [], []\n",
    "    for i in range(len(data) - T):\n",
    "        X.append(data[i:i+T])\n",
    "        y.append(data[i+T])\n",
    "    return np.array(X), np.array(y)\n",
    "\n",
    "X_valid, y_valid = create_sequences(valid_data.values, T)\n",
    "X_test, y_test = create_sequences(test_data.values, T)"
   ]
  },
  {
   "cell_type": "code",
   "execution_count": 281,
   "metadata": {},
   "outputs": [],
   "source": [
    "GRU_earlystop = EarlyStopping(monitor='val_loss', min_delta=0,patience=5)"
   ]
  },
  {
   "cell_type": "markdown",
   "metadata": {},
   "source": [
    "Ahora se puede ajustar el modelo entrenándolo en una muestra de datos llamando a la función `fit()` en el propio modelo"
   ]
  },
  {
   "cell_type": "code",
   "execution_count": 282,
   "metadata": {},
   "outputs": [
    {
     "name": "stdout",
     "output_type": "stream",
     "text": [
      "Epoch 1/10\n"
     ]
    },
    {
     "name": "stdout",
     "output_type": "stream",
     "text": [
      "731/731 [==============================] - 7s 6ms/step - loss: 0.0053 - val_loss: 0.0015\n",
      "Epoch 2/10\n",
      "731/731 [==============================] - 4s 5ms/step - loss: 0.0011 - val_loss: 8.7652e-04\n",
      "Epoch 3/10\n",
      "731/731 [==============================] - 4s 5ms/step - loss: 7.8814e-04 - val_loss: 6.5075e-04\n",
      "Epoch 4/10\n",
      "731/731 [==============================] - 4s 5ms/step - loss: 6.7082e-04 - val_loss: 5.4828e-04\n",
      "Epoch 5/10\n",
      "731/731 [==============================] - 4s 5ms/step - loss: 6.1304e-04 - val_loss: 5.5080e-04\n",
      "Epoch 6/10\n",
      "731/731 [==============================] - 4s 6ms/step - loss: 5.8510e-04 - val_loss: 6.4452e-04\n",
      "Epoch 7/10\n",
      "731/731 [==============================] - 4s 6ms/step - loss: 5.7765e-04 - val_loss: 5.0697e-04\n",
      "Epoch 8/10\n",
      "731/731 [==============================] - 4s 6ms/step - loss: 5.7331e-04 - val_loss: 6.7318e-04\n",
      "Epoch 9/10\n",
      "731/731 [==============================] - 4s 6ms/step - loss: 5.6786e-04 - val_loss: 5.0718e-04\n",
      "Epoch 10/10\n",
      "731/731 [==============================] - 4s 6ms/step - loss: 5.6640e-04 - val_loss: 6.5594e-04\n"
     ]
    }
   ],
   "source": [
    "model_history = model.fit(X_train, y_train, batch_size=BATCH_SIZE, epochs=EPOCHS, \n",
    "                          validation_data=(X_valid, y_valid), callbacks=[GRU_earlystop], verbose=1)"
   ]
  },
  {
   "cell_type": "markdown",
   "metadata": {},
   "source": [
    "Ahora, se hacen predicciones utilizando el modelo creado para generar pronósticos en nuevos datos y llamando funciones como `evaluate()` o `predict()` en el modelo. Para evaluar el modelo, primero se realiza los pasos de preparación de datos mencionados anteriormente en el conjunto de prueba.\n",
    "\n",
    "Después de realizar los pasos de preparación de datos en el conjunto de prueba, se usan para hacer predicciones en el conjunto de prueba y comparar esas predicciones con los valores de carga reales."
   ]
  },
  {
   "cell_type": "code",
   "execution_count": 283,
   "metadata": {},
   "outputs": [],
   "source": [
    "test_data = ts_data_load[test_start_date:][['load']]\n",
    "\n",
    "test_data['load'] = scaler.transform(test_data)\n",
    "\n",
    "test_shifted = test_data.copy()\n",
    "\n",
    "test_shifted['y_t+1'] = test_shifted['load'].shift(-1, freq='H')\n",
    "\n",
    "for t in range(1, T+1):\n",
    "    test_shifted[f'load_t-{t}'] = test_shifted['load'].shift(T-t, freq='H')\n",
    "\n",
    "test_shifted.columns = ['load_original', 'y_t+1'] + [f'load_t-{t}' for t in range(T, 0, -1)]\n",
    "\n",
    "test_shifted = test_shifted.dropna(how='any')"
   ]
  },
  {
   "cell_type": "code",
   "execution_count": 284,
   "metadata": {},
   "outputs": [
    {
     "name": "stdout",
     "output_type": "stream",
     "text": [
      "46/46 [==============================] - 1s 3ms/step\n"
     ]
    },
    {
     "data": {
      "text/html": [
       "<div>\n",
       "<style scoped>\n",
       "    .dataframe tbody tr th:only-of-type {\n",
       "        vertical-align: middle;\n",
       "    }\n",
       "\n",
       "    .dataframe tbody tr th {\n",
       "        vertical-align: top;\n",
       "    }\n",
       "\n",
       "    .dataframe thead th {\n",
       "        text-align: right;\n",
       "    }\n",
       "</style>\n",
       "<table border=\"1\" class=\"dataframe\">\n",
       "  <thead>\n",
       "    <tr style=\"text-align: right;\">\n",
       "      <th></th>\n",
       "      <th>timestamp</th>\n",
       "      <th>h</th>\n",
       "      <th>prediction</th>\n",
       "      <th>actual</th>\n",
       "    </tr>\n",
       "  </thead>\n",
       "  <tbody>\n",
       "    <tr>\n",
       "      <th>0</th>\n",
       "      <td>2014-11-01 05:00:00</td>\n",
       "      <td>t+1</td>\n",
       "      <td>2,705.72</td>\n",
       "      <td>2,714.00</td>\n",
       "    </tr>\n",
       "    <tr>\n",
       "      <th>1</th>\n",
       "      <td>2014-11-01 06:00:00</td>\n",
       "      <td>t+1</td>\n",
       "      <td>2,975.99</td>\n",
       "      <td>2,970.00</td>\n",
       "    </tr>\n",
       "    <tr>\n",
       "      <th>2</th>\n",
       "      <td>2014-11-01 07:00:00</td>\n",
       "      <td>t+1</td>\n",
       "      <td>3,245.05</td>\n",
       "      <td>3,189.00</td>\n",
       "    </tr>\n",
       "    <tr>\n",
       "      <th>3</th>\n",
       "      <td>2014-11-01 08:00:00</td>\n",
       "      <td>t+1</td>\n",
       "      <td>3,375.53</td>\n",
       "      <td>3,356.00</td>\n",
       "    </tr>\n",
       "    <tr>\n",
       "      <th>4</th>\n",
       "      <td>2014-11-01 09:00:00</td>\n",
       "      <td>t+1</td>\n",
       "      <td>3,501.30</td>\n",
       "      <td>3,436.00</td>\n",
       "    </tr>\n",
       "  </tbody>\n",
       "</table>\n",
       "</div>"
      ],
      "text/plain": [
       "            timestamp    h  prediction   actual\n",
       "0 2014-11-01 05:00:00  t+1    2,705.72 2,714.00\n",
       "1 2014-11-01 06:00:00  t+1    2,975.99 2,970.00\n",
       "2 2014-11-01 07:00:00  t+1    3,245.05 3,189.00\n",
       "3 2014-11-01 08:00:00  t+1    3,375.53 3,356.00\n",
       "4 2014-11-01 09:00:00  t+1    3,501.30 3,436.00"
      ]
     },
     "execution_count": 284,
     "metadata": {},
     "output_type": "execute_result"
    }
   ],
   "source": [
    "ts_predictions = model.predict(X_test)\n",
    "ts_predictions\n",
    "ev_ts_data = pd.DataFrame(ts_predictions, columns=['t+'+str(t) for t in\n",
    "range(1, HORIZON+1)])\n",
    "ev_ts_data['timestamp'] = test_shifted.index\n",
    "ev_ts_data = pd.melt(ev_ts_data, id_vars='timestamp',\n",
    "value_name='prediction', var_name='h')\n",
    "ev_ts_data['actual'] = y_test.ravel()\n",
    "ev_ts_data[['prediction', 'actual']] = scaler.inverse_transform(ev_ts_data[['prediction', 'actual']])\n",
    "ev_ts_data.head()"
   ]
  },
  {
   "cell_type": "markdown",
   "metadata": {},
   "source": [
    "Para evaluar el modelo, se calcula el MAPE sobre todas las predicciones."
   ]
  },
  {
   "cell_type": "code",
   "execution_count": 285,
   "metadata": {},
   "outputs": [
    {
     "data": {
      "text/plain": [
       "0.018373799321522156"
      ]
     },
     "execution_count": 285,
     "metadata": {},
     "output_type": "execute_result"
    }
   ],
   "source": [
    "def mape(ts_predictions, actuals):\n",
    " \"\"\"Mean absolute percentage error\"\"\"\n",
    " return ((ts_predictions - actuals).abs() / actuals).mean()\n",
    "mape(ev_ts_data['prediction'], ev_ts_data['actual'])"
   ]
  },
  {
   "cell_type": "markdown",
   "metadata": {},
   "source": [
    "El MAPE es 0.018, lo que significa que el modelo tiene una precisión del 99.982 por ciento. Se completa el ejercicio graficando las predicciones frente a los valores reales para la primera semana del conjunto de pruebas."
   ]
  },
  {
   "cell_type": "code",
   "execution_count": 286,
   "metadata": {},
   "outputs": [
    {
     "data": {
      "image/png": "[encoded data removed]",
      "text/plain": [
       "<Figure size 1500x800 with 1 Axes>"
      ]
     },
     "metadata": {},
     "output_type": "display_data"
    }
   ],
   "source": [
    "ev_ts_data[ev_ts_data.timestamp<'2014-11-08'].plot(x='timestamp', y=['prediction', 'actual'],style=['r', 'b'], figsize=(15, 8))\n",
    "plt.xlabel('timestamp', fontsize=12)\n",
    "plt.ylabel('load', fontsize=12)\n",
    "plt.show()"
   ]
  },
  {
   "cell_type": "markdown",
   "metadata": {},
   "source": [
    "### **Métodos multivariables**"
   ]
  },
  {
   "cell_type": "markdown",
   "metadata": {},
   "source": [
    "Los datos de series de tiempo multivariados se refieren a datos en los que hay más de una observación para cada paso de tiempo.\n",
    "\n",
    "Primero, se carga en conjunto de datos en un Dataframe."
   ]
  },
  {
   "cell_type": "code",
   "execution_count": 287,
   "metadata": {},
   "outputs": [],
   "source": [
    "import os\n",
    "import re\n",
    "import sys\n",
    "import zipfile\n",
    "from collections import UserDict\n",
    "\n",
    "import numpy as np\n",
    "import pandas as pd\n",
    "import requests\n",
    "\n",
    "\n",
    "# This function unzips the GEFCom2014 data zip file and extracts the 'extended'\n",
    "# load forecasting competition data. Data is saved in energy.csv\n",
    "def extract_data(data_dir):\n",
    "    GEFCom_dir = os.path.join(data_dir, \"GEFCom2014\", \"GEFCom2014 Data\")\n",
    "\n",
    "    GEFCom_zipfile = os.path.join(data_dir, \"GEFCom2014.zip\")\n",
    "    if not os.path.exists(GEFCom_zipfile):\n",
    "        sys.exit(\n",
    "            \"Download GEFCom2014.zip from https://mlftsfwp.blob.core.windows.net/mlftsfwp/GEFCom2014.zip and save it to the '{}' directory.\".format(\n",
    "                data_dir\n",
    "            )\n",
    "        )\n",
    "\n",
    "    # unzip root directory\n",
    "    zip_ref = zipfile.ZipFile(GEFCom_zipfile, \"r\")\n",
    "    zip_ref.extractall(os.path.join(data_dir, \"GEFCom2014\"))\n",
    "    zip_ref.close()\n",
    "\n",
    "    # extract the extended competition data\n",
    "    zip_ref = zipfile.ZipFile(os.path.join(GEFCom_dir, \"GEFCom2014-E_V2.zip\"), \"r\")\n",
    "    zip_ref.extractall(os.path.join(data_dir, \"GEFCom2014-E\"))\n",
    "    zip_ref.close()\n",
    "\n",
    "    # load the data from Excel file\n",
    "    data = pd.read_excel(\n",
    "        os.path.join(data_dir, \"GEFCom2014-E\", \"GEFCom2014-E.xlsx\"), parse_dates=[\"Date\"]\n",
    "    )\n",
    "\n",
    "    # create timestamp variable from Date and Hour\n",
    "    data[\"timestamp\"] = data[\"Date\"].add(pd.to_timedelta(data.Hour - 1, unit=\"h\"))\n",
    "    data = data[[\"timestamp\", \"load\", \"T\"]]\n",
    "    data = data.rename(columns={\"T\": \"temp\"})\n",
    "\n",
    "    # remove time period with no load data\n",
    "    data = data[data.timestamp >= \"2012-01-01\"]\n",
    "\n",
    "    # save to csv\n",
    "    data.to_csv(os.path.join(data_dir, \"energy.csv\"), index=False)\n",
    "\n",
    "\n",
    "def download_file(url):\n",
    "    local_filename = re.search(\"^[^?]+\", url.split(\"/\")[-1]).group()\n",
    "    # NOTE the stream=True parameter below\n",
    "    with requests.get(url, stream=True) as r:\n",
    "        r.raise_for_status()\n",
    "        with open(local_filename, \"wb\") as f:\n",
    "            for chunk in r.iter_content(chunk_size=8192):\n",
    "                f.write(chunk)\n",
    "    return local_filename\n",
    "\n",
    "\n",
    "def load_data(data_dir):\n",
    "    \"\"\"Load the GEFCom 2014 energy load data\"\"\"\n",
    "\n",
    "    energy = pd.read_csv(\n",
    "        os.path.join(data_dir, \"energy.csv\"), parse_dates=[\"timestamp\"]\n",
    "    )\n",
    "\n",
    "    # Reindex the dataframe such that the dataframe has a record for every time point\n",
    "    # between the minimum and maximum timestamp in the time series. This helps to\n",
    "    # identify missing time periods in the data (there are none in this dataset).\n",
    "\n",
    "    energy.index = energy[\"timestamp\"]\n",
    "    energy = energy.reindex(\n",
    "        pd.date_range(min(energy[\"timestamp\"]), max(energy[\"timestamp\"]), freq=\"H\")\n",
    "    )\n",
    "    energy = energy.drop(\"timestamp\", axis=1)\n",
    "\n",
    "    return energy\n",
    "\n",
    "\n",
    "def mape(predictions, actuals):\n",
    "    \"\"\"Mean absolute percentage error\"\"\"\n",
    "    return ((predictions - actuals).abs() / actuals).mean()\n",
    "\n",
    "\n",
    "def create_evaluation_df(predictions, test_inputs, H, scaler):\n",
    "    \"\"\"Create a data frame for easy evaluation\"\"\"\n",
    "    eval_df = pd.DataFrame(\n",
    "        predictions, columns=[\"t+\" + str(t) for t in range(1, H + 1)]\n",
    "    )\n",
    "    eval_df[\"timestamp\"] = test_inputs.dataframe.index\n",
    "    eval_df = pd.melt(\n",
    "        eval_df, id_vars=\"timestamp\", value_name=\"prediction\", var_name=\"h\"\n",
    "    )\n",
    "    eval_df[\"actual\"] = np.transpose(test_inputs[\"target\"]).ravel()\n",
    "    eval_df[[\"prediction\", \"actual\"]] = scaler.inverse_transform(\n",
    "        eval_df[[\"prediction\", \"actual\"]]\n",
    "    )\n",
    "    return eval_df\n",
    "\n",
    "\n",
    "class TimeSeriesTensor(UserDict):\n",
    "    \"\"\"A dictionary of tensors for input into the RNN model.\n",
    "\n",
    "    Use this class to:\n",
    "      1. Shift the values of the time series to create a Pandas dataframe containing all the data\n",
    "         for a single training example\n",
    "      2. Discard any samples with missing values\n",
    "      3. Transform this Pandas dataframe into a numpy array of shape\n",
    "         (samples, time steps, features) for input into Keras\n",
    "\n",
    "    The class takes the following parameters:\n",
    "       - **dataset**: original time series\n",
    "       - **target** name of the target column\n",
    "       - **H**: the forecast horizon\n",
    "       - **tensor_structures**: a dictionary discribing the tensor structure of the form\n",
    "             { 'tensor_name' : (range(max_backward_shift, max_forward_shift), [feature, feature, ...] ) }\n",
    "             if features are non-sequential and should not be shifted, use the form\n",
    "             { 'tensor_name' : (None, [feature, feature, ...])}\n",
    "       - **freq**: time series frequency (default 'H' - hourly)\n",
    "       - **drop_incomplete**: (Boolean) whether to drop incomplete samples (default True)\n",
    "    \"\"\"\n",
    "\n",
    "    def __init__(\n",
    "        self, dataset, target, H, tensor_structure, freq=\"H\", drop_incomplete=True\n",
    "    ):\n",
    "        self.dataset = dataset\n",
    "        self.target = target\n",
    "        self.tensor_structure = tensor_structure\n",
    "        self.tensor_names = list(tensor_structure.keys())\n",
    "\n",
    "        self.dataframe = self._shift_data(H, freq, drop_incomplete)\n",
    "        self.data = self._df2tensors(self.dataframe)\n",
    "\n",
    "    def _shift_data(self, H, freq, drop_incomplete):\n",
    "\n",
    "        # Use the tensor_structures definitions to shift the features in the original dataset.\n",
    "        # The result is a Pandas dataframe with multi-index columns in the hierarchy\n",
    "        #     tensor - the name of the input tensor\n",
    "        #     feature - the input feature to be shifted\n",
    "        #     time step - the time step for the RNN in which the data is input. These labels\n",
    "        #         are centred on time t. the forecast creation time\n",
    "        df = self.dataset.copy()\n",
    "\n",
    "        idx_tuples = []\n",
    "        for t in range(1, H + 1):\n",
    "            df[\"t+\" + str(t)] = df[self.target].shift(t * -1, freq=freq)\n",
    "            idx_tuples.append((\"target\", \"y\", \"t+\" + str(t)))\n",
    "\n",
    "        for name, structure in self.tensor_structure.items():\n",
    "            rng = structure[0]\n",
    "            dataset_cols = structure[1]\n",
    "\n",
    "            for col in dataset_cols:\n",
    "\n",
    "                # do not shift non-sequential 'static' features\n",
    "                if rng is None:\n",
    "                    df[\"context_\" + col] = df[col]\n",
    "                    idx_tuples.append((name, col, \"static\"))\n",
    "\n",
    "                else:\n",
    "                    for t in rng:\n",
    "                        sign = \"+\" if t > 0 else \"\"\n",
    "                        shift = str(t) if t != 0 else \"\"\n",
    "                        period = \"t\" + sign + shift\n",
    "                        shifted_col = name + \"_\" + col + \"_\" + period\n",
    "                        df[shifted_col] = df[col].shift(t * -1, freq=freq)\n",
    "                        idx_tuples.append((name, col, period))\n",
    "\n",
    "        df = df.drop(self.dataset.columns, axis=1)\n",
    "        idx = pd.MultiIndex.from_tuples(\n",
    "            idx_tuples, names=[\"tensor\", \"feature\", \"time step\"]\n",
    "        )\n",
    "        df.columns = idx\n",
    "\n",
    "        if drop_incomplete:\n",
    "            df = df.dropna(how=\"any\")\n",
    "\n",
    "        return df\n",
    "\n",
    "    def _df2tensors(self, dataframe):\n",
    "\n",
    "        # Transform the shifted Pandas dataframe into the multidimensional numpy arrays. These\n",
    "        # arrays can be used to input into the keras model and can be accessed by tensor name.\n",
    "        # For example, for a TimeSeriesTensor object named \"model_inputs\" and a tensor named\n",
    "        # \"target\", the input tensor can be acccessed with model_inputs['target']\n",
    "\n",
    "        inputs = {}\n",
    "        y = dataframe[\"target\"]\n",
    "        y = y.to_numpy()\n",
    "        inputs[\"target\"] = y\n",
    "\n",
    "        for name, structure in self.tensor_structure.items():\n",
    "            rng = structure[0]\n",
    "            cols = structure[1]\n",
    "            tensor = dataframe[name][cols].to_numpy()\n",
    "            if rng is None:\n",
    "                tensor = tensor.reshape(tensor.shape[0], len(cols))\n",
    "            else:\n",
    "                tensor = tensor.reshape(tensor.shape[0], len(cols), len(rng))\n",
    "                tensor = np.transpose(tensor, axes=[0, 2, 1])\n",
    "            inputs[name] = tensor\n",
    "\n",
    "        return inputs\n",
    "\n",
    "    def subset_data(self, new_dataframe):\n",
    "\n",
    "        # Use this function to recreate the input tensors if the shifted dataframe\n",
    "        # has been filtered.\n",
    "\n",
    "        self.dataframe = new_dataframe\n",
    "        self.data = self._df2tensors(self.dataframe)"
   ]
  },
  {
   "cell_type": "code",
   "execution_count": 288,
   "metadata": {},
   "outputs": [],
   "source": [
    "import datetime as dt\n",
    "import os\n",
    "import sys\n",
    "import warnings\n",
    "from collections import UserDict\n",
    "\n",
    "import matplotlib.pyplot as plt\n",
    "import numpy as np\n",
    "import pandas as pd\n",
    "from IPython.display import Image\n",
    "\n",
    "%matplotlib inline\n",
    "\n",
    "pd.options.display.float_format = \"{:,.2f}\".format\n",
    "np.set_printoptions(precision=2)\n",
    "warnings.filterwarnings(\"ignore\")"
   ]
  },
  {
   "cell_type": "code",
   "execution_count": 289,
   "metadata": {},
   "outputs": [
    {
     "data": {
      "text/html": [
       "<div>\n",
       "<style scoped>\n",
       "    .dataframe tbody tr th:only-of-type {\n",
       "        vertical-align: middle;\n",
       "    }\n",
       "\n",
       "    .dataframe tbody tr th {\n",
       "        vertical-align: top;\n",
       "    }\n",
       "\n",
       "    .dataframe thead th {\n",
       "        text-align: right;\n",
       "    }\n",
       "</style>\n",
       "<table border=\"1\" class=\"dataframe\">\n",
       "  <thead>\n",
       "    <tr style=\"text-align: right;\">\n",
       "      <th></th>\n",
       "      <th>load</th>\n",
       "      <th>temp</th>\n",
       "    </tr>\n",
       "  </thead>\n",
       "  <tbody>\n",
       "    <tr>\n",
       "      <th>2012-01-01 00:00:00</th>\n",
       "      <td>2,698.00</td>\n",
       "      <td>32.00</td>\n",
       "    </tr>\n",
       "    <tr>\n",
       "      <th>2012-01-01 01:00:00</th>\n",
       "      <td>2,558.00</td>\n",
       "      <td>32.67</td>\n",
       "    </tr>\n",
       "    <tr>\n",
       "      <th>2012-01-01 02:00:00</th>\n",
       "      <td>2,444.00</td>\n",
       "      <td>30.00</td>\n",
       "    </tr>\n",
       "    <tr>\n",
       "      <th>2012-01-01 03:00:00</th>\n",
       "      <td>2,402.00</td>\n",
       "      <td>31.00</td>\n",
       "    </tr>\n",
       "    <tr>\n",
       "      <th>2012-01-01 04:00:00</th>\n",
       "      <td>2,403.00</td>\n",
       "      <td>32.00</td>\n",
       "    </tr>\n",
       "  </tbody>\n",
       "</table>\n",
       "</div>"
      ],
      "text/plain": [
       "                        load  temp\n",
       "2012-01-01 00:00:00 2,698.00 32.00\n",
       "2012-01-01 01:00:00 2,558.00 32.67\n",
       "2012-01-01 02:00:00 2,444.00 30.00\n",
       "2012-01-01 03:00:00 2,402.00 31.00\n",
       "2012-01-01 04:00:00 2,403.00 32.00"
      ]
     },
     "execution_count": 289,
     "metadata": {},
     "output_type": "execute_result"
    }
   ],
   "source": [
    "ts_data = load_data(data_dir)\n",
    "ts_data.head()"
   ]
  },
  {
   "cell_type": "markdown",
   "metadata": {},
   "source": [
    "Como se puede observar en la tabla anterior, ahora se tratando con un conjunto de datos multivariados, ya que tenemos dos variables, carga (`load`) y temperatura (`temp`). Ahora se necesita crear conjuntos de datos de validación y prueba, y definir el valor `T` (número de retrasos) y `HORIZON` (cuántas horas en el futuro queremos predecir)."
   ]
  },
  {
   "cell_type": "code",
   "execution_count": 290,
   "metadata": {},
   "outputs": [],
   "source": [
    "valid_st_data_load = '2014-09-01 00:00:00'\n",
    "test_st_data_load = '2014-11-01 00:00:00'\n",
    "T = 6\n",
    "HORIZON = 1"
   ]
  },
  {
   "cell_type": "markdown",
   "metadata": {},
   "source": [
    "Se crea el conjunto de datos de entrenamiento con las características de carga y temperatura, y se ajusta un escalador para los valores de y (objetivo)."
   ]
  },
  {
   "cell_type": "code",
   "execution_count": 291,
   "metadata": {},
   "outputs": [
    {
     "data": {
      "text/html": [
       "<style>#sk-container-id-10 {color: black;background-color: white;}#sk-container-id-10 pre{padding: 0;}#sk-container-id-10 div.sk-toggleable {background-color: white;}#sk-container-id-10 label.sk-toggleable__label {cursor: pointer;display: block;width: 100%;margin-bottom: 0;padding: 0.3em;box-sizing: border-box;text-align: center;}#sk-container-id-10 label.sk-toggleable__label-arrow:before {content: \"▸\";float: left;margin-right: 0.25em;color: #696969;}#sk-container-id-10 label.sk-toggleable__label-arrow:hover:before {color: black;}#sk-container-id-10 div.sk-estimator:hover label.sk-toggleable__label-arrow:before {color: black;}#sk-container-id-10 div.sk-toggleable__content {max-height: 0;max-width: 0;overflow: hidden;text-align: left;background-color: #f0f8ff;}#sk-container-id-10 div.sk-toggleable__content pre {margin: 0.2em;color: black;border-radius: 0.25em;background-color: #f0f8ff;}#sk-container-id-10 input.sk-toggleable__control:checked~div.sk-toggleable__content {max-height: 200px;max-width: 100%;overflow: auto;}#sk-container-id-10 input.sk-toggleable__control:checked~label.sk-toggleable__label-arrow:before {content: \"▾\";}#sk-container-id-10 div.sk-estimator input.sk-toggleable__control:checked~label.sk-toggleable__label {background-color: #d4ebff;}#sk-container-id-10 div.sk-label input.sk-toggleable__control:checked~label.sk-toggleable__label {background-color: #d4ebff;}#sk-container-id-10 input.sk-hidden--visually {border: 0;clip: rect(1px 1px 1px 1px);clip: rect(1px, 1px, 1px, 1px);height: 1px;margin: -1px;overflow: hidden;padding: 0;position: absolute;width: 1px;}#sk-container-id-10 div.sk-estimator {font-family: monospace;background-color: #f0f8ff;border: 1px dotted black;border-radius: 0.25em;box-sizing: border-box;margin-bottom: 0.5em;}#sk-container-id-10 div.sk-estimator:hover {background-color: #d4ebff;}#sk-container-id-10 div.sk-parallel-item::after {content: \"\";width: 100%;border-bottom: 1px solid gray;flex-grow: 1;}#sk-container-id-10 div.sk-label:hover label.sk-toggleable__label {background-color: #d4ebff;}#sk-container-id-10 div.sk-serial::before {content: \"\";position: absolute;border-left: 1px solid gray;box-sizing: border-box;top: 0;bottom: 0;left: 50%;z-index: 0;}#sk-container-id-10 div.sk-serial {display: flex;flex-direction: column;align-items: center;background-color: white;padding-right: 0.2em;padding-left: 0.2em;position: relative;}#sk-container-id-10 div.sk-item {position: relative;z-index: 1;}#sk-container-id-10 div.sk-parallel {display: flex;align-items: stretch;justify-content: center;background-color: white;position: relative;}#sk-container-id-10 div.sk-item::before, #sk-container-id-10 div.sk-parallel-item::before {content: \"\";position: absolute;border-left: 1px solid gray;box-sizing: border-box;top: 0;bottom: 0;left: 50%;z-index: -1;}#sk-container-id-10 div.sk-parallel-item {display: flex;flex-direction: column;z-index: 1;position: relative;background-color: white;}#sk-container-id-10 div.sk-parallel-item:first-child::after {align-self: flex-end;width: 50%;}#sk-container-id-10 div.sk-parallel-item:last-child::after {align-self: flex-start;width: 50%;}#sk-container-id-10 div.sk-parallel-item:only-child::after {width: 0;}#sk-container-id-10 div.sk-dashed-wrapped {border: 1px dashed gray;margin: 0 0.4em 0.5em 0.4em;box-sizing: border-box;padding-bottom: 0.4em;background-color: white;}#sk-container-id-10 div.sk-label label {font-family: monospace;font-weight: bold;display: inline-block;line-height: 1.2em;}#sk-container-id-10 div.sk-label-container {text-align: center;}#sk-container-id-10 div.sk-container {/* jupyter's `normalize.less` sets `[hidden] { display: none; }` but bootstrap.min.css set `[hidden] { display: none !important; }` so we also need the `!important` here to be able to override the default hidden behavior on the sphinx rendered scikit-learn.org. See: https://github.com/scikit-learn/scikit-learn/issues/21755 */display: inline-block !important;position: relative;}#sk-container-id-10 div.sk-text-repr-fallback {display: none;}</style><div id=\"sk-container-id-10\" class=\"sk-top-container\"><div class=\"sk-text-repr-fallback\"><pre>MinMaxScaler()</pre><b>In a Jupyter environment, please rerun this cell to show the HTML representation or trust the notebook. <br />On GitHub, the HTML representation is unable to render, please try loading this page with nbviewer.org.</b></div><div class=\"sk-container\" hidden><div class=\"sk-item\"><div class=\"sk-estimator sk-toggleable\"><input class=\"sk-toggleable__control sk-hidden--visually\" id=\"sk-estimator-id-10\" type=\"checkbox\" checked><label for=\"sk-estimator-id-10\" class=\"sk-toggleable__label sk-toggleable__label-arrow\">MinMaxScaler</label><div class=\"sk-toggleable__content\"><pre>MinMaxScaler()</pre></div></div></div></div></div>"
      ],
      "text/plain": [
       "MinMaxScaler()"
      ]
     },
     "execution_count": 291,
     "metadata": {},
     "output_type": "execute_result"
    }
   ],
   "source": [
    "from sklearn.preprocessing import MinMaxScaler\n",
    "y_scaler = MinMaxScaler()\n",
    "y_scaler.fit(train[[\"load\"]])"
   ]
  },
  {
   "cell_type": "markdown",
   "metadata": {},
   "source": [
    "También se escalan los datos de las características de entrada (los valores de carga y temperatura)."
   ]
  },
  {
   "cell_type": "code",
   "execution_count": 292,
   "metadata": {},
   "outputs": [],
   "source": [
    "train = ts_data.copy()[ts_data.index < valid_st_data_load][[\"load\", \"temp\"]]\n",
    "X_scaler = MinMaxScaler()\n",
    "train[[\"load\", \"temp\"]] = X_scaler.fit_transform(train)"
   ]
  },
  {
   "cell_type": "markdown",
   "metadata": {},
   "source": [
    "En el ejemplo, se usará la clase `TimeSeriesTensor` para realizar los siguientes pasos:\n",
    "\n",
    "1. Desplazar los valores de la serie temporal para crear un DataFrame de pandas que contenga todos los datos de un solo ejemplo de entrenamiento.\n",
    "2. Descartar cualquier muestra con valores faltantes.\n",
    "3. Transformar este DataFrame de pandas en una matriz NumPy de forma (muestras, pasos de tiempo y características) para la entrada en Keras.\n",
    "\n",
    "Esta clase toma los siguientes parámetros,\n",
    "\n",
    "- dataset: serie temporal original.\n",
    "- H: el horizonte de pronóstico.\n",
    "- tensor_structure: un diccionario que describe la estructura del tensor en la forma { 'nombre_del_tensor' : (rango(max_backward_shift, max_forward_shift), [característica, característica, ...] ) }\n",
    "- freq: frecuencia de la serie temporal.\n",
    "- drop_incomplete: (Boolean) si se deben descartar las muestras incompletas."
   ]
  },
  {
   "cell_type": "code",
   "execution_count": 293,
   "metadata": {},
   "outputs": [],
   "source": [
    "tensor_structure = {\"X\": (range(-T + 1, 1), [\"load\", \"temp\"])}\n",
    "ts_train_inp = TimeSeriesTensor(\n",
    "    dataset=train,\n",
    "    target=\"load\",\n",
    "    H=HORIZON,\n",
    "    tensor_structure=tensor_structure,\n",
    "    freq=\"H\",\n",
    "    drop_incomplete=True,\n",
    ")"
   ]
  },
  {
   "cell_type": "markdown",
   "metadata": {},
   "source": [
    "Finalmente, se define el conjunto de datos de validación."
   ]
  },
  {
   "cell_type": "code",
   "execution_count": 294,
   "metadata": {},
   "outputs": [],
   "source": [
    "back_ts_data = dt.datetime.strptime(valid_st_data_load, \"%Y-%m-%d %H:%M:%S\") - dt.timedelta(\n",
    "    hours=T - 1\n",
    ")\n",
    "valid = ts_data.copy()[(ts_data.index >= back_ts_data) & (ts_data.index < test_st_data_load)][\n",
    "    [\"load\", \"temp\"]\n",
    "]\n",
    "valid[[\"load\", \"temp\"]] = X_scaler.transform(valid)\n",
    "valid_inputs = TimeSeriesTensor(valid, \"load\", HORIZON, tensor_structure)"
   ]
  },
  {
   "cell_type": "markdown",
   "metadata": {},
   "source": [
    "Ahora se puede implementar un modelo simple de pronóstico RNN para el escenario de pronóstico multivariado.\n",
    "\n",
    "Ahora, se importan los paquetes de Keras necesarios, se define la dimensión latente, el tamaño del lote y las épocas para el modelo, y se define el propio modelo:"
   ]
  },
  {
   "cell_type": "code",
   "execution_count": 295,
   "metadata": {},
   "outputs": [],
   "source": [
    "# Import necessary packages\n",
    "from keras.models import Model, Sequential\n",
    "from keras.layers import GRU, Dense\n",
    "from keras.callbacks import EarlyStopping\n",
    "# Define parameters\n",
    "LATENT_DIM = 5\n",
    "BATCH_SIZE = 32\n",
    "EPOCHS = 50\n",
    "#Define model\n",
    "model = Sequential()\n",
    "model.add(GRU(LATENT_DIM, input_shape=(T, 2)))\n",
    "model.add(Dense(HORIZON))"
   ]
  },
  {
   "cell_type": "markdown",
   "metadata": {},
   "source": [
    "Ahora se puede compilar el modelo, especificando la función de pérdida y los optimizadores, y llamando a la función `compile()` en el modelo. Además, se puede ver un resumen del modelo."
   ]
  },
  {
   "cell_type": "code",
   "execution_count": 296,
   "metadata": {},
   "outputs": [
    {
     "name": "stdout",
     "output_type": "stream",
     "text": [
      "Model: \"sequential_11\"\n",
      "_________________________________________________________________\n",
      " Layer (type)                Output Shape              Param #   \n",
      "=================================================================\n",
      " gru_11 (GRU)                (None, 5)                 135       \n",
      "                                                                 \n",
      " dense_11 (Dense)            (None, 1)                 6         \n",
      "                                                                 \n",
      "=================================================================\n",
      "Total params: 141 (564.00 Byte)\n",
      "Trainable params: 141 (564.00 Byte)\n",
      "Non-trainable params: 0 (0.00 Byte)\n",
      "_________________________________________________________________\n"
     ]
    }
   ],
   "source": [
    "model.compile(optimizer='RMSprop', loss='mse')\n",
    "model.summary()"
   ]
  },
  {
   "cell_type": "markdown",
   "metadata": {},
   "source": [
    "Ahora se puede ajustar el modelo multivariado y entrenarlo en una muestra de datos llamando a la función `fit()` en el modelo:"
   ]
  },
  {
   "cell_type": "code",
   "execution_count": 297,
   "metadata": {},
   "outputs": [],
   "source": [
    "earlystop = EarlyStopping(monitor=\"val_loss\", min_delta=0, patience=5)"
   ]
  },
  {
   "cell_type": "code",
   "execution_count": 298,
   "metadata": {},
   "outputs": [
    {
     "name": "stdout",
     "output_type": "stream",
     "text": [
      "Epoch 1/50\n"
     ]
    },
    {
     "name": "stdout",
     "output_type": "stream",
     "text": [
      "731/731 [==============================] - 8s 7ms/step - loss: 0.0070 - val_loss: 0.0013\n",
      "Epoch 2/50\n",
      "731/731 [==============================] - 4s 6ms/step - loss: 0.0011 - val_loss: 9.1167e-04\n",
      "Epoch 3/50\n",
      "731/731 [==============================] - 4s 6ms/step - loss: 8.2647e-04 - val_loss: 6.5547e-04\n",
      "Epoch 4/50\n",
      "731/731 [==============================] - 4s 6ms/step - loss: 7.0660e-04 - val_loss: 5.4762e-04\n",
      "Epoch 5/50\n",
      "731/731 [==============================] - 4s 5ms/step - loss: 6.5213e-04 - val_loss: 5.3610e-04\n",
      "Epoch 6/50\n",
      "731/731 [==============================] - 4s 6ms/step - loss: 6.1472e-04 - val_loss: 5.5904e-04\n",
      "Epoch 7/50\n",
      "731/731 [==============================] - 4s 6ms/step - loss: 5.9403e-04 - val_loss: 7.8847e-04\n",
      "Epoch 8/50\n",
      "731/731 [==============================] - 4s 6ms/step - loss: 5.7900e-04 - val_loss: 5.8914e-04\n",
      "Epoch 9/50\n",
      "731/731 [==============================] - 4s 5ms/step - loss: 5.6795e-04 - val_loss: 6.0793e-04\n",
      "Epoch 10/50\n",
      "731/731 [==============================] - 4s 6ms/step - loss: 5.6213e-04 - val_loss: 4.8981e-04\n",
      "Epoch 11/50\n",
      "731/731 [==============================] - 4s 6ms/step - loss: 5.5258e-04 - val_loss: 4.7555e-04\n",
      "Epoch 12/50\n",
      "731/731 [==============================] - 4s 5ms/step - loss: 5.4897e-04 - val_loss: 4.6591e-04\n",
      "Epoch 13/50\n",
      "731/731 [==============================] - 4s 5ms/step - loss: 5.4551e-04 - val_loss: 6.9376e-04\n",
      "Epoch 14/50\n",
      "731/731 [==============================] - 4s 5ms/step - loss: 5.3741e-04 - val_loss: 5.5264e-04\n",
      "Epoch 15/50\n",
      "731/731 [==============================] - 4s 5ms/step - loss: 5.3503e-04 - val_loss: 4.6859e-04\n",
      "Epoch 16/50\n",
      "731/731 [==============================] - 4s 6ms/step - loss: 5.3531e-04 - val_loss: 5.4432e-04\n",
      "Epoch 17/50\n",
      "731/731 [==============================] - 4s 6ms/step - loss: 5.3243e-04 - val_loss: 4.5544e-04\n",
      "Epoch 18/50\n",
      "731/731 [==============================] - 4s 5ms/step - loss: 5.2400e-04 - val_loss: 5.5188e-04\n",
      "Epoch 19/50\n",
      "731/731 [==============================] - 4s 5ms/step - loss: 5.2389e-04 - val_loss: 4.5665e-04\n",
      "Epoch 20/50\n",
      "731/731 [==============================] - 4s 5ms/step - loss: 5.2285e-04 - val_loss: 4.6350e-04\n",
      "Epoch 21/50\n",
      "731/731 [==============================] - 4s 5ms/step - loss: 5.1918e-04 - val_loss: 5.1805e-04\n",
      "Epoch 22/50\n",
      "731/731 [==============================] - 4s 5ms/step - loss: 5.1666e-04 - val_loss: 7.5261e-04\n"
     ]
    }
   ],
   "source": [
    "model_history = model.fit(\n",
    "    ts_train_inp[\"X\"],\n",
    "    ts_train_inp[\"target\"],\n",
    "    batch_size=BATCH_SIZE,\n",
    "    epochs=EPOCHS,\n",
    "    validation_data=(valid_inputs[\"X\"], valid_inputs[\"target\"]),\n",
    "    callbacks=[earlystop],\n",
    "    verbose=1,\n",
    ")"
   ]
  },
  {
   "cell_type": "markdown",
   "metadata": {},
   "source": [
    "Una vez definido el modelo, se usar para generar predicciones en nuevos datos llamando a funciones como `evaluate()`:"
   ]
  },
  {
   "cell_type": "code",
   "execution_count": 299,
   "metadata": {},
   "outputs": [
    {
     "name": "stdout",
     "output_type": "stream",
     "text": [
      "46/46 [==============================] - 1s 3ms/step\n"
     ]
    },
    {
     "data": {
      "text/html": [
       "<div>\n",
       "<style scoped>\n",
       "    .dataframe tbody tr th:only-of-type {\n",
       "        vertical-align: middle;\n",
       "    }\n",
       "\n",
       "    .dataframe tbody tr th {\n",
       "        vertical-align: top;\n",
       "    }\n",
       "\n",
       "    .dataframe thead th {\n",
       "        text-align: right;\n",
       "    }\n",
       "</style>\n",
       "<table border=\"1\" class=\"dataframe\">\n",
       "  <thead>\n",
       "    <tr style=\"text-align: right;\">\n",
       "      <th></th>\n",
       "      <th>timestamp</th>\n",
       "      <th>h</th>\n",
       "      <th>prediction</th>\n",
       "      <th>actual</th>\n",
       "    </tr>\n",
       "  </thead>\n",
       "  <tbody>\n",
       "    <tr>\n",
       "      <th>0</th>\n",
       "      <td>2014-11-01 05:00:00</td>\n",
       "      <td>t+1</td>\n",
       "      <td>0.23</td>\n",
       "      <td>0.23</td>\n",
       "    </tr>\n",
       "    <tr>\n",
       "      <th>1</th>\n",
       "      <td>2014-11-01 06:00:00</td>\n",
       "      <td>t+1</td>\n",
       "      <td>0.31</td>\n",
       "      <td>0.31</td>\n",
       "    </tr>\n",
       "    <tr>\n",
       "      <th>2</th>\n",
       "      <td>2014-11-01 07:00:00</td>\n",
       "      <td>t+1</td>\n",
       "      <td>0.40</td>\n",
       "      <td>0.37</td>\n",
       "    </tr>\n",
       "    <tr>\n",
       "      <th>3</th>\n",
       "      <td>2014-11-01 08:00:00</td>\n",
       "      <td>t+1</td>\n",
       "      <td>0.43</td>\n",
       "      <td>0.42</td>\n",
       "    </tr>\n",
       "    <tr>\n",
       "      <th>4</th>\n",
       "      <td>2014-11-01 09:00:00</td>\n",
       "      <td>t+1</td>\n",
       "      <td>0.48</td>\n",
       "      <td>0.45</td>\n",
       "    </tr>\n",
       "  </tbody>\n",
       "</table>\n",
       "</div>"
      ],
      "text/plain": [
       "            timestamp    h  prediction  actual\n",
       "0 2014-11-01 05:00:00  t+1        0.23    0.23\n",
       "1 2014-11-01 06:00:00  t+1        0.31    0.31\n",
       "2 2014-11-01 07:00:00  t+1        0.40    0.37\n",
       "3 2014-11-01 08:00:00  t+1        0.43    0.42\n",
       "4 2014-11-01 09:00:00  t+1        0.48    0.45"
      ]
     },
     "execution_count": 299,
     "metadata": {},
     "output_type": "execute_result"
    }
   ],
   "source": [
    "back_ts_data = dt.datetime.strptime(test_st_data_load, '%Y-%m-%d %H:%M:%S')\n",
    "- dt.timedelta(hours=T-1)\n",
    "\n",
    "ts_data_test = ts_data.copy()[test_st_data_load:][['load', 'temp']]\n",
    "ts_data_test[['load', 'temp']] = X_scaler.transform(ts_data_test)\n",
    "test_inputs = TimeSeriesTensor(ts_data_test, 'load', HORIZON, tensor_structure)\n",
    "\n",
    "ts_predictions = model.predict(test_inputs['X'])\n",
    "\n",
    "ev_ts_data = create_evaluation_df(ts_predictions, test_inputs, HORIZON,y_scaler)\n",
    "ev_ts_data.head()"
   ]
  },
  {
   "cell_type": "markdown",
   "metadata": {},
   "source": [
    "Para visualizar la precisión general del modelo, se puede calcular el MAPE."
   ]
  },
  {
   "cell_type": "code",
   "execution_count": 300,
   "metadata": {},
   "outputs": [
    {
     "data": {
      "text/plain": [
       "0.057485123263090764"
      ]
     },
     "execution_count": 300,
     "metadata": {},
     "output_type": "execute_result"
    }
   ],
   "source": [
    "mape(ev_ts_data['prediction'], ev_ts_data['actual'])"
   ]
  },
  {
   "cell_type": "markdown",
   "metadata": {},
   "source": [
    "El MAPE es 0.057, lo que indica que el modelo es un 94.3 por ciento preciso. Es importante señalar que, aunque se decidió agregar una variable al modelo para hacerlo multivariado, el rendimiento del modelo no mejoró."
   ]
  }
 ],
 "metadata": {
  "kernelspec": {
   "display_name": "Python 3",
   "language": "python",
   "name": "python3"
  },
  "language_info": {
   "codemirror_mode": {
    "name": "ipython",
    "version": 3
   },
   "file_extension": ".py",
   "mimetype": "text/x-python",
   "name": "python",
   "nbconvert_exporter": "python",
   "pygments_lexer": "ipython3",
   "version": "3.10.10"
  }
 },
 "nbformat": 4,
 "nbformat_minor": 2
}
